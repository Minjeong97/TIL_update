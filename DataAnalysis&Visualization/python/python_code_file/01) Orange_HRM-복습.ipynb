{
 "cells": [
  {
   "cell_type": "markdown",
   "id": "7c7f80f4",
   "metadata": {},
   "source": [
    "## Selenium(셀레늄) WebDriver"
   ]
  },
  {
   "cell_type": "markdown",
   "id": "994de295",
   "metadata": {},
   "source": [
    "##### 웹드라이버란?"
   ]
  },
  {
   "cell_type": "markdown",
   "id": "2fcbe084",
   "metadata": {},
   "source": [
    "* 웹드라이버는 셀레늄의 한 구성 요소\n",
    "\n",
    "* 웹드라이버는 모듈\n",
    "\n",
    "* 브라우저 엔진의 한 종류\n",
    "\n",
    "> Firefox browser -> Firefox()\n",
    ">\n",
    "> Chrome browser -> Chrome()\n",
    ">\n",
    "> Edge --> Edge()\n",
    "\n",
    "* 웹드라이버는 API(Application Programming Interface)"
   ]
  },
  {
   "cell_type": "markdown",
   "id": "dcc6116c",
   "metadata": {},
   "source": [
    "### Test Case\n",
    "\n",
    "1) Open Web Browser(Chrome/FF/Edge)\n",
    "\n",
    "2) Open URL https://admin-demo.nopcommerce.com/login\n",
    "\n",
    "3) Provide Email (admin@yourstore.com)\n",
    "\n",
    "4) Provide password (admin). \n",
    "\n",
    "5) Click on Login.\n",
    "\n",
    "6) Capture title of the dashboard page. (Actual title)\n",
    "\n",
    "7) Verify title of the page: \"Dashboard /  nopCommerce administration\" (Expected)\n",
    "\n",
    "8) close browser"
   ]
  },
  {
   "cell_type": "markdown",
   "id": "a45dec20",
   "metadata": {},
   "source": [
    "Architecture of WebDriver\n",
    "-----------------------\n",
    "Selenium 3\n",
    "\n",
    "Selenium Language bindings -- JSON Wire protocal --> Browser drivers --- w3c --> Browsers\n",
    "\n",
    "Selenium 4\n",
    "\n",
    "Selenium Language bindings -- w3c --> Browser drivers --- w3c --> Browsers"
   ]
  },
  {
   "cell_type": "code",
   "execution_count": 1,
   "id": "bb51f42f",
   "metadata": {},
   "outputs": [],
   "source": [
    "# selenium ver 4\n",
    "\n",
    "from selenium.webdriver.chrome.service import Service\n",
    "from selenium import webdriver\n",
    "from selenium.webdriver.common.by import By\n",
    "\n",
    "import time"
   ]
  },
  {
   "cell_type": "code",
   "execution_count": 9,
   "id": "42f8ef67",
   "metadata": {},
   "outputs": [
    {
     "name": "stderr",
     "output_type": "stream",
     "text": [
      "C:\\Users\\TECH2-31\\AppData\\Local\\Temp\\ipykernel_2548\\1266577890.py:1: DeprecationWarning: executable_path has been deprecated, please pass in a Service object\n",
      "  driver = webdriver.Chrome('.//chromedriver.exe')\n"
     ]
    },
    {
     "name": "stdout",
     "output_type": "stream",
     "text": [
      "Login Test is okay\n"
     ]
    }
   ],
   "source": [
    "driver = webdriver.Chrome('.//chromedriver.exe') \n",
    "driver.get('https://opensource-demo.orangehrmlive.com/')\n",
    "\n",
    "# 너무 빨리 결과를 요청했기 때문에\n",
    "# 홈페이지가 뜨지도 않았음....\n",
    "# solution -> time sleep을 줘보자....\n",
    "\n",
    "time.sleep(1.6)\n",
    "driver.find_element(By.NAME, 'username').send_keys('Admin') # 셀레늄 4버전의 문법\n",
    "time.sleep(1.7)\n",
    "driver.find_element(By.NAME, 'password').send_keys('admin123') # 셀레늄 4버전의 문법\n",
    "time.sleep(1.43)\n",
    "driver.find_element(By.XPATH, '//*[@id=\"app\"]/div[1]/div/div[1]/div/div[2]/div[2]/form/div[3]/button').click()\n",
    "\n",
    "# check the title\n",
    "act_title = driver.title\n",
    "exp_title = 'OrangeHRM'\n",
    "\n",
    "if act_title==exp_title:\n",
    "    print('Login Test is okay')\n",
    "    \n",
    "else:\n",
    "    print('Nokay')\n",
    "    \n",
    "driver.close()"
   ]
  }
 ],
 "metadata": {
  "kernelspec": {
   "display_name": "Python 3 (ipykernel)",
   "language": "python",
   "name": "python3"
  },
  "language_info": {
   "codemirror_mode": {
    "name": "ipython",
    "version": 3
   },
   "file_extension": ".py",
   "mimetype": "text/x-python",
   "name": "python",
   "nbconvert_exporter": "python",
   "pygments_lexer": "ipython3",
   "version": "3.10.9"
  }
 },
 "nbformat": 4,
 "nbformat_minor": 5
}
