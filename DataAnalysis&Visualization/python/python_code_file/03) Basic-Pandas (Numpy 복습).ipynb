{
 "cells": [
  {
   "cell_type": "code",
   "execution_count": 5,
   "id": "8bcec9a9",
   "metadata": {},
   "outputs": [
    {
     "name": "stdout",
     "output_type": "stream",
     "text": [
      "원본 행렬: [3 1 9 5]\n",
      "np.sort() 호출 후, 반환된 정렬행렬: [1 3 5 9]\n",
      "np.sort() 호출 후, 반환된 정렬행렬: [3 1 9 5]\n",
      "sort() 호출 후, 반환된 정렬행렬: None\n",
      "sort() 호출 후, 반환된 정렬행렬: [1 3 5 9]\n"
     ]
    }
   ],
   "source": [
    "import numpy as np\n",
    "\n",
    "org_array = np.array([3,1,9,5])\n",
    "print('원본 행렬:', org_array)\n",
    "\n",
    "# np.sort()로 정렬 - 원본 불변\n",
    "sort_array1 = np.sort(org_array)\n",
    "print('np.sort() 호출 후, 반환된 정렬행렬:', sort_array1)\n",
    "print('np.sort() 호출 후, 반환된 정렬행렬:', org_array)\n",
    "\n",
    "# ndarray.sort()로 정렬 - 원본 유변\n",
    "sort_array2 = org_array.sort()\n",
    "print('sort() 호출 후, 반환된 정렬행렬:', sort_array2)\n",
    "print('sort() 호출 후, 반환된 정렬행렬:', org_array)"
   ]
  },
  {
   "cell_type": "code",
   "execution_count": 6,
   "id": "6c5bb5dd",
   "metadata": {},
   "outputs": [],
   "source": [
    "def add(a,b):\n",
    "    print('%d와 %d d의 합은 %d입니다.' %(a,b, a+b))"
   ]
  },
  {
   "cell_type": "code",
   "execution_count": 7,
   "id": "09ad45d7",
   "metadata": {},
   "outputs": [
    {
     "name": "stdout",
     "output_type": "stream",
     "text": [
      "3와 4 d의 합은 7입니다.\n"
     ]
    }
   ],
   "source": [
    "abc = add(3,4)"
   ]
  },
  {
   "cell_type": "code",
   "execution_count": 9,
   "id": "5b62daaa",
   "metadata": {},
   "outputs": [
    {
     "name": "stdout",
     "output_type": "stream",
     "text": [
      "내림차순 정렬: [9 5 3 1]\n"
     ]
    }
   ],
   "source": [
    "# 내림차순 정렬\n",
    "desc_array1 = np.sort(org_array)[::-1]\n",
    "print('내림차순 정렬:', desc_array1)"
   ]
  },
  {
   "cell_type": "code",
   "execution_count": 12,
   "id": "d964f62e",
   "metadata": {},
   "outputs": [
    {
     "name": "stdout",
     "output_type": "stream",
     "text": [
      "axis=0 (row):\n",
      " [[ 7  1]\n",
      " [ 8 12]]\n",
      "axis=1 (col):\n",
      " [[ 8 12]\n",
      " [ 1  7]]\n"
     ]
    }
   ],
   "source": [
    "# axis에 따른 정렬 - 2차원\n",
    "array2d = np.array([[8,12], \n",
    "                   [7,1]])\n",
    "\n",
    "# row 방향: 행 기준으로 위아래 비교\n",
    "sort_array2d_ax0 = np.sort(array2d, axis=0)\n",
    "print('axis=0 (row):\\n', sort_array2d_ax0)\n",
    "\n",
    "# col 방향: 열 기준으로 양옆 비교\n",
    "sort_array2d_ax1 = np.sort(array2d, axis=1)\n",
    "print('axis=1 (col):\\n', sort_array2d_ax1)"
   ]
  },
  {
   "cell_type": "markdown",
   "id": "5fa61041",
   "metadata": {},
   "source": [
    "* argsort() 함수: 정렬된 행렬의 인덱스 변환"
   ]
  },
  {
   "cell_type": "code",
   "execution_count": 14,
   "id": "29203683",
   "metadata": {},
   "outputs": [
    {
     "name": "stdout",
     "output_type": "stream",
     "text": [
      "<class 'numpy.ndarray'>\n",
      "행렬 정렬 후, 원본 행렬의 인덱스: [1 0 3 2]\n"
     ]
    }
   ],
   "source": [
    "# \n",
    "org_array = np.array([3,1,9,5])  # --> 1 3 9 5\n",
    "                    # 0 1 2 3    # --> 1 0 3 2\n",
    "sort_indices = np.argsort(org_array)\n",
    "print(type(sort_indices))\n",
    "print('행렬 정렬 후, 원본 행렬의 인덱스:', sort_indices)"
   ]
  },
  {
   "cell_type": "markdown",
   "id": "f91e33de",
   "metadata": {},
   "source": [
    "###  행렬의 내적 (:: 행렬곱)"
   ]
  },
  {
   "cell_type": "code",
   "execution_count": 15,
   "id": "87f7bc9c",
   "metadata": {},
   "outputs": [
    {
     "data": {
      "text/plain": [
       "array([[ 58,  64],\n",
       "       [139, 154]])"
      ]
     },
     "execution_count": 15,
     "metadata": {},
     "output_type": "execute_result"
    }
   ],
   "source": [
    "# 2 X 3\n",
    "A = np.array([[1,2,3],\n",
    "             [4,5,6]])\n",
    "\n",
    "# 3 X n\n",
    "B = np.array([[7,8],\n",
    "             [9,10],\n",
    "             [11,12]])\n",
    "\n",
    "np.dot(A,B)"
   ]
  },
  {
   "cell_type": "markdown",
   "id": "1e9cce84",
   "metadata": {},
   "source": [
    "###  전치행렬 (Transpose)"
   ]
  },
  {
   "cell_type": "code",
   "execution_count": 20,
   "id": "1aeac7da",
   "metadata": {},
   "outputs": [
    {
     "data": {
      "text/plain": [
       "(array([[1, 3],\n",
       "        [2, 4]]),\n",
       " array([[1, 3, 5],\n",
       "        [2, 4, 6]]))"
      ]
     },
     "execution_count": 20,
     "metadata": {},
     "output_type": "execute_result"
    }
   ],
   "source": [
    "A = np.array([[1,2],\n",
    "             [3,4]])\n",
    "\n",
    "tra_A = np.transpose(A)\n",
    "\n",
    "B = np.array([[1,2],\n",
    "             [3,4],\n",
    "             [5,6]])\n",
    "\n",
    "tra_B = np.transpose(B)\n",
    "\n",
    "tra_A, tra_B"
   ]
  },
  {
   "cell_type": "markdown",
   "id": "040da8c7",
   "metadata": {},
   "source": [
    "### Pandas - index"
   ]
  },
  {
   "cell_type": "code",
   "execution_count": 21,
   "id": "d44797f4",
   "metadata": {},
   "outputs": [],
   "source": [
    "data = {'Name':['Chulmin','Eunkyoung','Jiwoong','Soobeom'],\n",
    "        'Year':[2011,2016,2015,2015],\n",
    "        'Gender':['Male','Female','Male','Male'],\n",
    "        }"
   ]
  },
  {
   "cell_type": "code",
   "execution_count": 22,
   "id": "81f2601d",
   "metadata": {},
   "outputs": [
    {
     "data": {
      "text/html": [
       "<div>\n",
       "<style scoped>\n",
       "    .dataframe tbody tr th:only-of-type {\n",
       "        vertical-align: middle;\n",
       "    }\n",
       "\n",
       "    .dataframe tbody tr th {\n",
       "        vertical-align: top;\n",
       "    }\n",
       "\n",
       "    .dataframe thead th {\n",
       "        text-align: right;\n",
       "    }\n",
       "</style>\n",
       "<table border=\"1\" class=\"dataframe\">\n",
       "  <thead>\n",
       "    <tr style=\"text-align: right;\">\n",
       "      <th></th>\n",
       "      <th>Name</th>\n",
       "      <th>Year</th>\n",
       "      <th>Gender</th>\n",
       "    </tr>\n",
       "  </thead>\n",
       "  <tbody>\n",
       "    <tr>\n",
       "      <th>one</th>\n",
       "      <td>Chulmin</td>\n",
       "      <td>2011</td>\n",
       "      <td>Male</td>\n",
       "    </tr>\n",
       "    <tr>\n",
       "      <th>two</th>\n",
       "      <td>Eunkyoung</td>\n",
       "      <td>2016</td>\n",
       "      <td>Female</td>\n",
       "    </tr>\n",
       "    <tr>\n",
       "      <th>three</th>\n",
       "      <td>Jiwoong</td>\n",
       "      <td>2015</td>\n",
       "      <td>Male</td>\n",
       "    </tr>\n",
       "    <tr>\n",
       "      <th>four</th>\n",
       "      <td>Soobeom</td>\n",
       "      <td>2015</td>\n",
       "      <td>Male</td>\n",
       "    </tr>\n",
       "  </tbody>\n",
       "</table>\n",
       "</div>"
      ],
      "text/plain": [
       "            Name  Year  Gender\n",
       "one      Chulmin  2011    Male\n",
       "two    Eunkyoung  2016  Female\n",
       "three    Jiwoong  2015    Male\n",
       "four     Soobeom  2015    Male"
      ]
     },
     "execution_count": 22,
     "metadata": {},
     "output_type": "execute_result"
    }
   ],
   "source": [
    "import pandas as pd\n",
    "\n",
    "data_df = pd.DataFrame(data, index=['one','two','three','four'])\n",
    "data_df"
   ]
  },
  {
   "cell_type": "code",
   "execution_count": 37,
   "id": "af173a0e",
   "metadata": {},
   "outputs": [
    {
     "data": {
      "text/html": [
       "<div>\n",
       "<style scoped>\n",
       "    .dataframe tbody tr th:only-of-type {\n",
       "        vertical-align: middle;\n",
       "    }\n",
       "\n",
       "    .dataframe tbody tr th {\n",
       "        vertical-align: top;\n",
       "    }\n",
       "\n",
       "    .dataframe thead th {\n",
       "        text-align: right;\n",
       "    }\n",
       "</style>\n",
       "<table border=\"1\" class=\"dataframe\">\n",
       "  <thead>\n",
       "    <tr style=\"text-align: right;\">\n",
       "      <th></th>\n",
       "      <th>Name</th>\n",
       "      <th>Year</th>\n",
       "    </tr>\n",
       "  </thead>\n",
       "  <tbody>\n",
       "    <tr>\n",
       "      <th>one</th>\n",
       "      <td>Chulmin</td>\n",
       "      <td>2011</td>\n",
       "    </tr>\n",
       "    <tr>\n",
       "      <th>two</th>\n",
       "      <td>Eunkyoung</td>\n",
       "      <td>2016</td>\n",
       "    </tr>\n",
       "    <tr>\n",
       "      <th>three</th>\n",
       "      <td>Jiwoong</td>\n",
       "      <td>2015</td>\n",
       "    </tr>\n",
       "    <tr>\n",
       "      <th>four</th>\n",
       "      <td>Soobeom</td>\n",
       "      <td>2015</td>\n",
       "    </tr>\n",
       "  </tbody>\n",
       "</table>\n",
       "</div>"
      ],
      "text/plain": [
       "            Name  Year\n",
       "one      Chulmin  2011\n",
       "two    Eunkyoung  2016\n",
       "three    Jiwoong  2015\n",
       "four     Soobeom  2015"
      ]
     },
     "execution_count": 37,
     "metadata": {},
     "output_type": "execute_result"
    }
   ],
   "source": [
    "# indexing - 1. col(열)은 컬럼명으로\n",
    "data_df[['Name', 'Year']]"
   ]
  },
  {
   "cell_type": "code",
   "execution_count": 38,
   "id": "a33f7d55",
   "metadata": {},
   "outputs": [
    {
     "data": {
      "text/html": [
       "<div>\n",
       "<style scoped>\n",
       "    .dataframe tbody tr th:only-of-type {\n",
       "        vertical-align: middle;\n",
       "    }\n",
       "\n",
       "    .dataframe tbody tr th {\n",
       "        vertical-align: top;\n",
       "    }\n",
       "\n",
       "    .dataframe thead th {\n",
       "        text-align: right;\n",
       "    }\n",
       "</style>\n",
       "<table border=\"1\" class=\"dataframe\">\n",
       "  <thead>\n",
       "    <tr style=\"text-align: right;\">\n",
       "      <th></th>\n",
       "      <th>Name</th>\n",
       "      <th>Year</th>\n",
       "      <th>Gender</th>\n",
       "    </tr>\n",
       "  </thead>\n",
       "  <tbody>\n",
       "    <tr>\n",
       "      <th>one</th>\n",
       "      <td>Chulmin</td>\n",
       "      <td>2011</td>\n",
       "      <td>Male</td>\n",
       "    </tr>\n",
       "    <tr>\n",
       "      <th>two</th>\n",
       "      <td>Eunkyoung</td>\n",
       "      <td>2016</td>\n",
       "      <td>Female</td>\n",
       "    </tr>\n",
       "    <tr>\n",
       "      <th>three</th>\n",
       "      <td>Jiwoong</td>\n",
       "      <td>2015</td>\n",
       "      <td>Male</td>\n",
       "    </tr>\n",
       "  </tbody>\n",
       "</table>\n",
       "</div>"
      ],
      "text/plain": [
       "            Name  Year  Gender\n",
       "one      Chulmin  2011    Male\n",
       "two    Eunkyoung  2016  Female\n",
       "three    Jiwoong  2015    Male"
      ]
     },
     "execution_count": 38,
     "metadata": {},
     "output_type": "execute_result"
    }
   ],
   "source": [
    "# indexing - 2. row(행)은 오직 슬라이싱만!\n",
    "data_df[0:3]"
   ]
  },
  {
   "cell_type": "code",
   "execution_count": 40,
   "id": "4fc6be52",
   "metadata": {},
   "outputs": [
    {
     "data": {
      "text/plain": [
       "'Jiwoong'"
      ]
     },
     "execution_count": 40,
     "metadata": {},
     "output_type": "execute_result"
    }
   ],
   "source": [
    "# 단일값 불러오기\n",
    "\n",
    "# loc(label::명칭 기반)\n",
    "data_df.loc['three', 'Name']\n",
    "\n",
    "# iloc(positional indexing::위치 기반)\n",
    "data_df.iloc[2, 0]\n"
   ]
  },
  {
   "cell_type": "markdown",
   "id": "09ce0105",
   "metadata": {},
   "source": [
    "#### example"
   ]
  },
  {
   "cell_type": "code",
   "execution_count": 41,
   "id": "d6903fa1",
   "metadata": {},
   "outputs": [
    {
     "data": {
      "text/html": [
       "<div>\n",
       "<style scoped>\n",
       "    .dataframe tbody tr th:only-of-type {\n",
       "        vertical-align: middle;\n",
       "    }\n",
       "\n",
       "    .dataframe tbody tr th {\n",
       "        vertical-align: top;\n",
       "    }\n",
       "\n",
       "    .dataframe thead th {\n",
       "        text-align: right;\n",
       "    }\n",
       "</style>\n",
       "<table border=\"1\" class=\"dataframe\">\n",
       "  <thead>\n",
       "    <tr style=\"text-align: right;\">\n",
       "      <th></th>\n",
       "      <th>Name</th>\n",
       "      <th>Year</th>\n",
       "      <th>Gender</th>\n",
       "    </tr>\n",
       "  </thead>\n",
       "  <tbody>\n",
       "    <tr>\n",
       "      <th>one</th>\n",
       "      <td>Chulmin</td>\n",
       "      <td>2011</td>\n",
       "      <td>Male</td>\n",
       "    </tr>\n",
       "    <tr>\n",
       "      <th>two</th>\n",
       "      <td>Eunkyoung</td>\n",
       "      <td>2016</td>\n",
       "      <td>Female</td>\n",
       "    </tr>\n",
       "    <tr>\n",
       "      <th>three</th>\n",
       "      <td>Jiwoong</td>\n",
       "      <td>2015</td>\n",
       "      <td>Male</td>\n",
       "    </tr>\n",
       "    <tr>\n",
       "      <th>four</th>\n",
       "      <td>Soobeom</td>\n",
       "      <td>2015</td>\n",
       "      <td>Male</td>\n",
       "    </tr>\n",
       "  </tbody>\n",
       "</table>\n",
       "</div>"
      ],
      "text/plain": [
       "            Name  Year  Gender\n",
       "one      Chulmin  2011    Male\n",
       "two    Eunkyoung  2016  Female\n",
       "three    Jiwoong  2015    Male\n",
       "four     Soobeom  2015    Male"
      ]
     },
     "execution_count": 41,
     "metadata": {},
     "output_type": "execute_result"
    }
   ],
   "source": [
    "data_df"
   ]
  },
  {
   "cell_type": "code",
   "execution_count": 47,
   "id": "3686388f",
   "metadata": {},
   "outputs": [
    {
     "name": "stdout",
     "output_type": "stream",
     "text": [
      "          Name  Year\n",
      "one    Chulmin  2011\n",
      "two  Eunkyoung  2016\n",
      "          Name  Year\n",
      "one    Chulmin  2011\n",
      "two  Eunkyoung  2016\n",
      "          Name  Year\n",
      "one    Chulmin  2011\n",
      "three  Jiwoong  2015\n",
      "          Name  Year\n",
      "one    Chulmin  2011\n",
      "two  Eunkyoung  2016\n"
     ]
    }
   ],
   "source": [
    "print(data_df.iloc[0:2, 0:2])\n",
    "print(data_df.iloc[0:2, [0,1]])\n",
    "print(data_df.iloc[[0,2], [0,1]])\n",
    "print(data_df.loc['one':'two', 'Name':'Year'])"
   ]
  },
  {
   "cell_type": "code",
   "execution_count": 49,
   "id": "be099571",
   "metadata": {},
   "outputs": [
    {
     "data": {
      "text/html": [
       "<div>\n",
       "<style scoped>\n",
       "    .dataframe tbody tr th:only-of-type {\n",
       "        vertical-align: middle;\n",
       "    }\n",
       "\n",
       "    .dataframe tbody tr th {\n",
       "        vertical-align: top;\n",
       "    }\n",
       "\n",
       "    .dataframe thead th {\n",
       "        text-align: right;\n",
       "    }\n",
       "</style>\n",
       "<table border=\"1\" class=\"dataframe\">\n",
       "  <thead>\n",
       "    <tr style=\"text-align: right;\">\n",
       "      <th></th>\n",
       "      <th>Name</th>\n",
       "      <th>Year</th>\n",
       "      <th>Gender</th>\n",
       "    </tr>\n",
       "  </thead>\n",
       "  <tbody>\n",
       "    <tr>\n",
       "      <th>three</th>\n",
       "      <td>Jiwoong</td>\n",
       "      <td>2015</td>\n",
       "      <td>Male</td>\n",
       "    </tr>\n",
       "    <tr>\n",
       "      <th>four</th>\n",
       "      <td>Soobeom</td>\n",
       "      <td>2015</td>\n",
       "      <td>Male</td>\n",
       "    </tr>\n",
       "  </tbody>\n",
       "</table>\n",
       "</div>"
      ],
      "text/plain": [
       "          Name  Year Gender\n",
       "three  Jiwoong  2015   Male\n",
       "four   Soobeom  2015   Male"
      ]
     },
     "execution_count": 49,
     "metadata": {},
     "output_type": "execute_result"
    }
   ],
   "source": [
    "data_df[data_df['Year']==2015]"
   ]
  },
  {
   "cell_type": "code",
   "execution_count": 55,
   "id": "e8c45318",
   "metadata": {},
   "outputs": [
    {
     "data": {
      "text/html": [
       "<div>\n",
       "<style scoped>\n",
       "    .dataframe tbody tr th:only-of-type {\n",
       "        vertical-align: middle;\n",
       "    }\n",
       "\n",
       "    .dataframe tbody tr th {\n",
       "        vertical-align: top;\n",
       "    }\n",
       "\n",
       "    .dataframe thead th {\n",
       "        text-align: right;\n",
       "    }\n",
       "</style>\n",
       "<table border=\"1\" class=\"dataframe\">\n",
       "  <thead>\n",
       "    <tr style=\"text-align: right;\">\n",
       "      <th></th>\n",
       "      <th>Name</th>\n",
       "      <th>Year</th>\n",
       "      <th>Gender</th>\n",
       "    </tr>\n",
       "  </thead>\n",
       "  <tbody>\n",
       "    <tr>\n",
       "      <th>two</th>\n",
       "      <td>Eunkyoung</td>\n",
       "      <td>2016</td>\n",
       "      <td>Female</td>\n",
       "    </tr>\n",
       "    <tr>\n",
       "      <th>three</th>\n",
       "      <td>Jiwoong</td>\n",
       "      <td>2015</td>\n",
       "      <td>Male</td>\n",
       "    </tr>\n",
       "  </tbody>\n",
       "</table>\n",
       "</div>"
      ],
      "text/plain": [
       "            Name  Year  Gender\n",
       "two    Eunkyoung  2016  Female\n",
       "three    Jiwoong  2015    Male"
      ]
     },
     "execution_count": 55,
     "metadata": {},
     "output_type": "execute_result"
    }
   ],
   "source": [
    "data_df[data_df['Year']>2014]\n",
    "data_df.loc[data_df['Year']>2014][:2]\n"
   ]
  },
  {
   "cell_type": "code",
   "execution_count": 58,
   "id": "f57825b4",
   "metadata": {},
   "outputs": [
    {
     "name": "stdout",
     "output_type": "stream",
     "text": [
      "RangeIndex(start=0, stop=891, step=1)\n",
      "Index 객체 array 값:\n",
      " [0 1 2 3 4]\n"
     ]
    }
   ],
   "source": [
    "### 타이타닉 데이터의 index의 특징\n",
    "titan_df = pd.read_csv('./titanic/train.csv')\n",
    "titan_df\n",
    "\n",
    "# index 객체 추출\n",
    "Indexes = titan_df.index\n",
    "print(Indexes)\n",
    "\n",
    "# index 객체를 실제 깞 array로 변환\n",
    "print('Index 객체 array 값:\\n', Indexes.values[:5])"
   ]
  },
  {
   "cell_type": "code",
   "execution_count": 61,
   "id": "df9cd0b8",
   "metadata": {},
   "outputs": [
    {
     "name": "stdout",
     "output_type": "stream",
     "text": [
      "<class 'numpy.ndarray'>\n",
      "(891,)\n"
     ]
    }
   ],
   "source": [
    "print(type(Indexes.values))\n",
    "print(Indexes.values.shape)"
   ]
  },
  {
   "cell_type": "code",
   "execution_count": 66,
   "id": "d192f2b9",
   "metadata": {},
   "outputs": [
    {
     "ename": "TypeError",
     "evalue": "Index does not support mutable operations",
     "output_type": "error",
     "traceback": [
      "\u001b[1;31m---------------------------------------------------------------------------\u001b[0m",
      "\u001b[1;31mTypeError\u001b[0m                                 Traceback (most recent call last)",
      "Cell \u001b[1;32mIn [66], line 2\u001b[0m\n\u001b[0;32m      1\u001b[0m \u001b[38;5;66;03m# 한 번에 index 값 변경 X\u001b[39;00m\n\u001b[1;32m----> 2\u001b[0m \u001b[43mIndexes\u001b[49m\u001b[43m[\u001b[49m\u001b[38;5;241;43m0\u001b[39;49m\u001b[43m]\u001b[49m\u001b[38;5;241m=\u001b[39m\u001b[38;5;241m1000\u001b[39m\n\u001b[0;32m      4\u001b[0m \u001b[38;5;66;03m# if index 값을 바꾸고 싶다면, Index.values 를 하고\u001b[39;00m\n\u001b[0;32m      5\u001b[0m \u001b[38;5;66;03m# 변화한 값을 다시그 pd.DataFrame(index=Index.values) 로 바꿔야 함.\u001b[39;00m\n",
      "File \u001b[1;32m~\\AppData\\Local\\Programs\\Python\\Python310\\lib\\site-packages\\pandas\\core\\indexes\\base.py:5302\u001b[0m, in \u001b[0;36mIndex.__setitem__\u001b[1;34m(self, key, value)\u001b[0m\n\u001b[0;32m   5300\u001b[0m \u001b[38;5;129m@final\u001b[39m\n\u001b[0;32m   5301\u001b[0m \u001b[38;5;28;01mdef\u001b[39;00m \u001b[38;5;21m__setitem__\u001b[39m(\u001b[38;5;28mself\u001b[39m, key, value):\n\u001b[1;32m-> 5302\u001b[0m     \u001b[38;5;28;01mraise\u001b[39;00m \u001b[38;5;167;01mTypeError\u001b[39;00m(\u001b[38;5;124m\"\u001b[39m\u001b[38;5;124mIndex does not support mutable operations\u001b[39m\u001b[38;5;124m\"\u001b[39m)\n",
      "\u001b[1;31mTypeError\u001b[0m: Index does not support mutable operations"
     ]
    }
   ],
   "source": [
    "# 한 번에 index 값 변경 X\n",
    "Indexes[0]=1000  # error\n",
    "\n",
    "# if index 값을 바꾸고 싶다면, Index.values 를 하고\n",
    "# 변화한 값을 다시그 pd.DataFrame(index=Index.values) 로 바꿔야 함."
   ]
  }
 ],
 "metadata": {
  "kernelspec": {
   "display_name": "Python 3 (ipykernel)",
   "language": "python",
   "name": "python3"
  },
  "language_info": {
   "codemirror_mode": {
    "name": "ipython",
    "version": 3
   },
   "file_extension": ".py",
   "mimetype": "text/x-python",
   "name": "python",
   "nbconvert_exporter": "python",
   "pygments_lexer": "ipython3",
   "version": "3.10.9"
  }
 },
 "nbformat": 4,
 "nbformat_minor": 5
}
