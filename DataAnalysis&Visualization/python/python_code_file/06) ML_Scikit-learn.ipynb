{
 "cells": [
  {
   "cell_type": "code",
   "execution_count": 15,
   "id": "bb39b1ea",
   "metadata": {},
   "outputs": [
    {
     "name": "stdout",
     "output_type": "stream",
     "text": [
      "1.1.3\n"
     ]
    }
   ],
   "source": [
    "# scikit-learn 설치\n",
    "# !pip install scikit-learn\n",
    "import numpy as np\n",
    "import pandas as pd\n",
    "# if Scikit-learn 버전 확인,\n",
    "import sklearn\n",
    "print(sklearn.__version__)"
   ]
  },
  {
   "cell_type": "code",
   "execution_count": 13,
   "id": "06b55580",
   "metadata": {},
   "outputs": [
    {
     "data": {
      "text/html": [
       "<div>\n",
       "<style scoped>\n",
       "    .dataframe tbody tr th:only-of-type {\n",
       "        vertical-align: middle;\n",
       "    }\n",
       "\n",
       "    .dataframe tbody tr th {\n",
       "        vertical-align: top;\n",
       "    }\n",
       "\n",
       "    .dataframe thead th {\n",
       "        text-align: right;\n",
       "    }\n",
       "</style>\n",
       "<table border=\"1\" class=\"dataframe\">\n",
       "  <thead>\n",
       "    <tr style=\"text-align: right;\">\n",
       "      <th></th>\n",
       "      <th>sep.len</th>\n",
       "      <th>sep.wid</th>\n",
       "      <th>pet.len</th>\n",
       "      <th>pet.wid</th>\n",
       "      <th>target</th>\n",
       "    </tr>\n",
       "  </thead>\n",
       "  <tbody>\n",
       "    <tr>\n",
       "      <th>0</th>\n",
       "      <td>5.1</td>\n",
       "      <td>3.5</td>\n",
       "      <td>1.4</td>\n",
       "      <td>0.2</td>\n",
       "      <td>0</td>\n",
       "    </tr>\n",
       "    <tr>\n",
       "      <th>1</th>\n",
       "      <td>4.9</td>\n",
       "      <td>3.0</td>\n",
       "      <td>1.4</td>\n",
       "      <td>0.2</td>\n",
       "      <td>0</td>\n",
       "    </tr>\n",
       "    <tr>\n",
       "      <th>2</th>\n",
       "      <td>4.7</td>\n",
       "      <td>3.2</td>\n",
       "      <td>1.3</td>\n",
       "      <td>0.2</td>\n",
       "      <td>0</td>\n",
       "    </tr>\n",
       "    <tr>\n",
       "      <th>3</th>\n",
       "      <td>4.6</td>\n",
       "      <td>3.1</td>\n",
       "      <td>1.5</td>\n",
       "      <td>0.2</td>\n",
       "      <td>0</td>\n",
       "    </tr>\n",
       "    <tr>\n",
       "      <th>4</th>\n",
       "      <td>5.0</td>\n",
       "      <td>3.6</td>\n",
       "      <td>1.4</td>\n",
       "      <td>0.2</td>\n",
       "      <td>0</td>\n",
       "    </tr>\n",
       "    <tr>\n",
       "      <th>...</th>\n",
       "      <td>...</td>\n",
       "      <td>...</td>\n",
       "      <td>...</td>\n",
       "      <td>...</td>\n",
       "      <td>...</td>\n",
       "    </tr>\n",
       "    <tr>\n",
       "      <th>145</th>\n",
       "      <td>6.7</td>\n",
       "      <td>3.0</td>\n",
       "      <td>5.2</td>\n",
       "      <td>2.3</td>\n",
       "      <td>2</td>\n",
       "    </tr>\n",
       "    <tr>\n",
       "      <th>146</th>\n",
       "      <td>6.3</td>\n",
       "      <td>2.5</td>\n",
       "      <td>5.0</td>\n",
       "      <td>1.9</td>\n",
       "      <td>2</td>\n",
       "    </tr>\n",
       "    <tr>\n",
       "      <th>147</th>\n",
       "      <td>6.5</td>\n",
       "      <td>3.0</td>\n",
       "      <td>5.2</td>\n",
       "      <td>2.0</td>\n",
       "      <td>2</td>\n",
       "    </tr>\n",
       "    <tr>\n",
       "      <th>148</th>\n",
       "      <td>6.2</td>\n",
       "      <td>3.4</td>\n",
       "      <td>5.4</td>\n",
       "      <td>2.3</td>\n",
       "      <td>2</td>\n",
       "    </tr>\n",
       "    <tr>\n",
       "      <th>149</th>\n",
       "      <td>5.9</td>\n",
       "      <td>3.0</td>\n",
       "      <td>5.1</td>\n",
       "      <td>1.8</td>\n",
       "      <td>2</td>\n",
       "    </tr>\n",
       "  </tbody>\n",
       "</table>\n",
       "<p>150 rows × 5 columns</p>\n",
       "</div>"
      ],
      "text/plain": [
       "     sep.len  sep.wid  pet.len  pet.wid  target\n",
       "0        5.1      3.5      1.4      0.2       0\n",
       "1        4.9      3.0      1.4      0.2       0\n",
       "2        4.7      3.2      1.3      0.2       0\n",
       "3        4.6      3.1      1.5      0.2       0\n",
       "4        5.0      3.6      1.4      0.2       0\n",
       "..       ...      ...      ...      ...     ...\n",
       "145      6.7      3.0      5.2      2.3       2\n",
       "146      6.3      2.5      5.0      1.9       2\n",
       "147      6.5      3.0      5.2      2.0       2\n",
       "148      6.2      3.4      5.4      2.3       2\n",
       "149      5.9      3.0      5.1      1.8       2\n",
       "\n",
       "[150 rows x 5 columns]"
      ]
     },
     "execution_count": 13,
     "metadata": {},
     "output_type": "execute_result"
    }
   ],
   "source": [
    "# 데이터셋 정의 - iris_data()\n",
    "from sklearn.datasets import load_iris\n",
    "iris = load_iris()  # data 형태는 dict.\n",
    "# 'target'이 범주형 데이터이므로, '분류분석' 해야함.\n",
    "X_features = iris.data\n",
    "y_label = iris.target\n",
    "\n",
    "col_names = ['sep.len', 'sep.wid', 'pet.len', 'pet.wid']\n",
    "iris_df = pd.DataFrame(data = X_features, columns = col_names)\n",
    "iris_df['target'] = y_label\n",
    "\n",
    "iris_df"
   ]
  },
  {
   "cell_type": "markdown",
   "id": "eaf35c0d",
   "metadata": {},
   "source": [
    "학습(훈련)용 데이터 & 테스트용 데이터 분리해보자.\n",
    "\n",
    "훈련용 데이터와 테스트용 데이터는 반드시 분리할 것."
   ]
  },
  {
   "cell_type": "code",
   "execution_count": 14,
   "id": "75b454c4",
   "metadata": {},
   "outputs": [],
   "source": [
    "from sklearn.model_selection import train_test_split"
   ]
  },
  {
   "cell_type": "code",
   "execution_count": 18,
   "id": "7a323d45",
   "metadata": {},
   "outputs": [],
   "source": [
    "?train_test_split"
   ]
  },
  {
   "cell_type": "code",
   "execution_count": 34,
   "id": "baf22f68",
   "metadata": {},
   "outputs": [],
   "source": [
    "# train_test_split (EX)\n",
    "array1 = np.arange(1, 11)\n",
    "train_test_split(array1, test_size=0.2)  # 'array1' 데이터 중 20%를 test로 하겠다. --> enter 할 때마다 값이 바뀜. \n",
    "array_train, array_test = train_test_split(array1, test_size=0.2, random_state=11)  # 'array1' 데이터 중 20%를 test로 하겠다. --> enter 할 때마다 값이 동일하게. "
   ]
  },
  {
   "cell_type": "code",
   "execution_count": 35,
   "id": "56169722",
   "metadata": {},
   "outputs": [
    {
     "data": {
      "text/plain": [
       "array([8, 9])"
      ]
     },
     "execution_count": 35,
     "metadata": {},
     "output_type": "execute_result"
    }
   ],
   "source": [
    "# train_test_split (EX)\n",
    "array_test"
   ]
  },
  {
   "cell_type": "code",
   "execution_count": 36,
   "id": "bd2da48e",
   "metadata": {},
   "outputs": [
    {
     "data": {
      "text/plain": [
       "array([ 3,  7,  5,  6,  2,  4,  1, 10])"
      ]
     },
     "execution_count": 36,
     "metadata": {},
     "output_type": "execute_result"
    }
   ],
   "source": [
    "# train_test_split (EX)\n",
    "array_train"
   ]
  },
  {
   "cell_type": "code",
   "execution_count": null,
   "id": "4159f5c9",
   "metadata": {},
   "outputs": [],
   "source": [
    "# 두 줄로 코드를 쓴다면, 아래와 같음.\n",
    "X_train, X_test = train_test_split(X_features, test_size=0.2, random_state=11)\n",
    "y_train, y_test = train_test_split(y_label, test_size=0.2, random_state=11"
   ]
  },
  {
   "cell_type": "code",
   "execution_count": 37,
   "id": "af1da5d6",
   "metadata": {},
   "outputs": [],
   "source": [
    "# 실무에서는 아래와 같은 코드 사용\n",
    "X_train, X_test, y_train, y_test = train_test_split(X_features, y_label, test_size=0.2, random_state=11)"
   ]
  },
  {
   "cell_type": "code",
   "execution_count": 43,
   "id": "359053dd",
   "metadata": {},
   "outputs": [
    {
     "data": {
      "text/plain": [
       "((120, 4), (120,))"
      ]
     },
     "execution_count": 43,
     "metadata": {},
     "output_type": "execute_result"
    }
   ],
   "source": [
    "# 각 데이터의 shape\n",
    "X_train.shape, y_train.shape  # 120개로 동일"
   ]
  },
  {
   "cell_type": "code",
   "execution_count": 42,
   "id": "08b32b50",
   "metadata": {},
   "outputs": [
    {
     "data": {
      "text/plain": [
       "((30, 4), (30,))"
      ]
     },
     "execution_count": 42,
     "metadata": {},
     "output_type": "execute_result"
    }
   ],
   "source": [
    "X_test.shape, y_test.shape  # 30개로 동일"
   ]
  },
  {
   "cell_type": "code",
   "execution_count": 44,
   "id": "ddd1774d",
   "metadata": {},
   "outputs": [],
   "source": [
    "# 분류분석에 쓰일 알고리즘 loading - 의사결정나무(Descision Tree Classifier)\n",
    "# Black-Box\n",
    "from sklearn.tree import DecisionTreeClassifier  # cf. 'DecisionTreeRegressor' --> 회귀분석에 쓰이는 알고리즘"
   ]
  },
  {
   "cell_type": "code",
   "execution_count": 45,
   "id": "bbc87b84",
   "metadata": {},
   "outputs": [],
   "source": [
    "# ?DecisionTreeClassifier"
   ]
  },
  {
   "cell_type": "code",
   "execution_count": 46,
   "id": "d642aae4",
   "metadata": {},
   "outputs": [],
   "source": [
    "# 알고리즘 객체화\n",
    "dt_clf = DecisionTreeClassifier(random_state=11)"
   ]
  },
  {
   "cell_type": "code",
   "execution_count": 47,
   "id": "01498a53",
   "metadata": {},
   "outputs": [
    {
     "data": {
      "text/html": [
       "<style>#sk-container-id-1 {color: black;background-color: white;}#sk-container-id-1 pre{padding: 0;}#sk-container-id-1 div.sk-toggleable {background-color: white;}#sk-container-id-1 label.sk-toggleable__label {cursor: pointer;display: block;width: 100%;margin-bottom: 0;padding: 0.3em;box-sizing: border-box;text-align: center;}#sk-container-id-1 label.sk-toggleable__label-arrow:before {content: \"▸\";float: left;margin-right: 0.25em;color: #696969;}#sk-container-id-1 label.sk-toggleable__label-arrow:hover:before {color: black;}#sk-container-id-1 div.sk-estimator:hover label.sk-toggleable__label-arrow:before {color: black;}#sk-container-id-1 div.sk-toggleable__content {max-height: 0;max-width: 0;overflow: hidden;text-align: left;background-color: #f0f8ff;}#sk-container-id-1 div.sk-toggleable__content pre {margin: 0.2em;color: black;border-radius: 0.25em;background-color: #f0f8ff;}#sk-container-id-1 input.sk-toggleable__control:checked~div.sk-toggleable__content {max-height: 200px;max-width: 100%;overflow: auto;}#sk-container-id-1 input.sk-toggleable__control:checked~label.sk-toggleable__label-arrow:before {content: \"▾\";}#sk-container-id-1 div.sk-estimator input.sk-toggleable__control:checked~label.sk-toggleable__label {background-color: #d4ebff;}#sk-container-id-1 div.sk-label input.sk-toggleable__control:checked~label.sk-toggleable__label {background-color: #d4ebff;}#sk-container-id-1 input.sk-hidden--visually {border: 0;clip: rect(1px 1px 1px 1px);clip: rect(1px, 1px, 1px, 1px);height: 1px;margin: -1px;overflow: hidden;padding: 0;position: absolute;width: 1px;}#sk-container-id-1 div.sk-estimator {font-family: monospace;background-color: #f0f8ff;border: 1px dotted black;border-radius: 0.25em;box-sizing: border-box;margin-bottom: 0.5em;}#sk-container-id-1 div.sk-estimator:hover {background-color: #d4ebff;}#sk-container-id-1 div.sk-parallel-item::after {content: \"\";width: 100%;border-bottom: 1px solid gray;flex-grow: 1;}#sk-container-id-1 div.sk-label:hover label.sk-toggleable__label {background-color: #d4ebff;}#sk-container-id-1 div.sk-serial::before {content: \"\";position: absolute;border-left: 1px solid gray;box-sizing: border-box;top: 0;bottom: 0;left: 50%;z-index: 0;}#sk-container-id-1 div.sk-serial {display: flex;flex-direction: column;align-items: center;background-color: white;padding-right: 0.2em;padding-left: 0.2em;position: relative;}#sk-container-id-1 div.sk-item {position: relative;z-index: 1;}#sk-container-id-1 div.sk-parallel {display: flex;align-items: stretch;justify-content: center;background-color: white;position: relative;}#sk-container-id-1 div.sk-item::before, #sk-container-id-1 div.sk-parallel-item::before {content: \"\";position: absolute;border-left: 1px solid gray;box-sizing: border-box;top: 0;bottom: 0;left: 50%;z-index: -1;}#sk-container-id-1 div.sk-parallel-item {display: flex;flex-direction: column;z-index: 1;position: relative;background-color: white;}#sk-container-id-1 div.sk-parallel-item:first-child::after {align-self: flex-end;width: 50%;}#sk-container-id-1 div.sk-parallel-item:last-child::after {align-self: flex-start;width: 50%;}#sk-container-id-1 div.sk-parallel-item:only-child::after {width: 0;}#sk-container-id-1 div.sk-dashed-wrapped {border: 1px dashed gray;margin: 0 0.4em 0.5em 0.4em;box-sizing: border-box;padding-bottom: 0.4em;background-color: white;}#sk-container-id-1 div.sk-label label {font-family: monospace;font-weight: bold;display: inline-block;line-height: 1.2em;}#sk-container-id-1 div.sk-label-container {text-align: center;}#sk-container-id-1 div.sk-container {/* jupyter's `normalize.less` sets `[hidden] { display: none; }` but bootstrap.min.css set `[hidden] { display: none !important; }` so we also need the `!important` here to be able to override the default hidden behavior on the sphinx rendered scikit-learn.org. See: https://github.com/scikit-learn/scikit-learn/issues/21755 */display: inline-block !important;position: relative;}#sk-container-id-1 div.sk-text-repr-fallback {display: none;}</style><div id=\"sk-container-id-1\" class=\"sk-top-container\"><div class=\"sk-text-repr-fallback\"><pre>DecisionTreeClassifier(random_state=11)</pre><b>In a Jupyter environment, please rerun this cell to show the HTML representation or trust the notebook. <br />On GitHub, the HTML representation is unable to render, please try loading this page with nbviewer.org.</b></div><div class=\"sk-container\" hidden><div class=\"sk-item\"><div class=\"sk-estimator sk-toggleable\"><input class=\"sk-toggleable__control sk-hidden--visually\" id=\"sk-estimator-id-1\" type=\"checkbox\" checked><label for=\"sk-estimator-id-1\" class=\"sk-toggleable__label sk-toggleable__label-arrow\">DecisionTreeClassifier</label><div class=\"sk-toggleable__content\"><pre>DecisionTreeClassifier(random_state=11)</pre></div></div></div></div></div>"
      ],
      "text/plain": [
       "DecisionTreeClassifier(random_state=11)"
      ]
     },
     "execution_count": 47,
     "metadata": {},
     "output_type": "execute_result"
    }
   ],
   "source": [
    "# 학습 수행 (Black-Box에 train data 넣기) - fit() estimator 활용하여 '적합'시키다.\n",
    "dt_clf.fit(X_train, y_train)  # 의사결정나무 Black-Box에 train data로 수행 --> 수행된 데이터는 사라짐.\n",
    "# 전체 데이터 중 (150개) 120개 학습에 사용"
   ]
  },
  {
   "cell_type": "code",
   "execution_count": 49,
   "id": "60c12866",
   "metadata": {},
   "outputs": [],
   "source": [
    "# 학습된 dt_clf 모델을 토대로, 분류예측 수행 - 'X_test' 값만 삽입\n",
    "y_pred = dt_clf.predict(X_test)  # 30개만 현제 데이터에 예측 재료로 사용 --> 예측(prediction)된 값 도출"
   ]
  },
  {
   "cell_type": "code",
   "execution_count": 50,
   "id": "7f18b8f6",
   "metadata": {},
   "outputs": [
    {
     "data": {
      "text/plain": [
       "array([2, 2, 1, 1, 2, 0, 1, 0, 0, 1, 1, 1, 1, 2, 2, 0, 2, 1, 2, 2, 1, 0,\n",
       "       0, 1, 0, 0, 2, 1, 0, 1])"
      ]
     },
     "execution_count": 50,
     "metadata": {},
     "output_type": "execute_result"
    }
   ],
   "source": [
    "# 예측값\n",
    "y_pred "
   ]
  },
  {
   "cell_type": "code",
   "execution_count": 51,
   "id": "93f9d714",
   "metadata": {},
   "outputs": [
    {
     "data": {
      "text/plain": [
       "array([2, 2, 2, 1, 2, 0, 1, 0, 0, 1, 2, 1, 1, 2, 2, 0, 2, 1, 2, 2, 1, 0,\n",
       "       0, 1, 0, 0, 2, 1, 0, 1])"
      ]
     },
     "execution_count": 51,
     "metadata": {},
     "output_type": "execute_result"
    }
   ],
   "source": [
    "# 실제값\n",
    "y_test"
   ]
  },
  {
   "cell_type": "code",
   "execution_count": 53,
   "id": "25ad44fe",
   "metadata": {},
   "outputs": [],
   "source": [
    "# 예측값과 실제값을 비교해보니 2개가 틀림. --> 예측 정확도 93% --> 좀더 정확하게 도출하려면?\n",
    "# 평가지표(metrics) 호출\n",
    "from sklearn.metrics import accuracy_score as acc_sc  # naming이 기니까 acc_sc로 축약어 사용"
   ]
  },
  {
   "cell_type": "code",
   "execution_count": 54,
   "id": "8f1c7412",
   "metadata": {},
   "outputs": [
    {
     "data": {
      "text/plain": [
       "0.9333333333333333"
      ]
     },
     "execution_count": 54,
     "metadata": {},
     "output_type": "execute_result"
    }
   ],
   "source": [
    "acc_sc(y_test, y_pred)"
   ]
  },
  {
   "cell_type": "code",
   "execution_count": null,
   "id": "44c91c59",
   "metadata": {},
   "outputs": [],
   "source": []
  }
 ],
 "metadata": {
  "kernelspec": {
   "display_name": "Python 3 (ipykernel)",
   "language": "python",
   "name": "python3"
  },
  "language_info": {
   "codemirror_mode": {
    "name": "ipython",
    "version": 3
   },
   "file_extension": ".py",
   "mimetype": "text/x-python",
   "name": "python",
   "nbconvert_exporter": "python",
   "pygments_lexer": "ipython3",
   "version": "3.10.9"
  }
 },
 "nbformat": 4,
 "nbformat_minor": 5
}
