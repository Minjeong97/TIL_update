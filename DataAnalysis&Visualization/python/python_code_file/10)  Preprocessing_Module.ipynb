{
 "cells": [
  {
   "cell_type": "markdown",
   "id": "b6fde6f7",
   "metadata": {},
   "source": [
    "# 데이터 인코딩\n",
    "* 머신러닝의 대표적 인코딩 방식 2가지\n",
    "1) 레이블 인코딩 (Label Encoding)\n",
    "2) 원-핫 (One Hot Encoding)"
   ]
  },
  {
   "cell_type": "code",
   "execution_count": 3,
   "id": "78a8ddd3",
   "metadata": {},
   "outputs": [
    {
     "name": "stdout",
     "output_type": "stream",
     "text": [
      "인코딩 값: [0 1 3 4 5 3 2 2]\n"
     ]
    }
   ],
   "source": [
    "# Label Encoder 적용 :: 문자열의 명목척도화\n",
    "from sklearn.preprocessing import LabelEncoder  # label로 인코딩하겠다.\n",
    "\n",
    "items = ['TV', '냉장고', '선풍기', '전자레인지', '컴퓨터', '선풍기', '믹서', '믹서']\n",
    "\n",
    "# 위 items를 숫자로 바꿔보자.\n",
    "# Label Encoder의 객체화\n",
    "encoder = LabelEncoder()\n",
    "# 변환의 fit() 사용\n",
    "encoder.fit(items)  # y값이 없으니, '지도학습'이 아님.\n",
    "# transform() 적용\n",
    "labels = encoder.transform(items)\n",
    "\n",
    "## fit + transform 한번에\n",
    "# encoder.fit_transform(items)\n",
    "\n",
    "print('인코딩 값:', labels)"
   ]
  },
  {
   "cell_type": "code",
   "execution_count": 4,
   "id": "1aa61785",
   "metadata": {},
   "outputs": [
    {
     "name": "stdout",
     "output_type": "stream",
     "text": [
      "인코딩 클래스: ['TV' '냉장고' '믹서' '선풍기' '전자레인지' '컴퓨터']\n"
     ]
    }
   ],
   "source": [
    "# 알파벳 순서대로 정렬 --> 레이블 인코딩이 이 순서대로 0,1,2,... 로 부여됨.\n",
    "print('인코딩 클래스:', encoder.classes_)"
   ]
  },
  {
   "cell_type": "code",
   "execution_count": 5,
   "id": "36784e19",
   "metadata": {},
   "outputs": [
    {
     "name": "stdout",
     "output_type": "stream",
     "text": [
      "디코딩 원본 값: ['TV' '냉장고' '선풍기' '전자레인지' '컴퓨터' '선풍기' '믹서' '믹서']\n"
     ]
    }
   ],
   "source": [
    "# 레이블 인코딩 -> 문자열로 원상복귀\n",
    "print('디코딩 원본 값:', encoder.inverse_transform([0, 1, 3, 4, 5, 3, 2, 2]))"
   ]
  },
  {
   "cell_type": "markdown",
   "id": "b5e14751",
   "metadata": {},
   "source": [
    "레이블 인코딩은 간단하게 문자열 값을 숫자형 카테고리 값으로 변환한다. 하지만 레이블 인코딩이 일괄적인 숫자 값으로 변환이 되면서 몇몇 ML알고리즘(선형회귀분석과 같은)에는 이를 적용할 경우 예측 성능이 떨어지는 경우가 발생할 수 있다.\n",
    "이는 숫자 값의 경우 크고 작음에 대한 특성이 작용하기 때문이다. 즉, 냉장고가 1, 믹서가 2로 변환되면, 1보다 2가 더 큰 값이므로 특정 ML알고리즘에서 가중치가 더 부여되거나 더 중요하게 인식할 가능성이 발생한다. 하지만 냉장고와 믹서의 숫자 변환 값은 단순코드이지 숫자 값에 따른 순서나 중요도로 인식돼서는 안된다. \n",
    "\n",
    "이러한 특성 때문에 레이블 인코딩은 선형회귀와 같은 ML 알고리즘에는 적용하지 않아야 한다.\n",
    "\n",
    "트리계열의 ML 알고리즘은 숫자의 이러한 특성을 반영하지 않으므로 레이블 인코딩도 별 문제가 없다."
   ]
  },
  {
   "cell_type": "markdown",
   "id": "c8428f5b",
   "metadata": {},
   "source": [
    "#### ex.\n",
    "수익 = -0.5*판매관리비(x1) + 2*영업사원수(x2)\n",
    "- 판매관리비 회귀계수의 절대값 < 영업사원수 회귀계수의 절대값\n",
    "- 따라서 영업사원수가 수익에 더 큰 영향을 미침."
   ]
  },
  {
   "cell_type": "markdown",
   "id": "1acf5b4b",
   "metadata": {},
   "source": [
    "# 원-핫 (One-Hot) 인코딩\n",
    "- 통계: 질적변수의 더미변수화"
   ]
  },
  {
   "cell_type": "code",
   "execution_count": 6,
   "id": "cf4a194e",
   "metadata": {},
   "outputs": [],
   "source": [
    "# step 1) 문자 -> 레이블 인코딩 \n",
    "# step 2) 레이블 인코딩 -> 원-핫 인코딩\n",
    "\n",
    "from sklearn.preprocessing import LabelEncoder\n",
    "from sklearn.preprocessing import OneHotEncoder\n",
    "import numpy as np\n",
    "\n",
    "items = ['TV', '냉장고', '선풍기', '전자레인지', '컴퓨터', '선풍기', '믹서', '믹서']"
   ]
  },
  {
   "cell_type": "code",
   "execution_count": 18,
   "id": "ea006f58",
   "metadata": {},
   "outputs": [
    {
     "name": "stdout",
     "output_type": "stream",
     "text": [
      "[[0]\n",
      " [1]\n",
      " [3]\n",
      " [4]\n",
      " [5]\n",
      " [3]\n",
      " [2]\n",
      " [2]]\n",
      "원-핫 인코딩 데이터:\n",
      "   (0, 0)\t1.0\n",
      "  (1, 1)\t1.0\n",
      "  (2, 3)\t1.0\n",
      "  (3, 4)\t1.0\n",
      "  (4, 5)\t1.0\n",
      "  (5, 3)\t1.0\n",
      "  (6, 2)\t1.0\n",
      "  (7, 2)\t1.0\n",
      "[[1. 0. 0. 0. 0. 0.]\n",
      " [0. 1. 0. 0. 0. 0.]\n",
      " [0. 0. 0. 1. 0. 0.]\n",
      " [0. 0. 0. 0. 1. 0.]\n",
      " [0. 0. 0. 0. 0. 1.]\n",
      " [0. 0. 0. 1. 0. 0.]\n",
      " [0. 0. 1. 0. 0. 0.]\n",
      " [0. 0. 1. 0. 0. 0.]]\n"
     ]
    }
   ],
   "source": [
    "# 1. 문자 -> 레이블 인코딩\n",
    "encoder = LabelEncoder()\n",
    "labels = encoder.fit_transform(items)\n",
    "\n",
    "labels.shape\n",
    "labels.ndim\n",
    "# 1차원의 labels -> 2차원의 행렬로 변환\n",
    "labels_2d = labels.reshape(-1,1)\n",
    "print(labels_2d)\n",
    "# 원-힛 인코딩 적용\n",
    "oh_encoder = OneHotEncoder()\n",
    "oh_labels_2d = oh_encoder.fit_transform(labels_2d)  # sparse matrix :: '1이 희소하다' - 희소행렬  ==> 텍스트마이닝할 때 사용.\n",
    "\n",
    "print('원-핫 인코딩 데이터:\\n', oh_labels_2d)  # (0,0) 행렬에 1, (1,1) 행렬에 1 ...  ==> 근데 보기 힘듦\n",
    "print(oh_labels_2d.toarray())"
   ]
  },
  {
   "cell_type": "markdown",
   "id": "5020f3d2",
   "metadata": {},
   "source": [
    "- 원-핫 인코딩의 단점: 데이터 크기에 따라 부피가 커질 수 있다."
   ]
  },
  {
   "cell_type": "code",
   "execution_count": 19,
   "id": "1d70c136",
   "metadata": {},
   "outputs": [
    {
     "data": {
      "text/html": [
       "<div>\n",
       "<style scoped>\n",
       "    .dataframe tbody tr th:only-of-type {\n",
       "        vertical-align: middle;\n",
       "    }\n",
       "\n",
       "    .dataframe tbody tr th {\n",
       "        vertical-align: top;\n",
       "    }\n",
       "\n",
       "    .dataframe thead th {\n",
       "        text-align: right;\n",
       "    }\n",
       "</style>\n",
       "<table border=\"1\" class=\"dataframe\">\n",
       "  <thead>\n",
       "    <tr style=\"text-align: right;\">\n",
       "      <th></th>\n",
       "      <th>item_TV</th>\n",
       "      <th>item_냉장고</th>\n",
       "      <th>item_믹서</th>\n",
       "      <th>item_선풍기</th>\n",
       "      <th>item_전자레인지</th>\n",
       "      <th>item_컴퓨터</th>\n",
       "    </tr>\n",
       "  </thead>\n",
       "  <tbody>\n",
       "    <tr>\n",
       "      <th>0</th>\n",
       "      <td>1</td>\n",
       "      <td>0</td>\n",
       "      <td>0</td>\n",
       "      <td>0</td>\n",
       "      <td>0</td>\n",
       "      <td>0</td>\n",
       "    </tr>\n",
       "    <tr>\n",
       "      <th>1</th>\n",
       "      <td>0</td>\n",
       "      <td>1</td>\n",
       "      <td>0</td>\n",
       "      <td>0</td>\n",
       "      <td>0</td>\n",
       "      <td>0</td>\n",
       "    </tr>\n",
       "    <tr>\n",
       "      <th>2</th>\n",
       "      <td>0</td>\n",
       "      <td>0</td>\n",
       "      <td>0</td>\n",
       "      <td>0</td>\n",
       "      <td>1</td>\n",
       "      <td>0</td>\n",
       "    </tr>\n",
       "    <tr>\n",
       "      <th>3</th>\n",
       "      <td>0</td>\n",
       "      <td>0</td>\n",
       "      <td>0</td>\n",
       "      <td>0</td>\n",
       "      <td>0</td>\n",
       "      <td>1</td>\n",
       "    </tr>\n",
       "    <tr>\n",
       "      <th>4</th>\n",
       "      <td>0</td>\n",
       "      <td>0</td>\n",
       "      <td>0</td>\n",
       "      <td>1</td>\n",
       "      <td>0</td>\n",
       "      <td>0</td>\n",
       "    </tr>\n",
       "    <tr>\n",
       "      <th>5</th>\n",
       "      <td>0</td>\n",
       "      <td>0</td>\n",
       "      <td>0</td>\n",
       "      <td>1</td>\n",
       "      <td>0</td>\n",
       "      <td>0</td>\n",
       "    </tr>\n",
       "    <tr>\n",
       "      <th>6</th>\n",
       "      <td>0</td>\n",
       "      <td>0</td>\n",
       "      <td>1</td>\n",
       "      <td>0</td>\n",
       "      <td>0</td>\n",
       "      <td>0</td>\n",
       "    </tr>\n",
       "    <tr>\n",
       "      <th>7</th>\n",
       "      <td>0</td>\n",
       "      <td>0</td>\n",
       "      <td>1</td>\n",
       "      <td>0</td>\n",
       "      <td>0</td>\n",
       "      <td>0</td>\n",
       "    </tr>\n",
       "  </tbody>\n",
       "</table>\n",
       "</div>"
      ],
      "text/plain": [
       "   item_TV  item_냉장고  item_믹서  item_선풍기  item_전자레인지  item_컴퓨터\n",
       "0        1         0        0         0           0         0\n",
       "1        0         1        0         0           0         0\n",
       "2        0         0        0         0           1         0\n",
       "3        0         0        0         0           0         1\n",
       "4        0         0        0         1           0         0\n",
       "5        0         0        0         1           0         0\n",
       "6        0         0        1         0           0         0\n",
       "7        0         0        1         0           0         0"
      ]
     },
     "execution_count": 19,
     "metadata": {},
     "output_type": "execute_result"
    }
   ],
   "source": [
    "# cf. 데이터 프레임으로도 가능하다.\n",
    "import pandas as pd\n",
    "\n",
    "df = pd.DataFrame({'item':['TV','냉장고','전자레인지','컴퓨터','선풍기','선풍기','믹서','믹서']})\n",
    "pd.get_dummies(df)\n",
    "\n",
    "## 회귀분석 시, 독립변수(X)에 사용."
   ]
  },
  {
   "cell_type": "markdown",
   "id": "a648ee71",
   "metadata": {},
   "source": [
    "# Feature Scaling Normalization (피쳐 스케일링 정규화)\n",
    "\n",
    " 서로 다른 변수의 값 범위를 일정한 수준으로 맞추는 작업을 피처 스케일링(feature scaling)이라고 한다. 대표적인 방법으로 표준화(Standardization)와 정규화(Normalization)가 있다.\n",
    "\n",
    " 표준화는 데이터의 피처 각각의 평균이 0 분산이 1인 가우시안 정규 분포를 가진 값으로 변환하는 것을 의미한다. 표준화를 통해 변환될 피처 x의 새로운 i번째 데이터를 xi_new라고 한다면 이 값은 원래 값에서 피처 x의 평균을 뺀 값을 피처 x의 평균을 뺀 값을 피처 x의 표준편차로 나눈 값으로 계산할 수 있다.\n",
    "\n",
    " 일반적으로 정규화는 서로 다른 피처의 크기를 통일하기 위해 크기를 변환해주는 개념입니다. 예를 들어 피처 A는 거리를 나타내는 변수로서 값이 0 ~ 100KM로 주어지고 피처 B는 금액을 나타내는 속성으로 값이 0 ~ 100,000,000,000원으로 주어진다면 이 변수를 모두 동일한 크기 단위로 비교하기 위해 값을 모두 최소 0 ~ 최대 1의 값으로 변환하는 것이다. 즉, 개별 데이터의 크기를 모두 똑같은 단위로 변경하는 것이다.\n",
    "\n",
    " 새로운 데이터 xi_new는 원래 값에서 피처 x의 최솟값을 뺀 값을 피처 x의 최댓값과 최솟값의 차이로 나눈 값으로 변환할 수 있다.\n",
    "\n",
    " 그런데 사이킷런의 전처리에서 제공하는 Normalizer 모듈과 일반적인 정규화는 약간의 차이가 있다.(물론 큰 개념은 똑같다). 사이킷런의 Normalizer 모듈은 선형대수에서의 정규화 개념이 적용됐으며, 개별 벡터의 크기를 맞추기 위해 변환하는 것을 의미한다. 즉, 개별 벡터를 모든 피처 벡터의 크기로 나눠준다. 세 개의 피처 x,y,z가 있다고 하면 새로운 데이터 xi_new는 원래 값에서 세 개의 피처의 i번째 피처 값에 해당하는 크기를 합한 값으로 나눠준다.\n",
    "\n",
    " 혼선을 방지하기 위해 일반적인 의미의 표준화와 정규화를 피처 스케일링으로 통칭하고 선형대수 개념의 정규화를 벡터 정규화로 지칭하겠다. 먼저 사이킷런에서 제공하는 대표적인 피처 스케일링 클래스인 StandardScaler와 MinMaxScaler를 알아보자.\n",
    "\n",
    "## StandardScaler\n",
    "\n",
    " StandardScaler는 앞에서 설명한 표준화를 쉽게 지원하기 위한 클래스이다. 즉, 개별 피쳐를 평균이 0이고, 분산이 1인 값으로 변환해준다. 이렇게 가우시안 정규 분포를 가질 수 있도록 데이터를 변환하는 것은 몇몇 알고리즘에서 매우 중요하다. \n",
    "\n",
    " 특히 사이킷런에서 구현한 RBF 커널을 이용하는 서포트 벡터 머신(Support Vector Machine)이나 선형회귀(Linear Regression), 로지스틱 회귀(Logistic Regression)는 데이터가 가우시안 분포를 가지고 있다고 가정하고 구현됐기 때문에 사전에 표준화를 적용하는 것은 예측 성능 향상에 중요한 요소가 될 수 있다.\n",
    "\n",
    " StandartdScaler가 어떻게 데이터 값을 변환하는지 데이터 세트로 확인해보자."
   ]
  },
  {
   "cell_type": "markdown",
   "id": "6e371ea8",
   "metadata": {},
   "source": [
    "### Scaling\n",
    "스케일링: 연속형 특성의 단위가 다를 경우, 이로 인해 과대 혹은 과소한 파라미터 추정 가능성 존재. 이를 해결하기 위해 동일한 기준으로 자료 변환하는 것.\n",
    "1) Standarization (Z-score): 정규분포가 서로 모양이 달라서 쓴 것. 정규분포가 아닌 데이터라면, 정규분포로 바꿔주는 것.\n",
    "- 표준화 = (각 수치 - 평균)/표준편차\n",
    "\n",
    "2) Min-Max Scaling: 정규분포로 만들기 어려울 때\n",
    "- 대표적인 머신러닝/딥러닝의 스케일링 방법\n",
    "- 각 특성변수의 값과 최소값의 차이를 (최대-최소)로 나눔\n",
    "- 이상치에 영향이 있음."
   ]
  },
  {
   "cell_type": "code",
   "execution_count": 26,
   "id": "2275d2c5",
   "metadata": {},
   "outputs": [
    {
     "name": "stdout",
     "output_type": "stream",
     "text": [
      "features 평균\n",
      "sepal length (cm)    5.843333\n",
      "sepal width (cm)     3.057333\n",
      "petal length (cm)    3.758000\n",
      "petal width (cm)     1.199333\n",
      "dtype: float64\n",
      "\n",
      "features 분산\n",
      "sepal length (cm)    0.685694\n",
      "sepal width (cm)     0.189979\n",
      "petal length (cm)    3.116278\n",
      "petal width (cm)     0.581006\n",
      "dtype: float64\n"
     ]
    }
   ],
   "source": [
    "# 라이브러리 호출\n",
    "from sklearn.datasets import load_iris\n",
    "import pandas as pd\n",
    "\n",
    "#붓꽃 데이터 세트를 로딩하고 DataFrame으로 변환한다.\n",
    "iris = load_iris()\n",
    "iris_data = iris.data\n",
    "iris_df = pd.DataFrame(data=iris_data, columns=iris.feature_names)\n",
    "\n",
    "print('features 평균')\n",
    "print(iris_df.mean())\n",
    "\n",
    "print('\\nfeatures 분산')\n",
    "print(iris_df.var())\n",
    "\n",
    "# 분산이 다름. ==> 분산이 다르다는 것은 분포의 모양이 다르다는 것."
   ]
  },
  {
   "cell_type": "code",
   "execution_count": 28,
   "id": "56b878e0",
   "metadata": {},
   "outputs": [
    {
     "name": "stdout",
     "output_type": "stream",
     "text": [
      "features 평균\n",
      "sepal length (cm)   -1.690315e-15\n",
      "sepal width (cm)    -1.842970e-15\n",
      "petal length (cm)   -1.698641e-15\n",
      "petal width (cm)    -1.409243e-15\n",
      "dtype: float64\n",
      "\n",
      "features 분산\n",
      "sepal length (cm)    1.006711\n",
      "sepal width (cm)     1.006711\n",
      "petal length (cm)    1.006711\n",
      "petal width (cm)     1.006711\n",
      "dtype: float64\n"
     ]
    }
   ],
   "source": [
    "from sklearn.preprocessing import StandardScaler  # Z-score Scaling 공식\n",
    "\n",
    "# 객체 생성\n",
    "scaler = StandardScaler()\n",
    "\n",
    "# fit_transform()으로 데이터 변환\n",
    "iris_scaled = scaler.fit_transform(iris_df)\n",
    "\n",
    "# scaled된 데이터를 df로 바꾸기\n",
    "iris_df_scaled = pd.DataFrame(iris_scaled, columns=iris.feature_names)\n",
    "\n",
    "print('features 평균')\n",
    "print(iris_df_scaled.mean())\n",
    "\n",
    "print('\\nfeatures 분산')\n",
    "print(iris_df_scaled.var())\n",
    "\n",
    "# 이제 분산이 같아졌음."
   ]
  },
  {
   "cell_type": "markdown",
   "id": "62fa1ff9",
   "metadata": {},
   "source": [
    "# Min-Max Scaler\n",
    "\n",
    "데이터의 모든 값을 0과 1사이의 값으로 변환해준다.\n",
    "- (x - x_min)/(x_max - x_min) :: x가 0-1 사이에 어느 위치에 있는 지 알 수 있음"
   ]
  },
  {
   "cell_type": "code",
   "execution_count": 31,
   "id": "eb7aea4e",
   "metadata": {},
   "outputs": [],
   "source": [
    "from sklearn.preprocessing import MinMaxScaler  # 0 ~ 1 사이의 값으로 변환\n",
    "\n",
    "# 객체 생성\n",
    "mm_scaler = MinMaxScaler()\n",
    "\n",
    "# 데이터셋 변환\n",
    "iris_scaled_mm = mm_scaler.fit_transform(iris_df)  # DataFrame이 들어가야 함\n",
    "\n",
    "# df 재생성\n",
    "iris_df_mm = pd.DataFrame(iris_scaled_mm, columns=iris.feature_names)"
   ]
  },
  {
   "cell_type": "code",
   "execution_count": 33,
   "id": "0fa72b72",
   "metadata": {},
   "outputs": [
    {
     "name": "stdout",
     "output_type": "stream",
     "text": [
      "ftrs의 최소값\n",
      "sepal length (cm)    0.0\n",
      "sepal width (cm)     0.0\n",
      "petal length (cm)    0.0\n",
      "petal width (cm)     0.0\n",
      "dtype: float64\n",
      "\n",
      "ftrs의 최대값\n",
      "sepal length (cm)    1.0\n",
      "sepal width (cm)     1.0\n",
      "petal length (cm)    1.0\n",
      "petal width (cm)     1.0\n",
      "dtype: float64\n"
     ]
    }
   ],
   "source": [
    "# 최대-최소값 확인해보자.\n",
    "print('ftrs의 최소값')\n",
    "print(iris_df_mm.min())\n",
    "\n",
    "print('\\nftrs의 최대값')\n",
    "print(iris_df_mm.max())\n",
    "\n",
    "## 머신러닝에서는 0~1을 좋아함."
   ]
  },
  {
   "cell_type": "code",
   "execution_count": null,
   "id": "e4f54c54",
   "metadata": {},
   "outputs": [],
   "source": []
  }
 ],
 "metadata": {
  "kernelspec": {
   "display_name": "Python 3 (ipykernel)",
   "language": "python",
   "name": "python3"
  },
  "language_info": {
   "codemirror_mode": {
    "name": "ipython",
    "version": 3
   },
   "file_extension": ".py",
   "mimetype": "text/x-python",
   "name": "python",
   "nbconvert_exporter": "python",
   "pygments_lexer": "ipython3",
   "version": "3.10.9"
  }
 },
 "nbformat": 4,
 "nbformat_minor": 5
}
