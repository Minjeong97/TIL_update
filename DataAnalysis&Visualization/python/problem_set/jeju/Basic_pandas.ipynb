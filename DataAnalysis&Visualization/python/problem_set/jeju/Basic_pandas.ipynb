{
 "cells": [
  {
   "cell_type": "code",
   "execution_count": 2,
   "id": "d85321e1",
   "metadata": {},
   "outputs": [],
   "source": [
    "# q1. jeju 데이터를 로드해보세요. 컬럼이 한글이므로 적절한 처리가 필요"
   ]
  },
  {
   "cell_type": "code",
   "execution_count": 28,
   "id": "14636e67",
   "metadata": {},
   "outputs": [],
   "source": [
    "# file loading\n",
    "import pandas as pd\n",
    "\n",
    "file_path = 'C://Users//samsung//TIL//DS//numpy//jeju_problem//jeju.csv'\n",
    "\n",
    "jeju = pd.read_csv(file_path, engine='python')"
   ]
  },
  {
   "cell_type": "code",
   "execution_count": 29,
   "id": "e6c20170",
   "metadata": {},
   "outputs": [],
   "source": [
    "# q2. 데이터의 마지막 3개 행을 호출해보세요."
   ]
  },
  {
   "cell_type": "code",
   "execution_count": 30,
   "id": "a61b5f3d",
   "metadata": {},
   "outputs": [
    {
     "name": "stdout",
     "output_type": "stream",
     "text": [
      "      Unnamed: 0     id          일자   시도명 읍면동명         거주인구       근무인구  \\\n",
      "9618        9618  32066  2020-04-30   제주시  도두동    28397.481   3144.895   \n",
      "9619        9619  32067  2020-04-30  서귀포시  안덕면   348037.846  29106.286   \n",
      "9620        9620  32068  2020-04-30   제주시   연동  1010643.372  65673.477   \n",
      "\n",
      "            방문인구       총 유동인구   평균 속도  평균 소요 시간  평균 기온  일강수량  평균 풍속  \n",
      "9618   84052.697   115595.073  41.053    29.421   20.3   0.0    3.0  \n",
      "9619  251129.660   628273.792  46.595    49.189   17.6   0.0    3.5  \n",
      "9620  447622.068  1523938.917  40.863    27.765   14.1   0.0    4.8  \n"
     ]
    }
   ],
   "source": [
    "print(df_jeju.tail(3))"
   ]
  },
  {
   "cell_type": "code",
   "execution_count": 31,
   "id": "6e662c4f",
   "metadata": {},
   "outputs": [],
   "source": [
    "# q3. 범주형 변수를 가진 컬럼을 출력해보세요."
   ]
  },
  {
   "cell_type": "code",
   "execution_count": 32,
   "id": "18e35338",
   "metadata": {},
   "outputs": [
    {
     "name": "stdout",
     "output_type": "stream",
     "text": [
      "<class 'pandas.core.frame.DataFrame'>\n",
      "RangeIndex: 9621 entries, 0 to 9620\n",
      "Data columns (total 14 columns):\n",
      " #   Column      Non-Null Count  Dtype  \n",
      "---  ------      --------------  -----  \n",
      " 0   Unnamed: 0  9621 non-null   int64  \n",
      " 1   id          9621 non-null   int64  \n",
      " 2   일자          9621 non-null   object \n",
      " 3   시도명         9621 non-null   object \n",
      " 4   읍면동명        9621 non-null   object \n",
      " 5   거주인구        9621 non-null   float64\n",
      " 6   근무인구        9621 non-null   float64\n",
      " 7   방문인구        9621 non-null   float64\n",
      " 8   총 유동인구      9621 non-null   float64\n",
      " 9   평균 속도       9621 non-null   float64\n",
      " 10  평균 소요 시간    9621 non-null   float64\n",
      " 11  평균 기온       9621 non-null   float64\n",
      " 12  일강수량        9621 non-null   float64\n",
      " 13  평균 풍속       9621 non-null   float64\n",
      "dtypes: float64(9), int64(2), object(3)\n",
      "memory usage: 1.0+ MB\n"
     ]
    },
    {
     "data": {
      "text/html": [
       "<div>\n",
       "<style scoped>\n",
       "    .dataframe tbody tr th:only-of-type {\n",
       "        vertical-align: middle;\n",
       "    }\n",
       "\n",
       "    .dataframe tbody tr th {\n",
       "        vertical-align: top;\n",
       "    }\n",
       "\n",
       "    .dataframe thead th {\n",
       "        text-align: right;\n",
       "    }\n",
       "</style>\n",
       "<table border=\"1\" class=\"dataframe\">\n",
       "  <thead>\n",
       "    <tr style=\"text-align: right;\">\n",
       "      <th></th>\n",
       "      <th>일자</th>\n",
       "      <th>시도명</th>\n",
       "      <th>읍면동명</th>\n",
       "    </tr>\n",
       "  </thead>\n",
       "  <tbody>\n",
       "    <tr>\n",
       "      <th>0</th>\n",
       "      <td>2018-01-01</td>\n",
       "      <td>제주시</td>\n",
       "      <td>도두동</td>\n",
       "    </tr>\n",
       "    <tr>\n",
       "      <th>1</th>\n",
       "      <td>2018-01-01</td>\n",
       "      <td>제주시</td>\n",
       "      <td>외도동</td>\n",
       "    </tr>\n",
       "    <tr>\n",
       "      <th>2</th>\n",
       "      <td>2018-01-01</td>\n",
       "      <td>제주시</td>\n",
       "      <td>이도2동</td>\n",
       "    </tr>\n",
       "    <tr>\n",
       "      <th>3</th>\n",
       "      <td>2018-01-01</td>\n",
       "      <td>제주시</td>\n",
       "      <td>일도1동</td>\n",
       "    </tr>\n",
       "    <tr>\n",
       "      <th>4</th>\n",
       "      <td>2018-01-01</td>\n",
       "      <td>서귀포시</td>\n",
       "      <td>대천동</td>\n",
       "    </tr>\n",
       "  </tbody>\n",
       "</table>\n",
       "</div>"
      ],
      "text/plain": [
       "           일자   시도명  읍면동명\n",
       "0  2018-01-01   제주시   도두동\n",
       "1  2018-01-01   제주시   외도동\n",
       "2  2018-01-01   제주시  이도2동\n",
       "3  2018-01-01   제주시  일도1동\n",
       "4  2018-01-01  서귀포시   대천동"
      ]
     },
     "execution_count": 32,
     "metadata": {},
     "output_type": "execute_result"
    }
   ],
   "source": [
    "jeju.info()\n",
    "\n",
    "jeju.select_dtypes('object').head()\n",
    "# jeju.select_dtypes(include = 'object').columns"
   ]
  },
  {
   "cell_type": "code",
   "execution_count": 33,
   "id": "a165906e",
   "metadata": {},
   "outputs": [],
   "source": [
    "# q4. 숫자형 변수를 가진 컬럼을 출력해보세요."
   ]
  },
  {
   "cell_type": "code",
   "execution_count": 34,
   "id": "ed32cfe0",
   "metadata": {},
   "outputs": [
    {
     "data": {
      "text/html": [
       "<div>\n",
       "<style scoped>\n",
       "    .dataframe tbody tr th:only-of-type {\n",
       "        vertical-align: middle;\n",
       "    }\n",
       "\n",
       "    .dataframe tbody tr th {\n",
       "        vertical-align: top;\n",
       "    }\n",
       "\n",
       "    .dataframe thead th {\n",
       "        text-align: right;\n",
       "    }\n",
       "</style>\n",
       "<table border=\"1\" class=\"dataframe\">\n",
       "  <thead>\n",
       "    <tr style=\"text-align: right;\">\n",
       "      <th></th>\n",
       "      <th>거주인구</th>\n",
       "      <th>근무인구</th>\n",
       "      <th>방문인구</th>\n",
       "      <th>총 유동인구</th>\n",
       "      <th>평균 속도</th>\n",
       "      <th>평균 소요 시간</th>\n",
       "      <th>평균 기온</th>\n",
       "      <th>일강수량</th>\n",
       "      <th>평균 풍속</th>\n",
       "    </tr>\n",
       "  </thead>\n",
       "  <tbody>\n",
       "    <tr>\n",
       "      <th>0</th>\n",
       "      <td>32249.987</td>\n",
       "      <td>3418.266</td>\n",
       "      <td>102709.092</td>\n",
       "      <td>138377.345</td>\n",
       "      <td>39.556</td>\n",
       "      <td>29.167</td>\n",
       "      <td>5.0</td>\n",
       "      <td>0.0</td>\n",
       "      <td>2.5</td>\n",
       "    </tr>\n",
       "    <tr>\n",
       "      <th>1</th>\n",
       "      <td>213500.997</td>\n",
       "      <td>10341.172</td>\n",
       "      <td>112692.789</td>\n",
       "      <td>336534.958</td>\n",
       "      <td>32.900</td>\n",
       "      <td>30.900</td>\n",
       "      <td>5.0</td>\n",
       "      <td>0.0</td>\n",
       "      <td>2.5</td>\n",
       "    </tr>\n",
       "    <tr>\n",
       "      <th>2</th>\n",
       "      <td>1212382.218</td>\n",
       "      <td>96920.834</td>\n",
       "      <td>541194.481</td>\n",
       "      <td>1850497.533</td>\n",
       "      <td>29.538</td>\n",
       "      <td>35.692</td>\n",
       "      <td>2.9</td>\n",
       "      <td>0.0</td>\n",
       "      <td>2.4</td>\n",
       "    </tr>\n",
       "    <tr>\n",
       "      <th>3</th>\n",
       "      <td>33991.653</td>\n",
       "      <td>6034.253</td>\n",
       "      <td>72155.919</td>\n",
       "      <td>112181.825</td>\n",
       "      <td>30.000</td>\n",
       "      <td>23.500</td>\n",
       "      <td>2.9</td>\n",
       "      <td>0.0</td>\n",
       "      <td>2.4</td>\n",
       "    </tr>\n",
       "    <tr>\n",
       "      <th>4</th>\n",
       "      <td>155036.925</td>\n",
       "      <td>9403.969</td>\n",
       "      <td>150882.409</td>\n",
       "      <td>315323.303</td>\n",
       "      <td>41.583</td>\n",
       "      <td>14.375</td>\n",
       "      <td>5.1</td>\n",
       "      <td>0.0</td>\n",
       "      <td>2.3</td>\n",
       "    </tr>\n",
       "  </tbody>\n",
       "</table>\n",
       "</div>"
      ],
      "text/plain": [
       "          거주인구       근무인구        방문인구       총 유동인구   평균 속도  평균 소요 시간  평균 기온  \\\n",
       "0    32249.987   3418.266  102709.092   138377.345  39.556    29.167    5.0   \n",
       "1   213500.997  10341.172  112692.789   336534.958  32.900    30.900    5.0   \n",
       "2  1212382.218  96920.834  541194.481  1850497.533  29.538    35.692    2.9   \n",
       "3    33991.653   6034.253   72155.919   112181.825  30.000    23.500    2.9   \n",
       "4   155036.925   9403.969  150882.409   315323.303  41.583    14.375    5.1   \n",
       "\n",
       "   일강수량  평균 풍속  \n",
       "0   0.0    2.5  \n",
       "1   0.0    2.5  \n",
       "2   0.0    2.4  \n",
       "3   0.0    2.4  \n",
       "4   0.0    2.3  "
      ]
     },
     "execution_count": 34,
     "metadata": {},
     "output_type": "execute_result"
    }
   ],
   "source": [
    "jeju.select_dtypes('float64').head()\n",
    "# jeju.select_dtypes(exclude = 'object').columns"
   ]
  },
  {
   "cell_type": "code",
   "execution_count": 35,
   "id": "fd8ede68",
   "metadata": {},
   "outputs": [],
   "source": [
    "# q5. 각 컬럼들의 결측치 숫자들을 파악해보세요."
   ]
  },
  {
   "cell_type": "code",
   "execution_count": 36,
   "id": "4f21bbfa",
   "metadata": {},
   "outputs": [
    {
     "data": {
      "text/plain": [
       "Unnamed: 0    0\n",
       "id            0\n",
       "일자            0\n",
       "시도명           0\n",
       "읍면동명          0\n",
       "거주인구          0\n",
       "근무인구          0\n",
       "방문인구          0\n",
       "총 유동인구        0\n",
       "평균 속도         0\n",
       "평균 소요 시간      0\n",
       "평균 기온         0\n",
       "일강수량          0\n",
       "평균 풍속         0\n",
       "dtype: int64"
      ]
     },
     "execution_count": 36,
     "metadata": {},
     "output_type": "execute_result"
    }
   ],
   "source": [
    "jeju.isna().sum()"
   ]
  },
  {
   "cell_type": "code",
   "execution_count": 7,
   "id": "d2b8d076",
   "metadata": {},
   "outputs": [],
   "source": [
    "# q6. 각 컬럼의 데이터수, 데이터타입을 한 번에 확인해보세요."
   ]
  },
  {
   "cell_type": "code",
   "execution_count": 23,
   "id": "8fcc3827",
   "metadata": {},
   "outputs": [
    {
     "data": {
      "text/plain": [
       "2020-03-21    21\n",
       "2018-01-16    20\n",
       "2019-10-15    20\n",
       "2019-10-08    19\n",
       "2020-03-13    19\n",
       "              ..\n",
       "2019-03-29     5\n",
       "2018-11-13     5\n",
       "2018-06-02     5\n",
       "2019-08-15     4\n",
       "2019-04-27     2\n",
       "Name: 일자, Length: 803, dtype: int64"
      ]
     },
     "execution_count": 23,
     "metadata": {},
     "output_type": "execute_result"
    }
   ],
   "source": [
    "jeju.id.value_counts()\n",
    "jeju.일자.value_counts()"
   ]
  },
  {
   "cell_type": "code",
   "execution_count": 8,
   "id": "7461942a",
   "metadata": {},
   "outputs": [],
   "source": [
    "# q7. 거주인구, 근무인구와 방문인구, 총 유동인구로만 구성된 df를 만드세요."
   ]
  },
  {
   "cell_type": "code",
   "execution_count": 51,
   "id": "6e3c943d",
   "metadata": {},
   "outputs": [
    {
     "data": {
      "text/html": [
       "<div>\n",
       "<style scoped>\n",
       "    .dataframe tbody tr th:only-of-type {\n",
       "        vertical-align: middle;\n",
       "    }\n",
       "\n",
       "    .dataframe tbody tr th {\n",
       "        vertical-align: top;\n",
       "    }\n",
       "\n",
       "    .dataframe thead th {\n",
       "        text-align: right;\n",
       "    }\n",
       "</style>\n",
       "<table border=\"1\" class=\"dataframe\">\n",
       "  <thead>\n",
       "    <tr style=\"text-align: right;\">\n",
       "      <th></th>\n",
       "      <th>거주인구</th>\n",
       "      <th>근무인구</th>\n",
       "      <th>방문인구</th>\n",
       "      <th>총 유동인구</th>\n",
       "    </tr>\n",
       "  </thead>\n",
       "  <tbody>\n",
       "    <tr>\n",
       "      <th>0</th>\n",
       "      <td>32249.987</td>\n",
       "      <td>3418.266</td>\n",
       "      <td>102709.092</td>\n",
       "      <td>138377.345</td>\n",
       "    </tr>\n",
       "    <tr>\n",
       "      <th>1</th>\n",
       "      <td>213500.997</td>\n",
       "      <td>10341.172</td>\n",
       "      <td>112692.789</td>\n",
       "      <td>336534.958</td>\n",
       "    </tr>\n",
       "    <tr>\n",
       "      <th>2</th>\n",
       "      <td>1212382.218</td>\n",
       "      <td>96920.834</td>\n",
       "      <td>541194.481</td>\n",
       "      <td>1850497.533</td>\n",
       "    </tr>\n",
       "    <tr>\n",
       "      <th>3</th>\n",
       "      <td>33991.653</td>\n",
       "      <td>6034.253</td>\n",
       "      <td>72155.919</td>\n",
       "      <td>112181.825</td>\n",
       "    </tr>\n",
       "    <tr>\n",
       "      <th>4</th>\n",
       "      <td>155036.925</td>\n",
       "      <td>9403.969</td>\n",
       "      <td>150882.409</td>\n",
       "      <td>315323.303</td>\n",
       "    </tr>\n",
       "  </tbody>\n",
       "</table>\n",
       "</div>"
      ],
      "text/plain": [
       "          거주인구       근무인구        방문인구       총 유동인구\n",
       "0    32249.987   3418.266  102709.092   138377.345\n",
       "1   213500.997  10341.172  112692.789   336534.958\n",
       "2  1212382.218  96920.834  541194.481  1850497.533\n",
       "3    33991.653   6034.253   72155.919   112181.825\n",
       "4   155036.925   9403.969  150882.409   315323.303"
      ]
     },
     "execution_count": 51,
     "metadata": {},
     "output_type": "execute_result"
    }
   ],
   "source": [
    "cols = ['거주인구', '근무인구', '방문인구', '총 유동인구']\n",
    "\n",
    "# df_jeju = pd.DataFrame(jeju, columns=cols)\n",
    "\n",
    "df_jeju = jeju[cols]\n",
    "df_jeju.head()"
   ]
  },
  {
   "cell_type": "code",
   "execution_count": null,
   "id": "ec641508",
   "metadata": {},
   "outputs": [],
   "source": [
    "# q8 위에서 생성된 df에 행을 추가해주세요\n",
    "# 추가 행값은 min값으로 해주세요."
   ]
  },
  {
   "cell_type": "code",
   "execution_count": 49,
   "id": "350eb3ad",
   "metadata": {},
   "outputs": [
    {
     "name": "stdout",
     "output_type": "stream",
     "text": [
      "거주인구       9305.552\n",
      "근무인구       1407.936\n",
      "방문인구      11538.322\n",
      "총 유동인구    22251.810\n",
      "dtype: float64\n"
     ]
    },
    {
     "data": {
      "text/html": [
       "<div>\n",
       "<style scoped>\n",
       "    .dataframe tbody tr th:only-of-type {\n",
       "        vertical-align: middle;\n",
       "    }\n",
       "\n",
       "    .dataframe tbody tr th {\n",
       "        vertical-align: top;\n",
       "    }\n",
       "\n",
       "    .dataframe thead th {\n",
       "        text-align: right;\n",
       "    }\n",
       "</style>\n",
       "<table border=\"1\" class=\"dataframe\">\n",
       "  <thead>\n",
       "    <tr style=\"text-align: right;\">\n",
       "      <th></th>\n",
       "      <th>거주인구</th>\n",
       "      <th>근무인구</th>\n",
       "      <th>방문인구</th>\n",
       "      <th>총 유동인구</th>\n",
       "    </tr>\n",
       "  </thead>\n",
       "  <tbody>\n",
       "    <tr>\n",
       "      <th>min</th>\n",
       "      <td>9305.552</td>\n",
       "      <td>1407.936</td>\n",
       "      <td>11538.322</td>\n",
       "      <td>22251.81</td>\n",
       "    </tr>\n",
       "  </tbody>\n",
       "</table>\n",
       "</div>"
      ],
      "text/plain": [
       "         거주인구      근무인구       방문인구    총 유동인구\n",
       "min  9305.552  1407.936  11538.322  22251.81"
      ]
     },
     "execution_count": 49,
     "metadata": {},
     "output_type": "execute_result"
    }
   ],
   "source": [
    "print(df_jeju.min())\n",
    "df_jeju.loc['min'] = df_jeju.min(axis=0)\n",
    "df_jeju.tail(1)"
   ]
  },
  {
   "cell_type": "code",
   "execution_count": 11,
   "id": "ed9d2d8d",
   "metadata": {},
   "outputs": [],
   "source": [
    "# q9. 총 유동인구 컬럼의 값들을 출력해보세요."
   ]
  },
  {
   "cell_type": "code",
   "execution_count": 43,
   "id": "09c8f27c",
   "metadata": {},
   "outputs": [
    {
     "data": {
      "text/html": [
       "<div>\n",
       "<style scoped>\n",
       "    .dataframe tbody tr th:only-of-type {\n",
       "        vertical-align: middle;\n",
       "    }\n",
       "\n",
       "    .dataframe tbody tr th {\n",
       "        vertical-align: top;\n",
       "    }\n",
       "\n",
       "    .dataframe thead th {\n",
       "        text-align: right;\n",
       "    }\n",
       "</style>\n",
       "<table border=\"1\" class=\"dataframe\">\n",
       "  <thead>\n",
       "    <tr style=\"text-align: right;\">\n",
       "      <th></th>\n",
       "      <th>총 유동인구</th>\n",
       "    </tr>\n",
       "  </thead>\n",
       "  <tbody>\n",
       "    <tr>\n",
       "      <th>0</th>\n",
       "      <td>138377.345</td>\n",
       "    </tr>\n",
       "    <tr>\n",
       "      <th>1</th>\n",
       "      <td>336534.958</td>\n",
       "    </tr>\n",
       "    <tr>\n",
       "      <th>2</th>\n",
       "      <td>1850497.533</td>\n",
       "    </tr>\n",
       "    <tr>\n",
       "      <th>3</th>\n",
       "      <td>112181.825</td>\n",
       "    </tr>\n",
       "    <tr>\n",
       "      <th>4</th>\n",
       "      <td>315323.303</td>\n",
       "    </tr>\n",
       "    <tr>\n",
       "      <th>...</th>\n",
       "      <td>...</td>\n",
       "    </tr>\n",
       "    <tr>\n",
       "      <th>9616</th>\n",
       "      <td>397984.186</td>\n",
       "    </tr>\n",
       "    <tr>\n",
       "      <th>9617</th>\n",
       "      <td>735666.605</td>\n",
       "    </tr>\n",
       "    <tr>\n",
       "      <th>9618</th>\n",
       "      <td>115595.073</td>\n",
       "    </tr>\n",
       "    <tr>\n",
       "      <th>9619</th>\n",
       "      <td>628273.792</td>\n",
       "    </tr>\n",
       "    <tr>\n",
       "      <th>9620</th>\n",
       "      <td>1523938.917</td>\n",
       "    </tr>\n",
       "  </tbody>\n",
       "</table>\n",
       "<p>9621 rows × 1 columns</p>\n",
       "</div>"
      ],
      "text/plain": [
       "           총 유동인구\n",
       "0      138377.345\n",
       "1      336534.958\n",
       "2     1850497.533\n",
       "3      112181.825\n",
       "4      315323.303\n",
       "...           ...\n",
       "9616   397984.186\n",
       "9617   735666.605\n",
       "9618   115595.073\n",
       "9619   628273.792\n",
       "9620  1523938.917\n",
       "\n",
       "[9621 rows x 1 columns]"
      ]
     },
     "execution_count": 43,
     "metadata": {},
     "output_type": "execute_result"
    }
   ],
   "source": [
    "df_jeju[['총 유동인구']]"
   ]
  },
  {
   "cell_type": "code",
   "execution_count": 10,
   "id": "e5ce411e",
   "metadata": {},
   "outputs": [],
   "source": [
    "# q10. 시도명의 유일값의 개수를 구해보세요."
   ]
  },
  {
   "cell_type": "code",
   "execution_count": 52,
   "id": "30b8fd9f",
   "metadata": {},
   "outputs": [
    {
     "data": {
      "text/plain": [
       "41"
      ]
     },
     "execution_count": 52,
     "metadata": {},
     "output_type": "execute_result"
    }
   ],
   "source": [
    "jeju['시도명'].nunique()\n",
    "\n",
    "# len(df_jeju['시도명'].value_countsts())"
   ]
  }
 ],
 "metadata": {
  "kernelspec": {
   "display_name": "Python 3 (ipykernel)",
   "language": "python",
   "name": "python3"
  },
  "language_info": {
   "codemirror_mode": {
    "name": "ipython",
    "version": 3
   },
   "file_extension": ".py",
   "mimetype": "text/x-python",
   "name": "python",
   "nbconvert_exporter": "python",
   "pygments_lexer": "ipython3",
   "version": "3.10.9"
  }
 },
 "nbformat": 4,
 "nbformat_minor": 5
}
