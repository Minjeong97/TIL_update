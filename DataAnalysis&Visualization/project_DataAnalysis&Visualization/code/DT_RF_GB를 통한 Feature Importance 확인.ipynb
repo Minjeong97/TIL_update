{
 "cells": [
  {
   "cell_type": "code",
   "execution_count": 2,
   "id": "a9a0dd97",
   "metadata": {},
   "outputs": [],
   "source": [
    "import pandas as pd\n",
    "import numpy as np"
   ]
  },
  {
   "cell_type": "code",
   "execution_count": 3,
   "id": "6fdf25ad",
   "metadata": {
    "scrolled": true
   },
   "outputs": [
    {
     "data": {
      "text/html": [
       "<div>\n",
       "<style scoped>\n",
       "    .dataframe tbody tr th:only-of-type {\n",
       "        vertical-align: middle;\n",
       "    }\n",
       "\n",
       "    .dataframe tbody tr th {\n",
       "        vertical-align: top;\n",
       "    }\n",
       "\n",
       "    .dataframe thead th {\n",
       "        text-align: right;\n",
       "    }\n",
       "</style>\n",
       "<table border=\"1\" class=\"dataframe\">\n",
       "  <thead>\n",
       "    <tr style=\"text-align: right;\">\n",
       "      <th></th>\n",
       "      <th>state</th>\n",
       "      <th>city</th>\n",
       "      <th>visit_cnt</th>\n",
       "      <th>cctv_cnt</th>\n",
       "      <th>sclight_cnt</th>\n",
       "      <th>smalight_cnt</th>\n",
       "      <th>crime_rate</th>\n",
       "      <th>avg_pop_density</th>\n",
       "      <th>mean_hours</th>\n",
       "      <th>mean_days</th>\n",
       "      <th>new_state</th>\n",
       "    </tr>\n",
       "  </thead>\n",
       "  <tbody>\n",
       "    <tr>\n",
       "      <th>0</th>\n",
       "      <td>강원도</td>\n",
       "      <td>정선군</td>\n",
       "      <td>8151609</td>\n",
       "      <td>515.0</td>\n",
       "      <td>4391.0</td>\n",
       "      <td>13.0</td>\n",
       "      <td>0.0271</td>\n",
       "      <td>90.36</td>\n",
       "      <td>427.8</td>\n",
       "      <td>1.62</td>\n",
       "      <td>강원도 정선군</td>\n",
       "    </tr>\n",
       "    <tr>\n",
       "      <th>1</th>\n",
       "      <td>강원도</td>\n",
       "      <td>평창군</td>\n",
       "      <td>13399820</td>\n",
       "      <td>190.0</td>\n",
       "      <td>6747.0</td>\n",
       "      <td>46.0</td>\n",
       "      <td>0.0271</td>\n",
       "      <td>90.36</td>\n",
       "      <td>395.8</td>\n",
       "      <td>1.62</td>\n",
       "      <td>강원도 평창군</td>\n",
       "    </tr>\n",
       "    <tr>\n",
       "      <th>2</th>\n",
       "      <td>강원도</td>\n",
       "      <td>홍천군</td>\n",
       "      <td>15125927</td>\n",
       "      <td>428.0</td>\n",
       "      <td>1191.0</td>\n",
       "      <td>37.0</td>\n",
       "      <td>0.0271</td>\n",
       "      <td>90.36</td>\n",
       "      <td>388.8</td>\n",
       "      <td>1.54</td>\n",
       "      <td>강원도 홍천군</td>\n",
       "    </tr>\n",
       "    <tr>\n",
       "      <th>3</th>\n",
       "      <td>강원도</td>\n",
       "      <td>양구군</td>\n",
       "      <td>1828609</td>\n",
       "      <td>296.0</td>\n",
       "      <td>190.0</td>\n",
       "      <td>22.0</td>\n",
       "      <td>0.0271</td>\n",
       "      <td>90.36</td>\n",
       "      <td>387.2</td>\n",
       "      <td>1.80</td>\n",
       "      <td>강원도 양구군</td>\n",
       "    </tr>\n",
       "    <tr>\n",
       "      <th>4</th>\n",
       "      <td>강원도</td>\n",
       "      <td>고성군</td>\n",
       "      <td>11612683</td>\n",
       "      <td>422.0</td>\n",
       "      <td>4391.0</td>\n",
       "      <td>94.0</td>\n",
       "      <td>0.0271</td>\n",
       "      <td>90.36</td>\n",
       "      <td>375.2</td>\n",
       "      <td>1.56</td>\n",
       "      <td>강원도 고성군</td>\n",
       "    </tr>\n",
       "    <tr>\n",
       "      <th>...</th>\n",
       "      <td>...</td>\n",
       "      <td>...</td>\n",
       "      <td>...</td>\n",
       "      <td>...</td>\n",
       "      <td>...</td>\n",
       "      <td>...</td>\n",
       "      <td>...</td>\n",
       "      <td>...</td>\n",
       "      <td>...</td>\n",
       "      <td>...</td>\n",
       "      <td>...</td>\n",
       "    </tr>\n",
       "    <tr>\n",
       "      <th>73</th>\n",
       "      <td>충청북도</td>\n",
       "      <td>제천시</td>\n",
       "      <td>12125010</td>\n",
       "      <td>979.0</td>\n",
       "      <td>9024.0</td>\n",
       "      <td>314.0</td>\n",
       "      <td>0.0299</td>\n",
       "      <td>219.20</td>\n",
       "      <td>324.8</td>\n",
       "      <td>1.60</td>\n",
       "      <td>충청북도 제천시</td>\n",
       "    </tr>\n",
       "    <tr>\n",
       "      <th>74</th>\n",
       "      <td>충청북도</td>\n",
       "      <td>보은군</td>\n",
       "      <td>4737641</td>\n",
       "      <td>316.0</td>\n",
       "      <td>6349.0</td>\n",
       "      <td>99.0</td>\n",
       "      <td>0.0299</td>\n",
       "      <td>219.20</td>\n",
       "      <td>298.2</td>\n",
       "      <td>1.54</td>\n",
       "      <td>충청북도 보은군</td>\n",
       "    </tr>\n",
       "    <tr>\n",
       "      <th>75</th>\n",
       "      <td>충청북도</td>\n",
       "      <td>충주시</td>\n",
       "      <td>14797862</td>\n",
       "      <td>1578.0</td>\n",
       "      <td>10600.0</td>\n",
       "      <td>219.0</td>\n",
       "      <td>0.0299</td>\n",
       "      <td>219.20</td>\n",
       "      <td>296.8</td>\n",
       "      <td>1.64</td>\n",
       "      <td>충청북도 충주시</td>\n",
       "    </tr>\n",
       "    <tr>\n",
       "      <th>76</th>\n",
       "      <td>충청북도</td>\n",
       "      <td>영동군</td>\n",
       "      <td>4133509</td>\n",
       "      <td>1.0</td>\n",
       "      <td>6076.0</td>\n",
       "      <td>112.0</td>\n",
       "      <td>0.0299</td>\n",
       "      <td>219.20</td>\n",
       "      <td>296.4</td>\n",
       "      <td>1.64</td>\n",
       "      <td>충청북도 영동군</td>\n",
       "    </tr>\n",
       "    <tr>\n",
       "      <th>77</th>\n",
       "      <td>충청북도</td>\n",
       "      <td>단양군</td>\n",
       "      <td>6679972</td>\n",
       "      <td>287.0</td>\n",
       "      <td>1499.0</td>\n",
       "      <td>21.0</td>\n",
       "      <td>0.0299</td>\n",
       "      <td>219.20</td>\n",
       "      <td>283.2</td>\n",
       "      <td>1.48</td>\n",
       "      <td>충청북도 단양군</td>\n",
       "    </tr>\n",
       "  </tbody>\n",
       "</table>\n",
       "<p>78 rows × 11 columns</p>\n",
       "</div>"
      ],
      "text/plain": [
       "   state city  visit_cnt  cctv_cnt  sclight_cnt  smalight_cnt  crime_rate  \\\n",
       "0    강원도  정선군    8151609     515.0       4391.0          13.0      0.0271   \n",
       "1    강원도  평창군   13399820     190.0       6747.0          46.0      0.0271   \n",
       "2    강원도  홍천군   15125927     428.0       1191.0          37.0      0.0271   \n",
       "3    강원도  양구군    1828609     296.0        190.0          22.0      0.0271   \n",
       "4    강원도  고성군   11612683     422.0       4391.0          94.0      0.0271   \n",
       "..   ...  ...        ...       ...          ...           ...         ...   \n",
       "73  충청북도  제천시   12125010     979.0       9024.0         314.0      0.0299   \n",
       "74  충청북도  보은군    4737641     316.0       6349.0          99.0      0.0299   \n",
       "75  충청북도  충주시   14797862    1578.0      10600.0         219.0      0.0299   \n",
       "76  충청북도  영동군    4133509       1.0       6076.0         112.0      0.0299   \n",
       "77  충청북도  단양군    6679972     287.0       1499.0          21.0      0.0299   \n",
       "\n",
       "    avg_pop_density  mean_hours  mean_days new_state  \n",
       "0             90.36       427.8       1.62   강원도 정선군  \n",
       "1             90.36       395.8       1.62   강원도 평창군  \n",
       "2             90.36       388.8       1.54   강원도 홍천군  \n",
       "3             90.36       387.2       1.80   강원도 양구군  \n",
       "4             90.36       375.2       1.56   강원도 고성군  \n",
       "..              ...         ...        ...       ...  \n",
       "73           219.20       324.8       1.60  충청북도 제천시  \n",
       "74           219.20       298.2       1.54  충청북도 보은군  \n",
       "75           219.20       296.8       1.64  충청북도 충주시  \n",
       "76           219.20       296.4       1.64  충청북도 영동군  \n",
       "77           219.20       283.2       1.48  충청북도 단양군  \n",
       "\n",
       "[78 rows x 11 columns]"
      ]
     },
     "execution_count": 3,
     "metadata": {},
     "output_type": "execute_result"
    }
   ],
   "source": [
    "df_final = pd.read_csv('./df_security_concat_9.csv', encoding='cp949')\n",
    "df_final"
   ]
  },
  {
   "cell_type": "markdown",
   "id": "9c8123a4",
   "metadata": {},
   "source": [
    "## 변수 중요도 확인을 위한 x, y 데이터 분할 및 Label Encoding 진행"
   ]
  },
  {
   "cell_type": "code",
   "execution_count": 6,
   "id": "e931234e",
   "metadata": {
    "scrolled": true
   },
   "outputs": [
    {
     "data": {
      "text/html": [
       "<div>\n",
       "<style scoped>\n",
       "    .dataframe tbody tr th:only-of-type {\n",
       "        vertical-align: middle;\n",
       "    }\n",
       "\n",
       "    .dataframe tbody tr th {\n",
       "        vertical-align: top;\n",
       "    }\n",
       "\n",
       "    .dataframe thead th {\n",
       "        text-align: right;\n",
       "    }\n",
       "</style>\n",
       "<table border=\"1\" class=\"dataframe\">\n",
       "  <thead>\n",
       "    <tr style=\"text-align: right;\">\n",
       "      <th></th>\n",
       "      <th>visit_cnt</th>\n",
       "      <th>cctv_cnt</th>\n",
       "      <th>sclight_cnt</th>\n",
       "      <th>smalight_cnt</th>\n",
       "      <th>mean_hours</th>\n",
       "      <th>mean_days</th>\n",
       "      <th>new_state</th>\n",
       "    </tr>\n",
       "  </thead>\n",
       "  <tbody>\n",
       "    <tr>\n",
       "      <th>0</th>\n",
       "      <td>8151609</td>\n",
       "      <td>515.0</td>\n",
       "      <td>4391.0</td>\n",
       "      <td>13.0</td>\n",
       "      <td>427.8</td>\n",
       "      <td>1.62</td>\n",
       "      <td>강원도 정선군</td>\n",
       "    </tr>\n",
       "    <tr>\n",
       "      <th>1</th>\n",
       "      <td>13399820</td>\n",
       "      <td>190.0</td>\n",
       "      <td>6747.0</td>\n",
       "      <td>46.0</td>\n",
       "      <td>395.8</td>\n",
       "      <td>1.62</td>\n",
       "      <td>강원도 평창군</td>\n",
       "    </tr>\n",
       "    <tr>\n",
       "      <th>2</th>\n",
       "      <td>15125927</td>\n",
       "      <td>428.0</td>\n",
       "      <td>1191.0</td>\n",
       "      <td>37.0</td>\n",
       "      <td>388.8</td>\n",
       "      <td>1.54</td>\n",
       "      <td>강원도 홍천군</td>\n",
       "    </tr>\n",
       "    <tr>\n",
       "      <th>3</th>\n",
       "      <td>1828609</td>\n",
       "      <td>296.0</td>\n",
       "      <td>190.0</td>\n",
       "      <td>22.0</td>\n",
       "      <td>387.2</td>\n",
       "      <td>1.80</td>\n",
       "      <td>강원도 양구군</td>\n",
       "    </tr>\n",
       "    <tr>\n",
       "      <th>4</th>\n",
       "      <td>11612683</td>\n",
       "      <td>422.0</td>\n",
       "      <td>4391.0</td>\n",
       "      <td>94.0</td>\n",
       "      <td>375.2</td>\n",
       "      <td>1.56</td>\n",
       "      <td>강원도 고성군</td>\n",
       "    </tr>\n",
       "    <tr>\n",
       "      <th>...</th>\n",
       "      <td>...</td>\n",
       "      <td>...</td>\n",
       "      <td>...</td>\n",
       "      <td>...</td>\n",
       "      <td>...</td>\n",
       "      <td>...</td>\n",
       "      <td>...</td>\n",
       "    </tr>\n",
       "    <tr>\n",
       "      <th>73</th>\n",
       "      <td>12125010</td>\n",
       "      <td>979.0</td>\n",
       "      <td>9024.0</td>\n",
       "      <td>314.0</td>\n",
       "      <td>324.8</td>\n",
       "      <td>1.60</td>\n",
       "      <td>충청북도 제천시</td>\n",
       "    </tr>\n",
       "    <tr>\n",
       "      <th>74</th>\n",
       "      <td>4737641</td>\n",
       "      <td>316.0</td>\n",
       "      <td>6349.0</td>\n",
       "      <td>99.0</td>\n",
       "      <td>298.2</td>\n",
       "      <td>1.54</td>\n",
       "      <td>충청북도 보은군</td>\n",
       "    </tr>\n",
       "    <tr>\n",
       "      <th>75</th>\n",
       "      <td>14797862</td>\n",
       "      <td>1578.0</td>\n",
       "      <td>10600.0</td>\n",
       "      <td>219.0</td>\n",
       "      <td>296.8</td>\n",
       "      <td>1.64</td>\n",
       "      <td>충청북도 충주시</td>\n",
       "    </tr>\n",
       "    <tr>\n",
       "      <th>76</th>\n",
       "      <td>4133509</td>\n",
       "      <td>1.0</td>\n",
       "      <td>6076.0</td>\n",
       "      <td>112.0</td>\n",
       "      <td>296.4</td>\n",
       "      <td>1.64</td>\n",
       "      <td>충청북도 영동군</td>\n",
       "    </tr>\n",
       "    <tr>\n",
       "      <th>77</th>\n",
       "      <td>6679972</td>\n",
       "      <td>287.0</td>\n",
       "      <td>1499.0</td>\n",
       "      <td>21.0</td>\n",
       "      <td>283.2</td>\n",
       "      <td>1.48</td>\n",
       "      <td>충청북도 단양군</td>\n",
       "    </tr>\n",
       "  </tbody>\n",
       "</table>\n",
       "<p>78 rows × 7 columns</p>\n",
       "</div>"
      ],
      "text/plain": [
       "    visit_cnt  cctv_cnt  sclight_cnt  smalight_cnt  mean_hours  mean_days  \\\n",
       "0     8151609     515.0       4391.0          13.0       427.8       1.62   \n",
       "1    13399820     190.0       6747.0          46.0       395.8       1.62   \n",
       "2    15125927     428.0       1191.0          37.0       388.8       1.54   \n",
       "3     1828609     296.0        190.0          22.0       387.2       1.80   \n",
       "4    11612683     422.0       4391.0          94.0       375.2       1.56   \n",
       "..        ...       ...          ...           ...         ...        ...   \n",
       "73   12125010     979.0       9024.0         314.0       324.8       1.60   \n",
       "74    4737641     316.0       6349.0          99.0       298.2       1.54   \n",
       "75   14797862    1578.0      10600.0         219.0       296.8       1.64   \n",
       "76    4133509       1.0       6076.0         112.0       296.4       1.64   \n",
       "77    6679972     287.0       1499.0          21.0       283.2       1.48   \n",
       "\n",
       "   new_state  \n",
       "0    강원도 정선군  \n",
       "1    강원도 평창군  \n",
       "2    강원도 홍천군  \n",
       "3    강원도 양구군  \n",
       "4    강원도 고성군  \n",
       "..       ...  \n",
       "73  충청북도 제천시  \n",
       "74  충청북도 보은군  \n",
       "75  충청북도 충주시  \n",
       "76  충청북도 영동군  \n",
       "77  충청북도 단양군  \n",
       "\n",
       "[78 rows x 7 columns]"
      ]
     },
     "execution_count": 6,
     "metadata": {},
     "output_type": "execute_result"
    }
   ],
   "source": [
    "df_final_x = df_final.drop(['state', 'city', 'crime_rate', 'avg_pop_density'], axis =1)\n",
    "df_final_x"
   ]
  },
  {
   "cell_type": "code",
   "execution_count": 10,
   "id": "2e8b2a31",
   "metadata": {},
   "outputs": [],
   "source": [
    "df_final_y = df_final.crime_rate"
   ]
  },
  {
   "cell_type": "code",
   "execution_count": 11,
   "id": "64b440c0",
   "metadata": {
    "scrolled": false
   },
   "outputs": [
    {
     "data": {
      "text/plain": [
       "Index(['visit_cnt', 'cctv_cnt', 'sclight_cnt', 'smalight_cnt', 'mean_hours',\n",
       "       'mean_days', 'new_state'],\n",
       "      dtype='object')"
      ]
     },
     "execution_count": 11,
     "metadata": {},
     "output_type": "execute_result"
    }
   ],
   "source": [
    "v_feature_name=df_final_x.columns\n",
    "v_feature_name"
   ]
  },
  {
   "cell_type": "code",
   "execution_count": 16,
   "id": "08628bc0",
   "metadata": {},
   "outputs": [],
   "source": [
    "from sklearn.preprocessing import LabelEncoder"
   ]
  },
  {
   "cell_type": "code",
   "execution_count": 17,
   "id": "f506d215",
   "metadata": {},
   "outputs": [
    {
     "name": "stdout",
     "output_type": "stream",
     "text": [
      "Done.\n"
     ]
    }
   ],
   "source": [
    "qual_col = ['new_state']\n",
    "\n",
    "for i in qual_col:\n",
    "    le = LabelEncoder()\n",
    "    le = le.fit(df_final_x[i])\n",
    "    df_final_x[i] = le.transform(df_final_x[i])\n",
    "print('Done.')"
   ]
  },
  {
   "cell_type": "markdown",
   "id": "44b96024",
   "metadata": {},
   "source": [
    "## Decision Tree Regreesor를 통한 변수 중요도 확인"
   ]
  },
  {
   "cell_type": "code",
   "execution_count": 14,
   "id": "5e8f1bdc",
   "metadata": {},
   "outputs": [],
   "source": [
    "from sklearn.tree import DecisionTreeRegressor"
   ]
  },
  {
   "cell_type": "code",
   "execution_count": 32,
   "id": "1d9ca3d3",
   "metadata": {
    "scrolled": true
   },
   "outputs": [
    {
     "name": "stdout",
     "output_type": "stream",
     "text": [
      "Score on training set: 1.000\n"
     ]
    }
   ],
   "source": [
    "dt_ftimp = DecisionTreeRegressor(random_state=234,)\n",
    "dt_ftimp.fit(df_final_x, df_final_y)\n",
    "print(\"Score on training set: {:.3f}\".format(dt_ftimp.score(df_final_x, df_final_y)))"
   ]
  },
  {
   "cell_type": "code",
   "execution_count": 22,
   "id": "c9b3a8c5",
   "metadata": {},
   "outputs": [],
   "source": [
    "from matplotlib import pyplot as plt\n",
    "plt.rc('font', family='Malgun Gothic')"
   ]
  },
  {
   "cell_type": "code",
   "execution_count": 23,
   "id": "d45c0c72",
   "metadata": {
    "scrolled": false
   },
   "outputs": [
    {
     "data": {
      "text/plain": [
       "Text(0, 0.5, '설명변수')"
      ]
     },
     "execution_count": 23,
     "metadata": {},
     "output_type": "execute_result"
    },
    {
     "data": {
      "image/png": "[encoded data removed]",
      "text/plain": [
       "<Figure size 640x480 with 1 Axes>"
      ]
     },
     "metadata": {},
     "output_type": "display_data"
    }
   ],
   "source": [
    "df_importance = pd.DataFrame()# tree.feature_importances_로 설명 변수 중요도 확인 테이블로 저장\n",
    "df_importance['Feature'] = v_feature_name\n",
    "df_importance['Importance'] = dt_ftimp.feature_importances_\n",
    "#df_feature_importance의 테이블을 중요도 별로 정렬\n",
    "df_importance.sort_values('Importance', ascending = False, inplace = True)\n",
    "df_importance.round(3)\n",
    "df_importance.sort_values('Importance', ascending = True, inplace = True)\n",
    "coordinates = range(len(df_importance))\n",
    "plt.barh(y = coordinates, width = df_importance['Importance'])\n",
    "plt.yticks(coordinates, df_importance['Feature'])\n",
    "plt.xlabel('설명변수 중요도')\n",
    "plt.ylabel('설명변수')"
   ]
  },
  {
   "cell_type": "markdown",
   "id": "6d44c6f3",
   "metadata": {},
   "source": [
    "## RandomForestRegressor로 변수 중요도 확인"
   ]
  },
  {
   "cell_type": "code",
   "execution_count": 24,
   "id": "1303a618",
   "metadata": {},
   "outputs": [],
   "source": [
    "from sklearn.ensemble import RandomForestRegressor"
   ]
  },
  {
   "cell_type": "code",
   "execution_count": 34,
   "id": "5417e04a",
   "metadata": {},
   "outputs": [
    {
     "name": "stdout",
     "output_type": "stream",
     "text": [
      "Score on training set: 0.929\n"
     ]
    }
   ],
   "source": [
    "rf_ftimp = RandomForestRegressor(random_state=234,)\n",
    "rf_ftimp.fit(df_final_x, df_final_y)\n",
    "print(\"Score on training set: {:.3f}\".format(rf_ftimp.score(df_final_x, df_final_y)))"
   ]
  },
  {
   "cell_type": "code",
   "execution_count": 26,
   "id": "40c32e93",
   "metadata": {},
   "outputs": [
    {
     "data": {
      "text/plain": [
       "Text(0, 0.5, '설명변수')"
      ]
     },
     "execution_count": 26,
     "metadata": {},
     "output_type": "execute_result"
    },
    {
     "data": {
      "image/png": "[encoded data removed]",
      "text/plain": [
       "<Figure size 640x480 with 1 Axes>"
      ]
     },
     "metadata": {},
     "output_type": "display_data"
    }
   ],
   "source": [
    "df_importance = pd.DataFrame()# tree.feature_importances_로 설명 변수 중요도 확인 테이블로 저장\n",
    "df_importance['Feature'] = v_feature_name\n",
    "df_importance['Importance'] = rf_ftimp.feature_importances_\n",
    "#df_feature_importance의 테이블을 중요도 별로 정렬\n",
    "df_importance.sort_values('Importance', ascending = False, inplace = True)\n",
    "df_importance.round(3)\n",
    "df_importance.sort_values('Importance', ascending = True, inplace = True)\n",
    "coordinates = range(len(df_importance))\n",
    "plt.barh(y = coordinates, width = df_importance['Importance'])\n",
    "plt.yticks(coordinates, df_importance['Feature'])\n",
    "plt.xlabel('설명변수 중요도')\n",
    "plt.ylabel('설명변수')"
   ]
  },
  {
   "cell_type": "markdown",
   "id": "4626b6a0",
   "metadata": {},
   "source": [
    "## GradientBoostingRegressor를 통한 변수 중요도 확인"
   ]
  },
  {
   "cell_type": "code",
   "execution_count": 27,
   "id": "206ac86e",
   "metadata": {},
   "outputs": [],
   "source": [
    "from sklearn.ensemble import GradientBoostingRegressor"
   ]
  },
  {
   "cell_type": "code",
   "execution_count": 35,
   "id": "665cfd29",
   "metadata": {},
   "outputs": [
    {
     "name": "stdout",
     "output_type": "stream",
     "text": [
      "Score on training set: 0.999\n"
     ]
    }
   ],
   "source": [
    "gb_ftimp = GradientBoostingRegressor(random_state=234,)\n",
    "gb_ftimp.fit(df_final_x, df_final_y)\n",
    "print(\"Score on training set: {:.3f}\".format(gb_ftimp.score(df_final_x, df_final_y)))"
   ]
  },
  {
   "cell_type": "code",
   "execution_count": 29,
   "id": "729fc68c",
   "metadata": {},
   "outputs": [
    {
     "data": {
      "text/plain": [
       "Text(0, 0.5, '설명변수')"
      ]
     },
     "execution_count": 29,
     "metadata": {},
     "output_type": "execute_result"
    },
    {
     "data": {
      "image/png": "[encoded data removed]",
      "text/plain": [
       "<Figure size 640x480 with 1 Axes>"
      ]
     },
     "metadata": {},
     "output_type": "display_data"
    }
   ],
   "source": [
    "df_importance = pd.DataFrame()# tree.feature_importances_로 설명 변수 중요도 확인 테이블로 저장\n",
    "df_importance['Feature'] = v_feature_name\n",
    "df_importance['Importance'] = gb_ftimp.feature_importances_\n",
    "#df_feature_importance의 테이블을 중요도 별로 정렬\n",
    "df_importance.sort_values('Importance', ascending = False, inplace = True)\n",
    "df_importance.round(3)\n",
    "df_importance.sort_values('Importance', ascending = True, inplace = True)\n",
    "coordinates = range(len(df_importance))\n",
    "plt.barh(y = coordinates, width = df_importance['Importance'])\n",
    "plt.yticks(coordinates, df_importance['Feature'])\n",
    "plt.xlabel('설명변수 중요도')\n",
    "plt.ylabel('설명변수')"
   ]
  },
  {
   "cell_type": "markdown",
   "id": "521bc406",
   "metadata": {},
   "source": [
    "### >> \"new_state\" (지역) 변수를 추가하니 해당 변수의 중요도가 너무 높음. 해당 변수를 제외하고 나머지 변수들의 중요도를 보기 위해 변수 drop 후 다시 feature_importance 확인"
   ]
  },
  {
   "cell_type": "code",
   "execution_count": 37,
   "id": "d54d7587",
   "metadata": {
    "scrolled": true
   },
   "outputs": [
    {
     "data": {
      "text/html": [
       "<div>\n",
       "<style scoped>\n",
       "    .dataframe tbody tr th:only-of-type {\n",
       "        vertical-align: middle;\n",
       "    }\n",
       "\n",
       "    .dataframe tbody tr th {\n",
       "        vertical-align: top;\n",
       "    }\n",
       "\n",
       "    .dataframe thead th {\n",
       "        text-align: right;\n",
       "    }\n",
       "</style>\n",
       "<table border=\"1\" class=\"dataframe\">\n",
       "  <thead>\n",
       "    <tr style=\"text-align: right;\">\n",
       "      <th></th>\n",
       "      <th>visit_cnt</th>\n",
       "      <th>cctv_cnt</th>\n",
       "      <th>sclight_cnt</th>\n",
       "      <th>smalight_cnt</th>\n",
       "      <th>mean_hours</th>\n",
       "      <th>mean_days</th>\n",
       "    </tr>\n",
       "  </thead>\n",
       "  <tbody>\n",
       "    <tr>\n",
       "      <th>0</th>\n",
       "      <td>8151609</td>\n",
       "      <td>515.0</td>\n",
       "      <td>4391.0</td>\n",
       "      <td>13.0</td>\n",
       "      <td>427.8</td>\n",
       "      <td>1.62</td>\n",
       "    </tr>\n",
       "    <tr>\n",
       "      <th>1</th>\n",
       "      <td>13399820</td>\n",
       "      <td>190.0</td>\n",
       "      <td>6747.0</td>\n",
       "      <td>46.0</td>\n",
       "      <td>395.8</td>\n",
       "      <td>1.62</td>\n",
       "    </tr>\n",
       "    <tr>\n",
       "      <th>2</th>\n",
       "      <td>15125927</td>\n",
       "      <td>428.0</td>\n",
       "      <td>1191.0</td>\n",
       "      <td>37.0</td>\n",
       "      <td>388.8</td>\n",
       "      <td>1.54</td>\n",
       "    </tr>\n",
       "    <tr>\n",
       "      <th>3</th>\n",
       "      <td>1828609</td>\n",
       "      <td>296.0</td>\n",
       "      <td>190.0</td>\n",
       "      <td>22.0</td>\n",
       "      <td>387.2</td>\n",
       "      <td>1.80</td>\n",
       "    </tr>\n",
       "    <tr>\n",
       "      <th>4</th>\n",
       "      <td>11612683</td>\n",
       "      <td>422.0</td>\n",
       "      <td>4391.0</td>\n",
       "      <td>94.0</td>\n",
       "      <td>375.2</td>\n",
       "      <td>1.56</td>\n",
       "    </tr>\n",
       "    <tr>\n",
       "      <th>...</th>\n",
       "      <td>...</td>\n",
       "      <td>...</td>\n",
       "      <td>...</td>\n",
       "      <td>...</td>\n",
       "      <td>...</td>\n",
       "      <td>...</td>\n",
       "    </tr>\n",
       "    <tr>\n",
       "      <th>73</th>\n",
       "      <td>12125010</td>\n",
       "      <td>979.0</td>\n",
       "      <td>9024.0</td>\n",
       "      <td>314.0</td>\n",
       "      <td>324.8</td>\n",
       "      <td>1.60</td>\n",
       "    </tr>\n",
       "    <tr>\n",
       "      <th>74</th>\n",
       "      <td>4737641</td>\n",
       "      <td>316.0</td>\n",
       "      <td>6349.0</td>\n",
       "      <td>99.0</td>\n",
       "      <td>298.2</td>\n",
       "      <td>1.54</td>\n",
       "    </tr>\n",
       "    <tr>\n",
       "      <th>75</th>\n",
       "      <td>14797862</td>\n",
       "      <td>1578.0</td>\n",
       "      <td>10600.0</td>\n",
       "      <td>219.0</td>\n",
       "      <td>296.8</td>\n",
       "      <td>1.64</td>\n",
       "    </tr>\n",
       "    <tr>\n",
       "      <th>76</th>\n",
       "      <td>4133509</td>\n",
       "      <td>1.0</td>\n",
       "      <td>6076.0</td>\n",
       "      <td>112.0</td>\n",
       "      <td>296.4</td>\n",
       "      <td>1.64</td>\n",
       "    </tr>\n",
       "    <tr>\n",
       "      <th>77</th>\n",
       "      <td>6679972</td>\n",
       "      <td>287.0</td>\n",
       "      <td>1499.0</td>\n",
       "      <td>21.0</td>\n",
       "      <td>283.2</td>\n",
       "      <td>1.48</td>\n",
       "    </tr>\n",
       "  </tbody>\n",
       "</table>\n",
       "<p>78 rows × 6 columns</p>\n",
       "</div>"
      ],
      "text/plain": [
       "    visit_cnt  cctv_cnt  sclight_cnt  smalight_cnt  mean_hours  mean_days\n",
       "0     8151609     515.0       4391.0          13.0       427.8       1.62\n",
       "1    13399820     190.0       6747.0          46.0       395.8       1.62\n",
       "2    15125927     428.0       1191.0          37.0       388.8       1.54\n",
       "3     1828609     296.0        190.0          22.0       387.2       1.80\n",
       "4    11612683     422.0       4391.0          94.0       375.2       1.56\n",
       "..        ...       ...          ...           ...         ...        ...\n",
       "73   12125010     979.0       9024.0         314.0       324.8       1.60\n",
       "74    4737641     316.0       6349.0          99.0       298.2       1.54\n",
       "75   14797862    1578.0      10600.0         219.0       296.8       1.64\n",
       "76    4133509       1.0       6076.0         112.0       296.4       1.64\n",
       "77    6679972     287.0       1499.0          21.0       283.2       1.48\n",
       "\n",
       "[78 rows x 6 columns]"
      ]
     },
     "execution_count": 37,
     "metadata": {},
     "output_type": "execute_result"
    }
   ],
   "source": [
    "df_drop_state = df_final_x.drop(['new_state'], axis=1)\n",
    "df_drop_state"
   ]
  },
  {
   "cell_type": "code",
   "execution_count": 47,
   "id": "0e331122",
   "metadata": {},
   "outputs": [],
   "source": [
    "v_feature_name2 = df_drop_state.columns"
   ]
  },
  {
   "cell_type": "markdown",
   "id": "92f1f098",
   "metadata": {},
   "source": [
    "## new_state 컬럼 drop 후 DecisionTreeRegressor로 변수 중요도 다시 확인"
   ]
  },
  {
   "cell_type": "code",
   "execution_count": 48,
   "id": "9bec9817",
   "metadata": {},
   "outputs": [],
   "source": [
    "from matplotlib import pyplot as plt\n",
    "plt.rc('font', family='Malgun Gothic')"
   ]
  },
  {
   "cell_type": "code",
   "execution_count": 49,
   "id": "4bd1dceb",
   "metadata": {},
   "outputs": [],
   "source": [
    "from sklearn.tree import DecisionTreeRegressor"
   ]
  },
  {
   "cell_type": "code",
   "execution_count": 50,
   "id": "1b48e00f",
   "metadata": {},
   "outputs": [
    {
     "name": "stdout",
     "output_type": "stream",
     "text": [
      "Score on training set: 1.000\n"
     ]
    }
   ],
   "source": [
    "dt_ftimp2 = DecisionTreeRegressor(random_state=456,)\n",
    "dt_ftimp2.fit(df_drop_state, df_final_y)\n",
    "print(\"Score on training set: {:.3f}\".format(dt_ftimp.score(df_drop_state, df_final_y)))"
   ]
  },
  {
   "cell_type": "code",
   "execution_count": 52,
   "id": "772196bd",
   "metadata": {
    "scrolled": true
   },
   "outputs": [
    {
     "data": {
      "text/plain": [
       "Text(0, 0.5, '설명변수')"
      ]
     },
     "execution_count": 52,
     "metadata": {},
     "output_type": "execute_result"
    },
    {
     "data": {
      "image/png": "[encoded data removed]",
      "text/plain": [
       "<Figure size 640x480 with 1 Axes>"
      ]
     },
     "metadata": {},
     "output_type": "display_data"
    }
   ],
   "source": [
    "df_importance = pd.DataFrame()# tree.feature_importances_로 설명 변수 중요도 확인 테이블로 저장\n",
    "df_importance['Feature'] = v_feature_name2\n",
    "df_importance['Importance'] = dt_ftimp2.feature_importances_\n",
    "#df_feature_importance의 테이블을 중요도 별로 정렬\n",
    "df_importance.sort_values('Importance', ascending = False, inplace = True)\n",
    "df_importance.round(3)\n",
    "df_importance.sort_values('Importance', ascending = True, inplace = True)\n",
    "coordinates = range(len(df_importance))\n",
    "plt.barh(y = coordinates, width = df_importance['Importance'])\n",
    "plt.yticks(coordinates, df_importance['Feature'])\n",
    "plt.xlabel('설명변수 중요도')\n",
    "plt.ylabel('설명변수')"
   ]
  },
  {
   "cell_type": "markdown",
   "id": "54afd2e8",
   "metadata": {},
   "source": [
    "## new_state 컬럼 drop 후 RandomForestRegressor로 변수 중요도 다시 확인"
   ]
  },
  {
   "cell_type": "code",
   "execution_count": 38,
   "id": "48f75523",
   "metadata": {},
   "outputs": [],
   "source": [
    "from sklearn.ensemble import RandomForestRegressor"
   ]
  },
  {
   "cell_type": "code",
   "execution_count": 54,
   "id": "3753c41d",
   "metadata": {},
   "outputs": [
    {
     "name": "stdout",
     "output_type": "stream",
     "text": [
      "Score on training set: 0.850\n"
     ]
    }
   ],
   "source": [
    "rf_ftimp2 = RandomForestRegressor(random_state=456,)\n",
    "rf_ftimp2.fit(df_drop_state, df_final_y)\n",
    "print(\"Score on training set: {:.3f}\".format(rf_ftimp2.score(df_drop_state, df_final_y)))"
   ]
  },
  {
   "cell_type": "code",
   "execution_count": 55,
   "id": "975a9f15",
   "metadata": {
    "scrolled": true
   },
   "outputs": [
    {
     "data": {
      "text/plain": [
       "Text(0, 0.5, '설명변수')"
      ]
     },
     "execution_count": 55,
     "metadata": {},
     "output_type": "execute_result"
    },
    {
     "data": {
      "image/png": "[encoded data removed]",
      "text/plain": [
       "<Figure size 640x480 with 1 Axes>"
      ]
     },
     "metadata": {},
     "output_type": "display_data"
    }
   ],
   "source": [
    "df_importance = pd.DataFrame()# tree.feature_importances_로 설명 변수 중요도 확인 테이블로 저장\n",
    "df_importance['Feature'] = v_feature_name2\n",
    "df_importance['Importance'] = rf_ftimp2.feature_importances_\n",
    "#df_feature_importance의 테이블을 중요도 별로 정렬\n",
    "df_importance.sort_values('Importance', ascending = False, inplace = True)\n",
    "df_importance.round(3)\n",
    "df_importance.sort_values('Importance', ascending = True, inplace = True)\n",
    "coordinates = range(len(df_importance))\n",
    "plt.barh(y = coordinates, width = df_importance['Importance'])\n",
    "plt.yticks(coordinates, df_importance['Feature'])\n",
    "plt.xlabel('설명변수 중요도')\n",
    "plt.ylabel('설명변수')"
   ]
  },
  {
   "cell_type": "markdown",
   "id": "552593a4",
   "metadata": {},
   "source": [
    "## new_state 컬럼 drop 후 GradientBoostingRegressor로 변수 중요도 다시 확인"
   ]
  },
  {
   "cell_type": "code",
   "execution_count": 56,
   "id": "bd8e5574",
   "metadata": {},
   "outputs": [],
   "source": [
    "from sklearn.ensemble import GradientBoostingRegressor"
   ]
  },
  {
   "cell_type": "code",
   "execution_count": 57,
   "id": "7554c436",
   "metadata": {},
   "outputs": [
    {
     "name": "stdout",
     "output_type": "stream",
     "text": [
      "Score on training set: 0.988\n"
     ]
    }
   ],
   "source": [
    "gb_ftimp2 = GradientBoostingRegressor(random_state=234,)\n",
    "gb_ftimp2.fit(df_drop_state, df_final_y)\n",
    "print(\"Score on training set: {:.3f}\".format(gb_ftimp2.score(df_drop_state, df_final_y)))"
   ]
  },
  {
   "cell_type": "code",
   "execution_count": 58,
   "id": "5413ff12",
   "metadata": {},
   "outputs": [
    {
     "data": {
      "text/plain": [
       "Text(0, 0.5, '설명변수')"
      ]
     },
     "execution_count": 58,
     "metadata": {},
     "output_type": "execute_result"
    },
    {
     "data": {
      "image/png": "[encoded data removed]",
      "text/plain": [
       "<Figure size 640x480 with 1 Axes>"
      ]
     },
     "metadata": {},
     "output_type": "display_data"
    }
   ],
   "source": [
    "df_importance = pd.DataFrame()# tree.feature_importances_로 설명 변수 중요도 확인 테이블로 저장\n",
    "df_importance['Feature'] = v_feature_name2\n",
    "df_importance['Importance'] = gb_ftimp2.feature_importances_\n",
    "#df_feature_importance의 테이블을 중요도 별로 정렬\n",
    "df_importance.sort_values('Importance', ascending = False, inplace = True)\n",
    "df_importance.round(3)\n",
    "df_importance.sort_values('Importance', ascending = True, inplace = True)\n",
    "coordinates = range(len(df_importance))\n",
    "plt.barh(y = coordinates, width = df_importance['Importance'])\n",
    "plt.yticks(coordinates, df_importance['Feature'])\n",
    "plt.xlabel('설명변수 중요도')\n",
    "plt.ylabel('설명변수')"
   ]
  }
 ],
 "metadata": {
  "kernelspec": {
   "display_name": "Python 3 (ipykernel)",
   "language": "python",
   "name": "python3"
  },
  "language_info": {
   "codemirror_mode": {
    "name": "ipython",
    "version": 3
   },
   "file_extension": ".py",
   "mimetype": "text/x-python",
   "name": "python",
   "nbconvert_exporter": "python",
   "pygments_lexer": "ipython3",
   "version": "3.9.13"
  }
 },
 "nbformat": 4,
 "nbformat_minor": 5
}
