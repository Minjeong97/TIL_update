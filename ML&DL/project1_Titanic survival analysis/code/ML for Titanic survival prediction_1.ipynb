{
 "cells": [
  {
   "cell_type": "markdown",
   "metadata": {
    "datalore": {
     "hide_input_from_viewers": false,
     "hide_output_from_viewers": false,
     "node_id": "Main",
     "sheet_delimiter": true,
     "type": "MD"
    }
   },
   "source": [
    "# Main"
   ]
  },
  {
   "cell_type": "code",
   "execution_count": 1,
   "metadata": {
    "datalore": {
     "hide_input_from_viewers": false,
     "hide_output_from_viewers": false,
     "node_id": "UjWaF0FEJLFLsEwOFnwoKs",
     "report_properties": {
      "y": 0
     },
     "type": "CODE"
    }
   },
   "outputs": [],
   "source": [
    "#library import and set\n",
    "import warnings\n",
    "warnings.filterwarnings(\"ignore\")\n",
    "import collections\n",
    "\n",
    "import pandas as pd\n",
    "import numpy as np\n",
    "import matplotlib.pyplot as plt\n",
    "import seaborn as sns\n",
    "import matplotlib.font_manager as fm\n",
    "plt.style.use('ggplot')\n",
    "\n",
    "fm.get_fontconfig_fonts()\n",
    "font_location = '/data/notebook_files/font/esamanru Medium.ttf'\n",
    "# font_location = 'C:/Windows/Fonts/NanumGothic.ttf' # For Windows\n",
    "fprop = fm.FontProperties(fname=font_location)\n",
    "\n",
    "# matplotlib.rc('font', family=font_name)\n",
    "# from sklearn import ?\n",
    "# from sklearn.metrics import ?"
   ]
  },
  {
   "cell_type": "markdown",
   "metadata": {
    "datalore": {
     "hide_input_from_viewers": false,
     "hide_output_from_viewers": false,
     "node_id": "5BpC48CSnGUWR61L87ZwWy",
     "report_properties": {
      "y": 11
     },
     "type": "MD"
    }
   },
   "source": [
    "<br>\n",
    "\n",
    "## 1. Preparing dataset (2번부터 실습 진행)"
   ]
  },
  {
   "cell_type": "code",
   "execution_count": 2,
   "metadata": {
    "datalore": {
     "hide_input_from_viewers": false,
     "hide_output_from_viewers": false,
     "node_id": "S3eozBUN4mndcbU698Hq15",
     "report_properties": {
      "y": 21
     },
     "type": "CODE"
    }
   },
   "outputs": [
    {
     "data": {
      "text/html": [
       "<div>\n",
       "<style scoped>\n",
       "    .dataframe tbody tr th:only-of-type {\n",
       "        vertical-align: middle;\n",
       "    }\n",
       "\n",
       "    .dataframe tbody tr th {\n",
       "        vertical-align: top;\n",
       "    }\n",
       "\n",
       "    .dataframe thead th {\n",
       "        text-align: right;\n",
       "    }\n",
       "</style>\n",
       "<table border=\"1\" class=\"dataframe\">\n",
       "  <thead>\n",
       "    <tr style=\"text-align: right;\">\n",
       "      <th></th>\n",
       "      <th>PassengerId</th>\n",
       "      <th>Survived</th>\n",
       "      <th>Pclass</th>\n",
       "      <th>Name</th>\n",
       "      <th>Sex</th>\n",
       "      <th>Age</th>\n",
       "      <th>SibSp</th>\n",
       "      <th>Parch</th>\n",
       "      <th>Ticket</th>\n",
       "      <th>Fare</th>\n",
       "      <th>Cabin</th>\n",
       "      <th>Embarked</th>\n",
       "    </tr>\n",
       "  </thead>\n",
       "  <tbody>\n",
       "    <tr>\n",
       "      <th>0</th>\n",
       "      <td>1</td>\n",
       "      <td>0</td>\n",
       "      <td>3</td>\n",
       "      <td>Braund, Mr. Owen Harris</td>\n",
       "      <td>male</td>\n",
       "      <td>22.0</td>\n",
       "      <td>1</td>\n",
       "      <td>0</td>\n",
       "      <td>A/5 21171</td>\n",
       "      <td>7.2500</td>\n",
       "      <td>NaN</td>\n",
       "      <td>S</td>\n",
       "    </tr>\n",
       "    <tr>\n",
       "      <th>1</th>\n",
       "      <td>2</td>\n",
       "      <td>1</td>\n",
       "      <td>1</td>\n",
       "      <td>Cumings, Mrs. John Bradley (Florence Briggs Th...</td>\n",
       "      <td>female</td>\n",
       "      <td>38.0</td>\n",
       "      <td>1</td>\n",
       "      <td>0</td>\n",
       "      <td>PC 17599</td>\n",
       "      <td>71.2833</td>\n",
       "      <td>C85</td>\n",
       "      <td>C</td>\n",
       "    </tr>\n",
       "    <tr>\n",
       "      <th>2</th>\n",
       "      <td>3</td>\n",
       "      <td>1</td>\n",
       "      <td>3</td>\n",
       "      <td>Heikkinen, Miss. Laina</td>\n",
       "      <td>female</td>\n",
       "      <td>26.0</td>\n",
       "      <td>0</td>\n",
       "      <td>0</td>\n",
       "      <td>STON/O2. 3101282</td>\n",
       "      <td>7.9250</td>\n",
       "      <td>NaN</td>\n",
       "      <td>S</td>\n",
       "    </tr>\n",
       "  </tbody>\n",
       "</table>\n",
       "</div>"
      ]
     },
     "metadata": {},
     "output_type": "display_data"
    }
   ],
   "source": [
    "data_df = pd.read_csv('titanic.csv')\n",
    "data_df.head(3)"
   ]
  },
  {
   "cell_type": "markdown",
   "metadata": {
    "datalore": {
     "hide_input_from_viewers": false,
     "hide_output_from_viewers": false,
     "node_id": "vSWGPxwErFdaCf6g7QRTfN",
     "report_properties": {
      "y": 25
     },
     "type": "MD"
    }
   },
   "source": [
    "## Data info\n",
    "\n",
    "- **PassengerId** : Unique ID of passenger\n",
    "- **Survived** : 0 = No, 1 = Yes\n",
    "- **pclass** : Ticket class (1 = 1st, 2 = 2nd, 3 = 3rd)\n",
    "- **sibsp** : # of siblings & spouses aboard the Titanic\n",
    "- **parch** : # of parents / children aboard the Titanic\n",
    "- **ticket** : Ticket number\n",
    "- **cabin** : Cabin number\n",
    "- **embarked** : Port of Embarkation (C = Cherbourg, Q = Queenstown, S = Southampton)"
   ]
  },
  {
   "cell_type": "markdown",
   "metadata": {
    "datalore": {
     "hide_input_from_viewers": true,
     "hide_output_from_viewers": true,
     "node_id": "KAOep60xH7A39xTpNlNgu7",
     "type": "MD"
    }
   },
   "source": [
    "<figure>\n",
    "    <center> <img src=\"./images/embark_image.png\"  alt='missing' width=\"600\"  ><center/>\n",
    "<figure/>"
   ]
  },
  {
   "cell_type": "code",
   "execution_count": 3,
   "metadata": {
    "datalore": {
     "hide_input_from_viewers": false,
     "hide_output_from_viewers": false,
     "node_id": "BWjwFArl4ubczRKt8r6cw7",
     "report_properties": {
      "y": 71
     },
     "type": "CODE"
    }
   },
   "outputs": [],
   "source": [
    "y_data = data_df[['Survived']]\n",
    "# y_data.head(3)"
   ]
  },
  {
   "cell_type": "code",
   "execution_count": 4,
   "metadata": {
    "datalore": {
     "hide_input_from_viewers": false,
     "hide_output_from_viewers": false,
     "node_id": "43K1NZqtWBjbquCmCvxHv2",
     "report_properties": {
      "y": 74
     },
     "type": "CODE"
    }
   },
   "outputs": [],
   "source": [
    "del data_df['Survived']\n",
    "x_data = data_df.copy()\n",
    "# x_data.head(3)"
   ]
  },
  {
   "cell_type": "markdown",
   "metadata": {
    "datalore": {
     "hide_input_from_viewers": false,
     "hide_output_from_viewers": false,
     "node_id": "q7KPcFnSzu296NtsOXKEGd",
     "report_properties": {
      "y": 78
     },
     "type": "MD"
    }
   },
   "source": [
    "<br>\n",
    "\n",
    "## 2. Feature engineering & Feature selection"
   ]
  },
  {
   "cell_type": "markdown",
   "metadata": {
    "datalore": {
     "hide_input_from_viewers": false,
     "hide_output_from_viewers": false,
     "node_id": "uxedPtWTT79QrsexeX2Ibv",
     "report_properties": {
      "y": 85
     },
     "type": "MD"
    }
   },
   "source": [
    "#### 시도해볼 수 있는 전략들\n",
    "\n",
    "- 불필요한 열이나 예측에 방해가 되는 열은 아예 지우기 (ex. PassengerId)\n",
    "- 결측치 채우기 \n",
    "- Text로 되어있는 Category(Factor)는 숫자로 바꿔주기 (ex. Male/Female -> 0/1)\n",
    "- 실수 범위를 구간 범위로 바꿔주기 \n",
    "- 필요한 경우 기존 열을 바탕으로 새로운 열을 계산해 추가하기"
   ]
  },
  {
   "cell_type": "code",
   "execution_count": 5,
   "metadata": {
    "datalore": {
     "hide_input_from_viewers": true,
     "hide_output_from_viewers": true,
     "node_id": "lb90DGYLcyuEubpC9xAzEI",
     "type": "CODE"
    }
   },
   "outputs": [],
   "source": [
    "# # 기본적인 결측치 채우는 방법\n",
    "# mean_age = x_data['Age'].median(skipna=True)\n",
    "# x_data['Age'] = x_data['Age'].fillna(mean_age) # or .fillna(int/float/str 값)"
   ]
  },
  {
   "cell_type": "code",
   "execution_count": 6,
   "metadata": {
    "datalore": {
     "hide_input_from_viewers": true,
     "hide_output_from_viewers": true,
     "node_id": "9RXayTHOVZNtuLDiZYRPb6",
     "type": "CODE"
    }
   },
   "outputs": [],
   "source": [
    "# load a data\n",
    "data_df = pd.read_csv('titanic.csv')"
   ]
  },
  {
   "cell_type": "markdown",
   "metadata": {
    "datalore": {
     "hide_input_from_viewers": true,
     "hide_output_from_viewers": true,
     "node_id": "0eXELRGUZJXyv5sjxprcyg",
     "type": "MD"
    }
   },
   "source": [
    "## EDA"
   ]
  },
  {
   "cell_type": "code",
   "execution_count": 7,
   "metadata": {
    "datalore": {
     "hide_input_from_viewers": false,
     "hide_output_from_viewers": false,
     "node_id": "smSWMEr2xEoTplH3CzRfX7",
     "report_properties": {
      "y": 146
     },
     "type": "CODE"
    }
   },
   "outputs": [
    {
     "name": "stdout",
     "output_type": "stream",
     "text": [
      "<class 'pandas.core.frame.DataFrame'>\n",
      "RangeIndex: 891 entries, 0 to 890\n",
      "Data columns (total 12 columns):\n",
      " #   Column       Non-Null Count  Dtype  \n",
      "---  ------       --------------  -----  \n",
      " 0   PassengerId  891 non-null    int64  \n",
      " 1   Survived     891 non-null    int64  \n",
      " 2   Pclass       891 non-null    int64  \n",
      " 3   Name         891 non-null    object \n",
      " 4   Sex          891 non-null    object \n",
      " 5   Age          714 non-null    float64\n",
      " 6   SibSp        891 non-null    int64  \n",
      " 7   Parch        891 non-null    int64  \n",
      " 8   Ticket       891 non-null    object \n",
      " 9   Fare         891 non-null    float64\n",
      " 10  Cabin        204 non-null    object \n",
      " 11  Embarked     889 non-null    object \n",
      "dtypes: float64(2), int64(5), object(5)\n",
      "memory usage: 83.7+ KB\n"
     ]
    }
   ],
   "source": [
    "# check df's info \n",
    "data_df.info()"
   ]
  },
  {
   "cell_type": "code",
   "execution_count": 8,
   "metadata": {
    "datalore": {
     "hide_input_from_viewers": true,
     "hide_output_from_viewers": true,
     "node_id": "b6OwS7QNmi8fas0HsVg7pa",
     "type": "CODE"
    }
   },
   "outputs": [
    {
     "data": {
      "text/html": [
       "<div>\n",
       "<style scoped>\n",
       "    .dataframe tbody tr th:only-of-type {\n",
       "        vertical-align: middle;\n",
       "    }\n",
       "\n",
       "    .dataframe tbody tr th {\n",
       "        vertical-align: top;\n",
       "    }\n",
       "\n",
       "    .dataframe thead th {\n",
       "        text-align: right;\n",
       "    }\n",
       "</style>\n",
       "<table border=\"1\" class=\"dataframe\">\n",
       "  <thead>\n",
       "    <tr style=\"text-align: right;\">\n",
       "      <th></th>\n",
       "      <th>PassengerId</th>\n",
       "      <th>Survived</th>\n",
       "      <th>Pclass</th>\n",
       "      <th>Name</th>\n",
       "      <th>Sex</th>\n",
       "      <th>Age</th>\n",
       "      <th>SibSp</th>\n",
       "      <th>Parch</th>\n",
       "      <th>Ticket</th>\n",
       "      <th>Fare</th>\n",
       "      <th>Cabin</th>\n",
       "      <th>Embarked</th>\n",
       "    </tr>\n",
       "  </thead>\n",
       "  <tbody>\n",
       "    <tr>\n",
       "      <th>0</th>\n",
       "      <td>1</td>\n",
       "      <td>0</td>\n",
       "      <td>3</td>\n",
       "      <td>Braund, Mr. Owen Harris</td>\n",
       "      <td>male</td>\n",
       "      <td>22.0</td>\n",
       "      <td>1</td>\n",
       "      <td>0</td>\n",
       "      <td>A/5 21171</td>\n",
       "      <td>7.2500</td>\n",
       "      <td>NaN</td>\n",
       "      <td>S</td>\n",
       "    </tr>\n",
       "    <tr>\n",
       "      <th>1</th>\n",
       "      <td>2</td>\n",
       "      <td>1</td>\n",
       "      <td>1</td>\n",
       "      <td>Cumings, Mrs. John Bradley (Florence Briggs Th...</td>\n",
       "      <td>female</td>\n",
       "      <td>38.0</td>\n",
       "      <td>1</td>\n",
       "      <td>0</td>\n",
       "      <td>PC 17599</td>\n",
       "      <td>71.2833</td>\n",
       "      <td>C85</td>\n",
       "      <td>C</td>\n",
       "    </tr>\n",
       "    <tr>\n",
       "      <th>2</th>\n",
       "      <td>3</td>\n",
       "      <td>1</td>\n",
       "      <td>3</td>\n",
       "      <td>Heikkinen, Miss. Laina</td>\n",
       "      <td>female</td>\n",
       "      <td>26.0</td>\n",
       "      <td>0</td>\n",
       "      <td>0</td>\n",
       "      <td>STON/O2. 3101282</td>\n",
       "      <td>7.9250</td>\n",
       "      <td>NaN</td>\n",
       "      <td>S</td>\n",
       "    </tr>\n",
       "    <tr>\n",
       "      <th>3</th>\n",
       "      <td>4</td>\n",
       "      <td>1</td>\n",
       "      <td>1</td>\n",
       "      <td>Futrelle, Mrs. Jacques Heath (Lily May Peel)</td>\n",
       "      <td>female</td>\n",
       "      <td>35.0</td>\n",
       "      <td>1</td>\n",
       "      <td>0</td>\n",
       "      <td>113803</td>\n",
       "      <td>53.1000</td>\n",
       "      <td>C123</td>\n",
       "      <td>S</td>\n",
       "    </tr>\n",
       "    <tr>\n",
       "      <th>4</th>\n",
       "      <td>5</td>\n",
       "      <td>0</td>\n",
       "      <td>3</td>\n",
       "      <td>Allen, Mr. William Henry</td>\n",
       "      <td>male</td>\n",
       "      <td>35.0</td>\n",
       "      <td>0</td>\n",
       "      <td>0</td>\n",
       "      <td>373450</td>\n",
       "      <td>8.0500</td>\n",
       "      <td>NaN</td>\n",
       "      <td>S</td>\n",
       "    </tr>\n",
       "    <tr>\n",
       "      <th>...</th>\n",
       "      <td>...</td>\n",
       "      <td>...</td>\n",
       "      <td>...</td>\n",
       "      <td>...</td>\n",
       "      <td>...</td>\n",
       "      <td>...</td>\n",
       "      <td>...</td>\n",
       "      <td>...</td>\n",
       "      <td>...</td>\n",
       "      <td>...</td>\n",
       "      <td>...</td>\n",
       "      <td>...</td>\n",
       "    </tr>\n",
       "    <tr>\n",
       "      <th>886</th>\n",
       "      <td>887</td>\n",
       "      <td>0</td>\n",
       "      <td>2</td>\n",
       "      <td>Montvila, Rev. Juozas</td>\n",
       "      <td>male</td>\n",
       "      <td>27.0</td>\n",
       "      <td>0</td>\n",
       "      <td>0</td>\n",
       "      <td>211536</td>\n",
       "      <td>13.0000</td>\n",
       "      <td>NaN</td>\n",
       "      <td>S</td>\n",
       "    </tr>\n",
       "    <tr>\n",
       "      <th>887</th>\n",
       "      <td>888</td>\n",
       "      <td>1</td>\n",
       "      <td>1</td>\n",
       "      <td>Graham, Miss. Margaret Edith</td>\n",
       "      <td>female</td>\n",
       "      <td>19.0</td>\n",
       "      <td>0</td>\n",
       "      <td>0</td>\n",
       "      <td>112053</td>\n",
       "      <td>30.0000</td>\n",
       "      <td>B42</td>\n",
       "      <td>S</td>\n",
       "    </tr>\n",
       "    <tr>\n",
       "      <th>888</th>\n",
       "      <td>889</td>\n",
       "      <td>0</td>\n",
       "      <td>3</td>\n",
       "      <td>Johnston, Miss. Catherine Helen \"Carrie\"</td>\n",
       "      <td>female</td>\n",
       "      <td>NaN</td>\n",
       "      <td>1</td>\n",
       "      <td>2</td>\n",
       "      <td>W./C. 6607</td>\n",
       "      <td>23.4500</td>\n",
       "      <td>NaN</td>\n",
       "      <td>S</td>\n",
       "    </tr>\n",
       "    <tr>\n",
       "      <th>889</th>\n",
       "      <td>890</td>\n",
       "      <td>1</td>\n",
       "      <td>1</td>\n",
       "      <td>Behr, Mr. Karl Howell</td>\n",
       "      <td>male</td>\n",
       "      <td>26.0</td>\n",
       "      <td>0</td>\n",
       "      <td>0</td>\n",
       "      <td>111369</td>\n",
       "      <td>30.0000</td>\n",
       "      <td>C148</td>\n",
       "      <td>C</td>\n",
       "    </tr>\n",
       "    <tr>\n",
       "      <th>890</th>\n",
       "      <td>891</td>\n",
       "      <td>0</td>\n",
       "      <td>3</td>\n",
       "      <td>Dooley, Mr. Patrick</td>\n",
       "      <td>male</td>\n",
       "      <td>32.0</td>\n",
       "      <td>0</td>\n",
       "      <td>0</td>\n",
       "      <td>370376</td>\n",
       "      <td>7.7500</td>\n",
       "      <td>NaN</td>\n",
       "      <td>Q</td>\n",
       "    </tr>\n",
       "  </tbody>\n",
       "</table>\n",
       "<p>891 rows × 12 columns</p>\n",
       "</div>"
      ]
     },
     "metadata": {},
     "output_type": "display_data"
    }
   ],
   "source": [
    "data_df"
   ]
  },
  {
   "cell_type": "code",
   "execution_count": 9,
   "metadata": {
    "datalore": {
     "hide_input_from_viewers": true,
     "hide_output_from_viewers": true,
     "node_id": "ph7tL9cheyPi9XkgQ3oNHn",
     "type": "CODE"
    }
   },
   "outputs": [
    {
     "data": {
      "text/html": [
       "<pre>PassengerId      0\n",
       "Survived         0\n",
       "Pclass           0\n",
       "Name             0\n",
       "Sex              0\n",
       "Age            177\n",
       "SibSp            0\n",
       "Parch            0\n",
       "Ticket           0\n",
       "Fare             0\n",
       "Cabin          687\n",
       "Embarked         2\n",
       "dtype: int64</pre>"
      ]
     },
     "metadata": {},
     "output_type": "display_data"
    }
   ],
   "source": [
    "data_df.isnull().sum()"
   ]
  },
  {
   "cell_type": "markdown",
   "metadata": {
    "datalore": {
     "hide_input_from_viewers": true,
     "hide_output_from_viewers": true,
     "node_id": "nICzevSlNqRaW9eeuj1jco",
     "type": "MD"
    }
   },
   "source": [
    "### Analyze Survived "
   ]
  },
  {
   "cell_type": "code",
   "execution_count": 10,
   "metadata": {
    "datalore": {
     "hide_input_from_viewers": true,
     "hide_output_from_viewers": true,
     "node_id": "P7uJVjZrgFNxysXFuUO9qM",
     "type": "CODE"
    }
   },
   "outputs": [
    {
     "data": {
      "image/png": "[encoded data removed]"
     },
     "metadata": {
      "image/png": {}
     },
     "output_type": "display_data"
    }
   ],
   "source": [
    "fig,ax=plt.subplots(1,2,figsize=(18,8))\n",
    "data_df['Survived'].value_counts().plot.pie(explode=[0,0.1],autopct='%0.1f%%',ax=ax[0],shadow=True)\n",
    "ax[0].set_title('Survived')\n",
    "ax[0].set_ylabel('')\n",
    "sns.countplot('Survived',data=data_df,ax=ax[1])\n",
    "ax[1].set_title('Survived')\n",
    "plt.show()"
   ]
  },
  {
   "cell_type": "markdown",
   "metadata": {
    "datalore": {
     "hide_input_from_viewers": true,
     "hide_output_from_viewers": true,
     "node_id": "Sukdg8NXR6S2Yld3ojvaVw",
     "type": "MD"
    }
   },
   "source": [
    "데이터 891개중 61.6% 사망"
   ]
  },
  {
   "cell_type": "markdown",
   "metadata": {
    "datalore": {
     "hide_input_from_viewers": true,
     "hide_output_from_viewers": true,
     "node_id": "0FLZKrY6mg53nWtAxdu4xs",
     "type": "MD"
    }
   },
   "source": [
    "Categorical Features in the dataset: Sex,Embarked.\n",
    "\n",
    "Ordinal Features in the dataset: PClass\n",
    "\n",
    "Continous Features in the dataset: Age\n",
    "\n",
    "\n"
   ]
  },
  {
   "cell_type": "markdown",
   "metadata": {
    "datalore": {
     "hide_input_from_viewers": true,
     "hide_output_from_viewers": true,
     "node_id": "8vQA9eKJePFk89KgjYRjX8",
     "type": "MD"
    }
   },
   "source": [
    "### Sex "
   ]
  },
  {
   "cell_type": "code",
   "execution_count": 11,
   "metadata": {
    "datalore": {
     "hide_input_from_viewers": true,
     "hide_output_from_viewers": true,
     "node_id": "cP6HCqBivvkJSSDhvztz1O",
     "type": "CODE"
    }
   },
   "outputs": [
    {
     "data": {
      "text/html": [
       "<pre>Sex     Survived\n",
       "female  0            81\n",
       "        1           233\n",
       "male    0           468\n",
       "        1           109\n",
       "Name: Survived, dtype: int64</pre>"
      ]
     },
     "metadata": {},
     "output_type": "display_data"
    }
   ],
   "source": [
    "data_df.groupby(['Sex','Survived'])['Survived'].count()"
   ]
  },
  {
   "cell_type": "code",
   "execution_count": 12,
   "metadata": {
    "datalore": {
     "hide_input_from_viewers": true,
     "hide_output_from_viewers": true,
     "node_id": "hKUCQPyOSbW8rTOiQDXNbf",
     "type": "CODE"
    }
   },
   "outputs": [
    {
     "data": {
      "image/png": "[encoded data removed]"
     },
     "metadata": {
      "image/png": {}
     },
     "output_type": "display_data"
    }
   ],
   "source": [
    "fig,ax=plt.subplots(1,2,figsize=(18,8))\n",
    "data_df[['Sex','Survived']].groupby(['Sex']).mean().plot.bar(ax=ax[0])\n",
    "ax[0].set_title('Sex is relative')\n",
    "sns.countplot('Sex',hue='Survived',data=data_df,ax=ax[1])\n",
    "ax[1].set_title('Sex:Survived vs Dead')\n",
    "plt.show()"
   ]
  },
  {
   "cell_type": "markdown",
   "metadata": {
    "datalore": {
     "hide_input_from_viewers": true,
     "hide_output_from_viewers": true,
     "node_id": "zJmXMqcAMpySGyV0GxCvJ9",
     "type": "MD"
    }
   },
   "source": [
    "남자일때 죽을 확률이 70%가 넘고 여자일 경우 28%정도로 특성이 나타남. 따라서 유효한 데이터"
   ]
  },
  {
   "cell_type": "markdown",
   "metadata": {
    "datalore": {
     "hide_input_from_viewers": true,
     "hide_output_from_viewers": true,
     "node_id": "GHltEes7zxZHSCWlZAGnZT",
     "type": "MD"
    }
   },
   "source": [
    "### PClass (선실등급)"
   ]
  },
  {
   "cell_type": "code",
   "execution_count": 13,
   "metadata": {
    "datalore": {
     "hide_input_from_viewers": true,
     "hide_output_from_viewers": true,
     "node_id": "cvakA6Dfo8gdPEb7beMDeX",
     "type": "CODE"
    }
   },
   "outputs": [
    {
     "data": {
      "text/html": [
       "<style type=\"text/css\">\n",
       "#T_43727_row0_col0, #T_43727_row1_col1, #T_43727_row1_col2 {\n",
       "  background-color: #ffff66;\n",
       "  color: #000000;\n",
       "}\n",
       "#T_43727_row0_col1 {\n",
       "  background-color: #cee666;\n",
       "  color: #000000;\n",
       "}\n",
       "#T_43727_row0_col2 {\n",
       "  background-color: #f4fa66;\n",
       "  color: #000000;\n",
       "}\n",
       "#T_43727_row1_col0 {\n",
       "  background-color: #f6fa66;\n",
       "  color: #000000;\n",
       "}\n",
       "#T_43727_row2_col0 {\n",
       "  background-color: #60b066;\n",
       "  color: #f1f1f1;\n",
       "}\n",
       "#T_43727_row2_col1 {\n",
       "  background-color: #dfef66;\n",
       "  color: #000000;\n",
       "}\n",
       "#T_43727_row2_col2 {\n",
       "  background-color: #90c866;\n",
       "  color: #000000;\n",
       "}\n",
       "#T_43727_row3_col0, #T_43727_row3_col1, #T_43727_row3_col2 {\n",
       "  background-color: #008066;\n",
       "  color: #f1f1f1;\n",
       "}\n",
       "</style>\n",
       "<table id=\"T_43727_\">\n",
       "  <thead>\n",
       "    <tr>\n",
       "      <th class=\"index_name level0\" >Survived</th>\n",
       "      <th class=\"col_heading level0 col0\" >0</th>\n",
       "      <th class=\"col_heading level0 col1\" >1</th>\n",
       "      <th class=\"col_heading level0 col2\" >All</th>\n",
       "    </tr>\n",
       "    <tr>\n",
       "      <th class=\"index_name level0\" >Pclass</th>\n",
       "      <th class=\"blank col0\" >&nbsp;</th>\n",
       "      <th class=\"blank col1\" >&nbsp;</th>\n",
       "      <th class=\"blank col2\" >&nbsp;</th>\n",
       "    </tr>\n",
       "  </thead>\n",
       "  <tbody>\n",
       "    <tr>\n",
       "      <th id=\"T_43727_level0_row0\" class=\"row_heading level0 row0\" >1</th>\n",
       "      <td id=\"T_43727_row0_col0\" class=\"data row0 col0\" >80</td>\n",
       "      <td id=\"T_43727_row0_col1\" class=\"data row0 col1\" >136</td>\n",
       "      <td id=\"T_43727_row0_col2\" class=\"data row0 col2\" >216</td>\n",
       "    </tr>\n",
       "    <tr>\n",
       "      <th id=\"T_43727_level0_row1\" class=\"row_heading level0 row1\" >2</th>\n",
       "      <td id=\"T_43727_row1_col0\" class=\"data row1 col0\" >97</td>\n",
       "      <td id=\"T_43727_row1_col1\" class=\"data row1 col1\" >87</td>\n",
       "      <td id=\"T_43727_row1_col2\" class=\"data row1 col2\" >184</td>\n",
       "    </tr>\n",
       "    <tr>\n",
       "      <th id=\"T_43727_level0_row2\" class=\"row_heading level0 row2\" >3</th>\n",
       "      <td id=\"T_43727_row2_col0\" class=\"data row2 col0\" >372</td>\n",
       "      <td id=\"T_43727_row2_col1\" class=\"data row2 col1\" >119</td>\n",
       "      <td id=\"T_43727_row2_col2\" class=\"data row2 col2\" >491</td>\n",
       "    </tr>\n",
       "    <tr>\n",
       "      <th id=\"T_43727_level0_row3\" class=\"row_heading level0 row3\" >All</th>\n",
       "      <td id=\"T_43727_row3_col0\" class=\"data row3 col0\" >549</td>\n",
       "      <td id=\"T_43727_row3_col1\" class=\"data row3 col1\" >342</td>\n",
       "      <td id=\"T_43727_row3_col2\" class=\"data row3 col2\" >891</td>\n",
       "    </tr>\n",
       "  </tbody>\n",
       "</table>\n"
      ]
     },
     "metadata": {},
     "output_type": "display_data"
    }
   ],
   "source": [
    "pd.crosstab(data_df.Pclass,data_df.Survived,margins=True).style.background_gradient(cmap='summer_r')"
   ]
  },
  {
   "cell_type": "code",
   "execution_count": 14,
   "metadata": {
    "datalore": {
     "hide_input_from_viewers": true,
     "hide_output_from_viewers": true,
     "node_id": "xIVUX7FqXUPZ3Yv4aN8SUE",
     "type": "CODE"
    }
   },
   "outputs": [
    {
     "data": {
      "image/png": "[encoded data removed]"
     },
     "metadata": {
      "image/png": {}
     },
     "output_type": "display_data"
    }
   ],
   "source": [
    "fig,ax=plt.subplots(1,2,figsize=(18,8))\n",
    "data_df['Pclass'].value_counts().plot.bar(color=['#CD7F32','#FFDF00','#D3D3D3'],ax=ax[0])\n",
    "ax[0].set_title('Number Of Passengers By Pclass')\n",
    "ax[0].set_ylabel('Count')\n",
    "sns.countplot('Pclass',hue='Survived',data=data_df,ax=ax[1])\n",
    "ax[1].set_title('Pclass:Survived vs Dead')\n",
    "plt.show()"
   ]
  },
  {
   "cell_type": "code",
   "execution_count": 15,
   "metadata": {
    "datalore": {
     "hide_input_from_viewers": true,
     "hide_output_from_viewers": true,
     "node_id": "nfcPDTdjZaDLRHV8Pza9vd",
     "type": "CODE"
    }
   },
   "outputs": [
    {
     "data": {
      "image/png": "[encoded data removed]"
     },
     "metadata": {
      "image/png": {}
     },
     "output_type": "display_data"
    }
   ],
   "source": [
    "fig,ax=plt.subplots(1,2,figsize=(18,8))\n",
    "data_df['Pclass'].value_counts().plot.bar(color=['#CD7F32','#FFDF00','#D3D3D3'],ax=ax[0])\n",
    "ax[0].set_title('Number Of Passengers By Pclass')\n",
    "ax[0].set_ylabel('Count')\n",
    "sns.countplot('Pclass',hue='Sex',data=data_df,ax=ax[1])\n",
    "ax[1].set_title('Pclass:Survived vs Dead')\n",
    "plt.show()"
   ]
  },
  {
   "cell_type": "markdown",
   "metadata": {
    "datalore": {
     "hide_input_from_viewers": true,
     "hide_output_from_viewers": true,
     "node_id": "HBvpx6uFsEGNxYQLmH1G31",
     "type": "MD"
    }
   },
   "source": [
    "1등급일때 생존률이 50%이상이고 3등급이면 생존이 20%정도로 떨어짐으로써 유효함이 보임임"
   ]
  },
  {
   "cell_type": "code",
   "execution_count": 16,
   "metadata": {
    "datalore": {
     "hide_input_from_viewers": true,
     "hide_output_from_viewers": true,
     "node_id": "U3TEhslQyPdp5l4jEqWZsK",
     "type": "CODE"
    }
   },
   "outputs": [
    {
     "data": {
      "text/html": [
       "<style type=\"text/css\">\n",
       "#T_679a3_row0_col0, #T_679a3_row0_col1, #T_679a3_row0_col3, #T_679a3_row3_col2 {\n",
       "  background-color: #ffff66;\n",
       "  color: #000000;\n",
       "}\n",
       "#T_679a3_row0_col2, #T_679a3_row1_col2 {\n",
       "  background-color: #f1f866;\n",
       "  color: #000000;\n",
       "}\n",
       "#T_679a3_row1_col0 {\n",
       "  background-color: #96cb66;\n",
       "  color: #000000;\n",
       "}\n",
       "#T_679a3_row1_col1 {\n",
       "  background-color: #a3d166;\n",
       "  color: #000000;\n",
       "}\n",
       "#T_679a3_row1_col3 {\n",
       "  background-color: #cfe766;\n",
       "  color: #000000;\n",
       "}\n",
       "#T_679a3_row2_col0 {\n",
       "  background-color: #a7d366;\n",
       "  color: #000000;\n",
       "}\n",
       "#T_679a3_row2_col1, #T_679a3_row2_col3 {\n",
       "  background-color: #85c266;\n",
       "  color: #000000;\n",
       "}\n",
       "#T_679a3_row2_col2 {\n",
       "  background-color: #6eb666;\n",
       "  color: #f1f1f1;\n",
       "}\n",
       "#T_679a3_row3_col0 {\n",
       "  background-color: #cde666;\n",
       "  color: #000000;\n",
       "}\n",
       "#T_679a3_row3_col1 {\n",
       "  background-color: #f0f866;\n",
       "  color: #000000;\n",
       "}\n",
       "#T_679a3_row3_col3 {\n",
       "  background-color: #f7fb66;\n",
       "  color: #000000;\n",
       "}\n",
       "#T_679a3_row4_col0, #T_679a3_row4_col1, #T_679a3_row4_col2, #T_679a3_row4_col3 {\n",
       "  background-color: #008066;\n",
       "  color: #f1f1f1;\n",
       "}\n",
       "</style>\n",
       "<table id=\"T_679a3_\">\n",
       "  <thead>\n",
       "    <tr>\n",
       "      <th class=\"blank\" >&nbsp;</th>\n",
       "      <th class=\"index_name level0\" >Pclass</th>\n",
       "      <th class=\"col_heading level0 col0\" >1</th>\n",
       "      <th class=\"col_heading level0 col1\" >2</th>\n",
       "      <th class=\"col_heading level0 col2\" >3</th>\n",
       "      <th class=\"col_heading level0 col3\" >All</th>\n",
       "    </tr>\n",
       "    <tr>\n",
       "      <th class=\"index_name level0\" >Sex</th>\n",
       "      <th class=\"index_name level1\" >Survived</th>\n",
       "      <th class=\"blank col0\" >&nbsp;</th>\n",
       "      <th class=\"blank col1\" >&nbsp;</th>\n",
       "      <th class=\"blank col2\" >&nbsp;</th>\n",
       "      <th class=\"blank col3\" >&nbsp;</th>\n",
       "    </tr>\n",
       "  </thead>\n",
       "  <tbody>\n",
       "    <tr>\n",
       "      <th id=\"T_679a3_level0_row0\" class=\"row_heading level0 row0\" rowspan=\"2\">female</th>\n",
       "      <th id=\"T_679a3_level1_row0\" class=\"row_heading level1 row0\" >0</th>\n",
       "      <td id=\"T_679a3_row0_col0\" class=\"data row0 col0\" >3</td>\n",
       "      <td id=\"T_679a3_row0_col1\" class=\"data row0 col1\" >6</td>\n",
       "      <td id=\"T_679a3_row0_col2\" class=\"data row0 col2\" >72</td>\n",
       "      <td id=\"T_679a3_row0_col3\" class=\"data row0 col3\" >81</td>\n",
       "    </tr>\n",
       "    <tr>\n",
       "      <th id=\"T_679a3_level1_row1\" class=\"row_heading level1 row1\" >1</th>\n",
       "      <td id=\"T_679a3_row1_col0\" class=\"data row1 col0\" >91</td>\n",
       "      <td id=\"T_679a3_row1_col1\" class=\"data row1 col1\" >70</td>\n",
       "      <td id=\"T_679a3_row1_col2\" class=\"data row1 col2\" >72</td>\n",
       "      <td id=\"T_679a3_row1_col3\" class=\"data row1 col3\" >233</td>\n",
       "    </tr>\n",
       "    <tr>\n",
       "      <th id=\"T_679a3_level0_row2\" class=\"row_heading level0 row2\" rowspan=\"2\">male</th>\n",
       "      <th id=\"T_679a3_level1_row2\" class=\"row_heading level1 row2\" >0</th>\n",
       "      <td id=\"T_679a3_row2_col0\" class=\"data row2 col0\" >77</td>\n",
       "      <td id=\"T_679a3_row2_col1\" class=\"data row2 col1\" >91</td>\n",
       "      <td id=\"T_679a3_row2_col2\" class=\"data row2 col2\" >300</td>\n",
       "      <td id=\"T_679a3_row2_col3\" class=\"data row2 col3\" >468</td>\n",
       "    </tr>\n",
       "    <tr>\n",
       "      <th id=\"T_679a3_level1_row3\" class=\"row_heading level1 row3\" >1</th>\n",
       "      <td id=\"T_679a3_row3_col0\" class=\"data row3 col0\" >45</td>\n",
       "      <td id=\"T_679a3_row3_col1\" class=\"data row3 col1\" >17</td>\n",
       "      <td id=\"T_679a3_row3_col2\" class=\"data row3 col2\" >47</td>\n",
       "      <td id=\"T_679a3_row3_col3\" class=\"data row3 col3\" >109</td>\n",
       "    </tr>\n",
       "    <tr>\n",
       "      <th id=\"T_679a3_level0_row4\" class=\"row_heading level0 row4\" >All</th>\n",
       "      <th id=\"T_679a3_level1_row4\" class=\"row_heading level1 row4\" ></th>\n",
       "      <td id=\"T_679a3_row4_col0\" class=\"data row4 col0\" >216</td>\n",
       "      <td id=\"T_679a3_row4_col1\" class=\"data row4 col1\" >184</td>\n",
       "      <td id=\"T_679a3_row4_col2\" class=\"data row4 col2\" >491</td>\n",
       "      <td id=\"T_679a3_row4_col3\" class=\"data row4 col3\" >891</td>\n",
       "    </tr>\n",
       "  </tbody>\n",
       "</table>\n"
      ]
     },
     "metadata": {},
     "output_type": "display_data"
    }
   ],
   "source": [
    "pd.crosstab([data_df.Sex,data_df.Survived],data_df.Pclass,margins=True).style.background_gradient(cmap='summer_r')"
   ]
  },
  {
   "cell_type": "code",
   "execution_count": 17,
   "metadata": {
    "datalore": {
     "hide_input_from_viewers": true,
     "hide_output_from_viewers": true,
     "node_id": "0QlaozxZMQB8rCKPdsckzt",
     "type": "CODE"
    }
   },
   "outputs": [
    {
     "data": {
      "image/png": "[encoded data removed]"
     },
     "metadata": {
      "image/png": {}
     },
     "output_type": "display_data"
    }
   ],
   "source": [
    "sns.factorplot('Pclass','Survived',hue='Sex',data=data_df)\n",
    "plt.show()"
   ]
  },
  {
   "cell_type": "markdown",
   "metadata": {
    "datalore": {
     "hide_input_from_viewers": true,
     "hide_output_from_viewers": true,
     "node_id": "UDj8xSZurKXMcbhXyKdyIC",
     "type": "MD"
    }
   },
   "source": [
    "Pclass1 등급이고 남성이면 생존율이 올라감으로써 유효한 특성임"
   ]
  },
  {
   "cell_type": "markdown",
   "metadata": {
    "datalore": {
     "hide_input_from_viewers": true,
     "hide_output_from_viewers": true,
     "node_id": "R8v1PS9dJLShOXsYIerrbF",
     "type": "MD"
    }
   },
   "source": [
    "### Age"
   ]
  },
  {
   "cell_type": "code",
   "execution_count": 18,
   "metadata": {
    "datalore": {
     "hide_input_from_viewers": true,
     "hide_output_from_viewers": true,
     "node_id": "QabVoQL7DXkAeVFDdPxx3X",
     "type": "CODE"
    }
   },
   "outputs": [
    {
     "name": "stdout",
     "output_type": "stream",
     "text": [
      "제일 늙은사람의 나이: 80.0 Years\n",
      "제일 어린사람의 나이: 0.42 Years\n",
      "평균나이 :: 29.69911764705882 Years\n"
     ]
    }
   ],
   "source": [
    "print('제일 늙은사람의 나이:',data_df['Age'].max(),'Years')\n",
    "print('제일 어린사람의 나이:',data_df['Age'].min(),'Years')\n",
    "print('평균나이 ::',data_df['Age'].mean(),'Years')"
   ]
  },
  {
   "cell_type": "code",
   "execution_count": 19,
   "metadata": {
    "datalore": {
     "hide_input_from_viewers": true,
     "hide_output_from_viewers": true,
     "node_id": "QwvbxLPhON5Sc408IN2VUt",
     "type": "CODE"
    }
   },
   "outputs": [
    {
     "data": {
      "image/png": "[encoded data removed]"
     },
     "metadata": {
      "image/png": {}
     },
     "output_type": "display_data"
    }
   ],
   "source": [
    "fig,ax=plt.subplots(1,2,figsize=(18,8))\n",
    "sns.violinplot(\"Pclass\",\"Age\", hue=\"Survived\", data=data_df,split=True,ax=ax[0])\n",
    "ax[0].set_title('성별과 연령 생존' , fontproperties=fprop)\n",
    "ax[0].set_yticks(range(0,110,10))\n",
    "sns.violinplot(\"Sex\",\"Age\", hue=\"Survived\", data=data_df,split=True,ax=ax[1])\n",
    "ax[1].set_title('Sex and Age vs Survived')\n",
    "ax[1].set_yticks(range(0,110,10))\n",
    "plt.show()"
   ]
  },
  {
   "cell_type": "markdown",
   "metadata": {
    "datalore": {
     "hide_input_from_viewers": true,
     "hide_output_from_viewers": true,
     "node_id": "qSdigTHfXmexAhwkHoh2kN",
     "type": "MD"
    }
   },
   "source": [
    "### Name"
   ]
  },
  {
   "cell_type": "code",
   "execution_count": 20,
   "metadata": {
    "datalore": {
     "hide_input_from_viewers": true,
     "hide_output_from_viewers": true,
     "node_id": "jgdddrTFQj5ZtqhsppffO4",
     "type": "CODE"
    }
   },
   "outputs": [
    {
     "data": {
      "text/plain": [
       "891"
      ]
     },
     "metadata": {},
     "output_type": "display_data"
    }
   ],
   "source": [
    "np.count_nonzero(data_df.Name.unique())"
   ]
  },
  {
   "cell_type": "markdown",
   "metadata": {
    "datalore": {
     "hide_input_from_viewers": true,
     "hide_output_from_viewers": true,
     "node_id": "SvyXqV0s6zZshcxN6LW5Sf",
     "type": "MD"
    }
   },
   "source": [
    "유니크해서 사용하기 어려움 따라서 영어권 칭호를 분석"
   ]
  },
  {
   "cell_type": "code",
   "execution_count": 21,
   "metadata": {
    "datalore": {
     "hide_input_from_viewers": true,
     "hide_output_from_viewers": true,
     "node_id": "tX1Ko3Hnj66wy8k692hw0f",
     "type": "CODE"
    }
   },
   "outputs": [],
   "source": [
    "data_df['Title'] = data_df.Name.str.extract('\\s([A-Za-z]+\\.)\\s')"
   ]
  },
  {
   "cell_type": "code",
   "execution_count": 22,
   "metadata": {
    "datalore": {
     "hide_input_from_viewers": true,
     "hide_output_from_viewers": true,
     "node_id": "sIFpJTIQ377dnei2n40tFi",
     "type": "CODE"
    }
   },
   "outputs": [
    {
     "data": {
      "text/html": [
       "<pre>Mr.          517\n",
       "Miss.        182\n",
       "Mrs.         125\n",
       "Master.       40\n",
       "Dr.            7\n",
       "Rev.           6\n",
       "Mlle.          2\n",
       "Major.         2\n",
       "Col.           2\n",
       "Countess.      1\n",
       "Capt.          1\n",
       "Ms.            1\n",
       "Sir.           1\n",
       "Lady.          1\n",
       "Mme.           1\n",
       "Don.           1\n",
       "Jonkheer.      1\n",
       "Name: Title, dtype: int64</pre>"
      ]
     },
     "metadata": {},
     "output_type": "display_data"
    }
   ],
   "source": [
    "data_df['Title'].value_counts()"
   ]
  },
  {
   "cell_type": "code",
   "execution_count": 23,
   "metadata": {
    "datalore": {
     "hide_input_from_viewers": true,
     "hide_output_from_viewers": true,
     "node_id": "sxXblAUeof4tddOtaib5ak",
     "type": "CODE"
    }
   },
   "outputs": [
    {
     "data": {
      "text/html": [
       "<style type=\"text/css\">\n",
       "#T_5d602_row0_col0, #T_5d602_row0_col1, #T_5d602_row0_col3, #T_5d602_row0_col4, #T_5d602_row0_col5, #T_5d602_row0_col7, #T_5d602_row0_col8, #T_5d602_row0_col12, #T_5d602_row0_col15, #T_5d602_row0_col16, #T_5d602_row1_col2, #T_5d602_row1_col6, #T_5d602_row1_col9, #T_5d602_row1_col10, #T_5d602_row1_col11, #T_5d602_row1_col13, #T_5d602_row1_col14 {\n",
       "  background-color: #ffffff;\n",
       "  color: #000000;\n",
       "}\n",
       "#T_5d602_row0_col2, #T_5d602_row0_col6, #T_5d602_row0_col9, #T_5d602_row0_col10, #T_5d602_row0_col11, #T_5d602_row0_col13, #T_5d602_row0_col14, #T_5d602_row1_col0, #T_5d602_row1_col1, #T_5d602_row1_col3, #T_5d602_row1_col4, #T_5d602_row1_col5, #T_5d602_row1_col7, #T_5d602_row1_col8, #T_5d602_row1_col12, #T_5d602_row1_col15, #T_5d602_row1_col16 {\n",
       "  background-color: #0b0000;\n",
       "  color: #f1f1f1;\n",
       "}\n",
       "</style>\n",
       "<table id=\"T_5d602_\">\n",
       "  <thead>\n",
       "    <tr>\n",
       "      <th class=\"index_name level0\" >Title</th>\n",
       "      <th class=\"col_heading level0 col0\" >Capt.</th>\n",
       "      <th class=\"col_heading level0 col1\" >Col.</th>\n",
       "      <th class=\"col_heading level0 col2\" >Countess.</th>\n",
       "      <th class=\"col_heading level0 col3\" >Don.</th>\n",
       "      <th class=\"col_heading level0 col4\" >Dr.</th>\n",
       "      <th class=\"col_heading level0 col5\" >Jonkheer.</th>\n",
       "      <th class=\"col_heading level0 col6\" >Lady.</th>\n",
       "      <th class=\"col_heading level0 col7\" >Major.</th>\n",
       "      <th class=\"col_heading level0 col8\" >Master.</th>\n",
       "      <th class=\"col_heading level0 col9\" >Miss.</th>\n",
       "      <th class=\"col_heading level0 col10\" >Mlle.</th>\n",
       "      <th class=\"col_heading level0 col11\" >Mme.</th>\n",
       "      <th class=\"col_heading level0 col12\" >Mr.</th>\n",
       "      <th class=\"col_heading level0 col13\" >Mrs.</th>\n",
       "      <th class=\"col_heading level0 col14\" >Ms.</th>\n",
       "      <th class=\"col_heading level0 col15\" >Rev.</th>\n",
       "      <th class=\"col_heading level0 col16\" >Sir.</th>\n",
       "    </tr>\n",
       "    <tr>\n",
       "      <th class=\"index_name level0\" >Sex</th>\n",
       "      <th class=\"blank col0\" >&nbsp;</th>\n",
       "      <th class=\"blank col1\" >&nbsp;</th>\n",
       "      <th class=\"blank col2\" >&nbsp;</th>\n",
       "      <th class=\"blank col3\" >&nbsp;</th>\n",
       "      <th class=\"blank col4\" >&nbsp;</th>\n",
       "      <th class=\"blank col5\" >&nbsp;</th>\n",
       "      <th class=\"blank col6\" >&nbsp;</th>\n",
       "      <th class=\"blank col7\" >&nbsp;</th>\n",
       "      <th class=\"blank col8\" >&nbsp;</th>\n",
       "      <th class=\"blank col9\" >&nbsp;</th>\n",
       "      <th class=\"blank col10\" >&nbsp;</th>\n",
       "      <th class=\"blank col11\" >&nbsp;</th>\n",
       "      <th class=\"blank col12\" >&nbsp;</th>\n",
       "      <th class=\"blank col13\" >&nbsp;</th>\n",
       "      <th class=\"blank col14\" >&nbsp;</th>\n",
       "      <th class=\"blank col15\" >&nbsp;</th>\n",
       "      <th class=\"blank col16\" >&nbsp;</th>\n",
       "    </tr>\n",
       "  </thead>\n",
       "  <tbody>\n",
       "    <tr>\n",
       "      <th id=\"T_5d602_level0_row0\" class=\"row_heading level0 row0\" >female</th>\n",
       "      <td id=\"T_5d602_row0_col0\" class=\"data row0 col0\" >0</td>\n",
       "      <td id=\"T_5d602_row0_col1\" class=\"data row0 col1\" >0</td>\n",
       "      <td id=\"T_5d602_row0_col2\" class=\"data row0 col2\" >1</td>\n",
       "      <td id=\"T_5d602_row0_col3\" class=\"data row0 col3\" >0</td>\n",
       "      <td id=\"T_5d602_row0_col4\" class=\"data row0 col4\" >1</td>\n",
       "      <td id=\"T_5d602_row0_col5\" class=\"data row0 col5\" >0</td>\n",
       "      <td id=\"T_5d602_row0_col6\" class=\"data row0 col6\" >1</td>\n",
       "      <td id=\"T_5d602_row0_col7\" class=\"data row0 col7\" >0</td>\n",
       "      <td id=\"T_5d602_row0_col8\" class=\"data row0 col8\" >0</td>\n",
       "      <td id=\"T_5d602_row0_col9\" class=\"data row0 col9\" >182</td>\n",
       "      <td id=\"T_5d602_row0_col10\" class=\"data row0 col10\" >2</td>\n",
       "      <td id=\"T_5d602_row0_col11\" class=\"data row0 col11\" >1</td>\n",
       "      <td id=\"T_5d602_row0_col12\" class=\"data row0 col12\" >0</td>\n",
       "      <td id=\"T_5d602_row0_col13\" class=\"data row0 col13\" >125</td>\n",
       "      <td id=\"T_5d602_row0_col14\" class=\"data row0 col14\" >1</td>\n",
       "      <td id=\"T_5d602_row0_col15\" class=\"data row0 col15\" >0</td>\n",
       "      <td id=\"T_5d602_row0_col16\" class=\"data row0 col16\" >0</td>\n",
       "    </tr>\n",
       "    <tr>\n",
       "      <th id=\"T_5d602_level0_row1\" class=\"row_heading level0 row1\" >male</th>\n",
       "      <td id=\"T_5d602_row1_col0\" class=\"data row1 col0\" >1</td>\n",
       "      <td id=\"T_5d602_row1_col1\" class=\"data row1 col1\" >2</td>\n",
       "      <td id=\"T_5d602_row1_col2\" class=\"data row1 col2\" >0</td>\n",
       "      <td id=\"T_5d602_row1_col3\" class=\"data row1 col3\" >1</td>\n",
       "      <td id=\"T_5d602_row1_col4\" class=\"data row1 col4\" >6</td>\n",
       "      <td id=\"T_5d602_row1_col5\" class=\"data row1 col5\" >1</td>\n",
       "      <td id=\"T_5d602_row1_col6\" class=\"data row1 col6\" >0</td>\n",
       "      <td id=\"T_5d602_row1_col7\" class=\"data row1 col7\" >2</td>\n",
       "      <td id=\"T_5d602_row1_col8\" class=\"data row1 col8\" >40</td>\n",
       "      <td id=\"T_5d602_row1_col9\" class=\"data row1 col9\" >0</td>\n",
       "      <td id=\"T_5d602_row1_col10\" class=\"data row1 col10\" >0</td>\n",
       "      <td id=\"T_5d602_row1_col11\" class=\"data row1 col11\" >0</td>\n",
       "      <td id=\"T_5d602_row1_col12\" class=\"data row1 col12\" >517</td>\n",
       "      <td id=\"T_5d602_row1_col13\" class=\"data row1 col13\" >0</td>\n",
       "      <td id=\"T_5d602_row1_col14\" class=\"data row1 col14\" >0</td>\n",
       "      <td id=\"T_5d602_row1_col15\" class=\"data row1 col15\" >6</td>\n",
       "      <td id=\"T_5d602_row1_col16\" class=\"data row1 col16\" >1</td>\n",
       "    </tr>\n",
       "  </tbody>\n",
       "</table>\n"
      ]
     },
     "metadata": {},
     "output_type": "display_data"
    }
   ],
   "source": [
    "pd.crosstab(data_df.Title,data_df.Sex).T.style.background_gradient(cmap='hot_r') #Checking the Initials with the Sex"
   ]
  },
  {
   "cell_type": "code",
   "execution_count": 24,
   "metadata": {
    "datalore": {
     "hide_input_from_viewers": true,
     "hide_output_from_viewers": true,
     "node_id": "BGZvgZ0ssOwm3xOYuZjus5",
     "type": "CODE"
    }
   },
   "outputs": [
    {
     "data": {
      "image/png": "[encoded data removed]"
     },
     "metadata": {
      "image/png": {}
     },
     "output_type": "display_data"
    }
   ],
   "source": [
    "fig,ax=plt.subplots(1,2,figsize=(18,8))\n",
    "data_df['Title'].value_counts().plot.pie(autopct='%0.1f%%',ax=ax[0],shadow=True)\n",
    "ax[0].set_title('Title')\n",
    "ax[0].set_ylabel('')\n",
    "sns.countplot('Title',data=data_df,ax=ax[1])\n",
    "ax[1].set_title('Title')\n",
    "plt.show()"
   ]
  },
  {
   "cell_type": "code",
   "execution_count": 25,
   "metadata": {
    "datalore": {
     "hide_input_from_viewers": true,
     "hide_output_from_viewers": true,
     "node_id": "V4xtlMr3sr9Mm8b2XmmNEP",
     "type": "CODE"
    }
   },
   "outputs": [
    {
     "data": {
      "text/html": [
       "<div>\n",
       "<style scoped>\n",
       "    .dataframe tbody tr th:only-of-type {\n",
       "        vertical-align: middle;\n",
       "    }\n",
       "\n",
       "    .dataframe tbody tr th {\n",
       "        vertical-align: top;\n",
       "    }\n",
       "\n",
       "    .dataframe thead tr th {\n",
       "        text-align: left;\n",
       "    }\n",
       "\n",
       "    .dataframe thead tr:last-of-type th {\n",
       "        text-align: right;\n",
       "    }\n",
       "</style>\n",
       "<table border=\"1\" class=\"dataframe\">\n",
       "  <thead>\n",
       "    <tr>\n",
       "      <th></th>\n",
       "      <th colspan=\"2\" halign=\"left\">Age</th>\n",
       "    </tr>\n",
       "    <tr>\n",
       "      <th></th>\n",
       "      <th>mean</th>\n",
       "      <th>count</th>\n",
       "    </tr>\n",
       "    <tr>\n",
       "      <th>Title</th>\n",
       "      <th></th>\n",
       "      <th></th>\n",
       "    </tr>\n",
       "  </thead>\n",
       "  <tbody>\n",
       "    <tr>\n",
       "      <th>Capt.</th>\n",
       "      <td>70.000000</td>\n",
       "      <td>1</td>\n",
       "    </tr>\n",
       "    <tr>\n",
       "      <th>Col.</th>\n",
       "      <td>58.000000</td>\n",
       "      <td>2</td>\n",
       "    </tr>\n",
       "    <tr>\n",
       "      <th>Countess.</th>\n",
       "      <td>33.000000</td>\n",
       "      <td>1</td>\n",
       "    </tr>\n",
       "    <tr>\n",
       "      <th>Don.</th>\n",
       "      <td>40.000000</td>\n",
       "      <td>1</td>\n",
       "    </tr>\n",
       "    <tr>\n",
       "      <th>Dr.</th>\n",
       "      <td>42.000000</td>\n",
       "      <td>6</td>\n",
       "    </tr>\n",
       "    <tr>\n",
       "      <th>Jonkheer.</th>\n",
       "      <td>38.000000</td>\n",
       "      <td>1</td>\n",
       "    </tr>\n",
       "    <tr>\n",
       "      <th>Lady.</th>\n",
       "      <td>48.000000</td>\n",
       "      <td>1</td>\n",
       "    </tr>\n",
       "    <tr>\n",
       "      <th>Major.</th>\n",
       "      <td>48.500000</td>\n",
       "      <td>2</td>\n",
       "    </tr>\n",
       "    <tr>\n",
       "      <th>Master.</th>\n",
       "      <td>4.574167</td>\n",
       "      <td>36</td>\n",
       "    </tr>\n",
       "    <tr>\n",
       "      <th>Miss.</th>\n",
       "      <td>21.773973</td>\n",
       "      <td>146</td>\n",
       "    </tr>\n",
       "    <tr>\n",
       "      <th>Mlle.</th>\n",
       "      <td>24.000000</td>\n",
       "      <td>2</td>\n",
       "    </tr>\n",
       "    <tr>\n",
       "      <th>Mme.</th>\n",
       "      <td>24.000000</td>\n",
       "      <td>1</td>\n",
       "    </tr>\n",
       "    <tr>\n",
       "      <th>Mr.</th>\n",
       "      <td>32.368090</td>\n",
       "      <td>398</td>\n",
       "    </tr>\n",
       "    <tr>\n",
       "      <th>Mrs.</th>\n",
       "      <td>35.898148</td>\n",
       "      <td>108</td>\n",
       "    </tr>\n",
       "    <tr>\n",
       "      <th>Ms.</th>\n",
       "      <td>28.000000</td>\n",
       "      <td>1</td>\n",
       "    </tr>\n",
       "    <tr>\n",
       "      <th>Rev.</th>\n",
       "      <td>43.166667</td>\n",
       "      <td>6</td>\n",
       "    </tr>\n",
       "    <tr>\n",
       "      <th>Sir.</th>\n",
       "      <td>49.000000</td>\n",
       "      <td>1</td>\n",
       "    </tr>\n",
       "  </tbody>\n",
       "</table>\n",
       "</div>"
      ]
     },
     "metadata": {},
     "output_type": "display_data"
    }
   ],
   "source": [
    "# Title에 따른 Age의 평균및 수 \n",
    "data_df.groupby('Title').agg({'Age':[np.mean,'count']})"
   ]
  },
  {
   "cell_type": "markdown",
   "metadata": {
    "datalore": {
     "hide_input_from_viewers": true,
     "hide_output_from_viewers": true,
     "node_id": "k6V88vzn4Scbvzo2A3e5Eb",
     "type": "MD"
    }
   },
   "source": [
    "Monsieur\" (M.) for a man, The plural is Messieurs (MM. for short).\n",
    "\n",
    "\"Madame\" (Mme) for a woman. The plural is Mesdames (Mmes). (= Madame) Mrs\n",
    "\n",
    "\"Mademoiselle\" (Mlle) is a traditional alternative for an unmarried woman. The plural is Mesdemoiselles (Mlles).\n",
    "\n",
    "\"Lady\" is also a formal title in the United Kingdom. \"Lady\" is used before the family name of a woman with a title of nobility or honorary title suo jure (in her own right), or the wife of a lord, a baronet, Scottish feudal baron, laird, or a knight, and also before the first name of the daughter of a duke, marquess, or earl."
   ]
  },
  {
   "cell_type": "markdown",
   "metadata": {
    "datalore": {
     "hide_input_from_viewers": true,
     "hide_output_from_viewers": true,
     "node_id": "VuaW6OPaWcjpVmzYik7NEW",
     "type": "MD"
    }
   },
   "source": [
    "#### 같은 의미를 뜻하는 칭호 통합 및 마이너 칭호 개수가 6이하를 통합"
   ]
  },
  {
   "cell_type": "markdown",
   "metadata": {
    "datalore": {
     "hide_input_from_viewers": true,
     "hide_output_from_viewers": true,
     "node_id": "CtGO9b8T1e42Lk6ARtLVuo",
     "type": "MD"
    }
   },
   "source": [
    "#### Name 처리 함수"
   ]
  },
  {
   "cell_type": "code",
   "execution_count": 26,
   "metadata": {
    "datalore": {
     "hide_input_from_viewers": true,
     "hide_output_from_viewers": true,
     "node_id": "c4rvxerVS59LDi00jiwBV5",
     "type": "CODE"
    }
   },
   "outputs": [],
   "source": [
    "\n",
    "def preprocess_title(title_name):\n",
    "    title_dict = {\n",
    "        'Mr.' : ['Mr.'],\n",
    "        'Miss.' : ['Ms.', 'Mlle.', 'Miss.'],\n",
    "        'Mrs.' : ['Mrs.', 'Mme.'],\n",
    "        'etc' : ['Rev.', 'Sir.', 'Dr.', 'Capt.', 'Col.', 'Countess.', 'Don.', 'Jonkheer.', 'Lady.', 'Major.' ],\n",
    "        'Master.' : ['Master.'],\n",
    "    }\n",
    "    for title, list in title_dict.items():\n",
    "        if title_name in list :\n",
    "            return title"
   ]
  },
  {
   "cell_type": "code",
   "execution_count": 27,
   "metadata": {
    "datalore": {
     "hide_input_from_viewers": true,
     "hide_output_from_viewers": true,
     "node_id": "NS6Vg2e1ixWzg3c1cokIq1",
     "type": "CODE"
    }
   },
   "outputs": [],
   "source": [
    "data_df.Title = data_df.Title.apply(preprocess_title)"
   ]
  },
  {
   "cell_type": "code",
   "execution_count": 28,
   "metadata": {
    "datalore": {
     "hide_input_from_viewers": true,
     "hide_output_from_viewers": true,
     "node_id": "jZesxvZGQdGJ31pa13lNJs",
     "type": "CODE"
    }
   },
   "outputs": [
    {
     "data": {
      "text/html": [
       "<pre>Mr.        517\n",
       "Miss.      185\n",
       "Mrs.       126\n",
       "Master.     40\n",
       "etc         23\n",
       "Name: Title, dtype: int64</pre>"
      ]
     },
     "metadata": {},
     "output_type": "display_data"
    }
   ],
   "source": [
    "data_df.Title.value_counts()"
   ]
  },
  {
   "cell_type": "code",
   "execution_count": 29,
   "metadata": {
    "datalore": {
     "hide_input_from_viewers": true,
     "hide_output_from_viewers": true,
     "node_id": "BLjil4KgxZqTfGgPSOzDNd",
     "type": "CODE"
    }
   },
   "outputs": [],
   "source": [
    "data_df.drop('Name', inplace=True, axis=1)"
   ]
  },
  {
   "cell_type": "code",
   "execution_count": 30,
   "metadata": {
    "datalore": {
     "hide_input_from_viewers": true,
     "hide_output_from_viewers": true,
     "node_id": "2pLzBwbDvZK71zT80TwZlJ",
     "type": "CODE"
    }
   },
   "outputs": [
    {
     "data": {
      "image/png": "[encoded data removed]"
     },
     "metadata": {
      "image/png": {}
     },
     "output_type": "display_data"
    }
   ],
   "source": [
    "fig,ax=plt.subplots(1,2,figsize=(18,8))\n",
    "data_df['Title'].value_counts().plot.bar(color=['#CD7F32','#FFDF00','#D3D3D3'],ax=ax[0])\n",
    "ax[0].set_title('Number Of Passengers By Pclass')\n",
    "ax[0].set_ylabel('Count')\n",
    "sns.countplot('Title',hue='Survived',data=data_df,ax=ax[1])\n",
    "ax[1].set_title('Title:Survived vs Dead')\n",
    "plt.show()"
   ]
  },
  {
   "cell_type": "markdown",
   "metadata": {
    "datalore": {
     "hide_input_from_viewers": true,
     "hide_output_from_viewers": true,
     "node_id": "bYW5ozIwxGga8bWXfjmJYa",
     "type": "MD"
    }
   },
   "source": [
    "### Embarked"
   ]
  },
  {
   "cell_type": "markdown",
   "metadata": {
    "datalore": {
     "hide_input_from_viewers": true,
     "hide_output_from_viewers": true,
     "node_id": "o8ISylT3i4bb2n37wJ45dM",
     "type": "MD"
    }
   },
   "source": [
    "<figure>\n",
    "    <center> <img src=\"./images/embark_image.png\"  alt='missing' width=\"600\"  ><center/>\n",
    "<figure/>"
   ]
  },
  {
   "cell_type": "code",
   "execution_count": 31,
   "metadata": {
    "datalore": {
     "hide_input_from_viewers": true,
     "hide_output_from_viewers": true,
     "node_id": "q3JpzQpqbPnDFdYlP2Bcfu",
     "type": "CODE"
    }
   },
   "outputs": [
    {
     "data": {
      "image/png": "[encoded data removed]"
     },
     "metadata": {
      "image/png": {}
     },
     "output_type": "display_data"
    }
   ],
   "source": [
    "sns.factorplot('Embarked','Survived',data=data_df)\n",
    "fig=plt.gcf()\n",
    "plt.show()"
   ]
  },
  {
   "cell_type": "code",
   "execution_count": 32,
   "metadata": {
    "datalore": {
     "hide_input_from_viewers": true,
     "hide_output_from_viewers": true,
     "node_id": "YigvWt8E3WIE4emlXIa7OR",
     "type": "CODE"
    }
   },
   "outputs": [
    {
     "data": {
      "image/png": "[encoded data removed]"
     },
     "metadata": {
      "image/png": {}
     },
     "output_type": "display_data"
    }
   ],
   "source": [
    "fig,ax=plt.subplots(2,2,figsize=(20,15))\n",
    "sns.countplot('Embarked',data=data_df,ax=ax[0,0])\n",
    "ax[0,0].set_title('No. Of Passengers Boarded')\n",
    "sns.countplot('Embarked',hue='Sex',data=data_df,ax=ax[0,1])\n",
    "ax[0,1].set_title('Male-Female Split for Embarked')\n",
    "sns.countplot('Embarked',hue='Survived',data=data_df,ax=ax[1,0])\n",
    "ax[1,0].set_title('Embarked vs Survived')\n",
    "sns.countplot('Embarked',hue='Pclass',data=data_df,ax=ax[1,1])\n",
    "ax[1,1].set_title('Embarked vs Pclass')\n",
    "plt.subplots_adjust(wspace=0.2,hspace=0.5)\n",
    "plt.show()"
   ]
  },
  {
   "cell_type": "code",
   "execution_count": 33,
   "metadata": {
    "datalore": {
     "hide_input_from_viewers": true,
     "hide_output_from_viewers": true,
     "node_id": "kvD6JN72lKO5nXWAh7qCAr",
     "type": "CODE"
    }
   },
   "outputs": [
    {
     "data": {
      "text/html": [
       "<div>\n",
       "<style scoped>\n",
       "    .dataframe tbody tr th:only-of-type {\n",
       "        vertical-align: middle;\n",
       "    }\n",
       "\n",
       "    .dataframe tbody tr th {\n",
       "        vertical-align: top;\n",
       "    }\n",
       "\n",
       "    .dataframe thead tr th {\n",
       "        text-align: left;\n",
       "    }\n",
       "\n",
       "    .dataframe thead tr:last-of-type th {\n",
       "        text-align: right;\n",
       "    }\n",
       "</style>\n",
       "<table border=\"1\" class=\"dataframe\">\n",
       "  <thead>\n",
       "    <tr>\n",
       "      <th></th>\n",
       "      <th></th>\n",
       "      <th colspan=\"2\" halign=\"left\">Fare</th>\n",
       "    </tr>\n",
       "    <tr>\n",
       "      <th></th>\n",
       "      <th></th>\n",
       "      <th>mean</th>\n",
       "      <th>std</th>\n",
       "    </tr>\n",
       "    <tr>\n",
       "      <th>Embarked</th>\n",
       "      <th>Pclass</th>\n",
       "      <th></th>\n",
       "      <th></th>\n",
       "    </tr>\n",
       "  </thead>\n",
       "  <tbody>\n",
       "    <tr>\n",
       "      <th rowspan=\"3\" valign=\"top\">C</th>\n",
       "      <th>1</th>\n",
       "      <td>104.718529</td>\n",
       "      <td>99.093935</td>\n",
       "    </tr>\n",
       "    <tr>\n",
       "      <th>2</th>\n",
       "      <td>25.358335</td>\n",
       "      <td>11.345067</td>\n",
       "    </tr>\n",
       "    <tr>\n",
       "      <th>3</th>\n",
       "      <td>11.214083</td>\n",
       "      <td>4.871528</td>\n",
       "    </tr>\n",
       "    <tr>\n",
       "      <th rowspan=\"3\" valign=\"top\">Q</th>\n",
       "      <th>1</th>\n",
       "      <td>90.000000</td>\n",
       "      <td>0.000000</td>\n",
       "    </tr>\n",
       "    <tr>\n",
       "      <th>2</th>\n",
       "      <td>12.350000</td>\n",
       "      <td>0.000000</td>\n",
       "    </tr>\n",
       "    <tr>\n",
       "      <th>3</th>\n",
       "      <td>11.183393</td>\n",
       "      <td>6.721677</td>\n",
       "    </tr>\n",
       "    <tr>\n",
       "      <th rowspan=\"3\" valign=\"top\">S</th>\n",
       "      <th>1</th>\n",
       "      <td>70.364862</td>\n",
       "      <td>58.811278</td>\n",
       "    </tr>\n",
       "    <tr>\n",
       "      <th>2</th>\n",
       "      <td>20.327439</td>\n",
       "      <td>13.630741</td>\n",
       "    </tr>\n",
       "    <tr>\n",
       "      <th>3</th>\n",
       "      <td>14.644083</td>\n",
       "      <td>13.276609</td>\n",
       "    </tr>\n",
       "  </tbody>\n",
       "</table>\n",
       "</div>"
      ]
     },
     "metadata": {},
     "output_type": "display_data"
    }
   ],
   "source": [
    "data_df.groupby(['Embarked','Pclass']).agg({'Fare':[np.mean,np.std,], })"
   ]
  },
  {
   "cell_type": "code",
   "execution_count": 34,
   "metadata": {
    "datalore": {
     "hide_input_from_viewers": true,
     "hide_output_from_viewers": true,
     "node_id": "2kJrg8uWzAAoGPeCHjGjto",
     "type": "CODE"
    }
   },
   "outputs": [
    {
     "data": {
      "image/png": "[encoded data removed]"
     },
     "metadata": {
      "image/png": {}
     },
     "output_type": "display_data"
    }
   ],
   "source": [
    "sns.factorplot('Embarked','Survived',hue='Sex',data=data_df)\n",
    "plt.show()"
   ]
  },
  {
   "cell_type": "code",
   "execution_count": 35,
   "metadata": {
    "datalore": {
     "hide_input_from_viewers": true,
     "hide_output_from_viewers": true,
     "node_id": "Fr8nrdTynyGdhOdfO36EBW",
     "type": "CODE"
    }
   },
   "outputs": [
    {
     "data": {
      "image/png": "[encoded data removed]"
     },
     "metadata": {
      "image/png": {}
     },
     "output_type": "display_data"
    }
   ],
   "source": [
    "sns.factorplot('Embarked','Survived',hue='Pclass',data=data_df)\n",
    "plt.show()"
   ]
  },
  {
   "cell_type": "code",
   "execution_count": 36,
   "metadata": {
    "datalore": {
     "hide_input_from_viewers": true,
     "hide_output_from_viewers": true,
     "node_id": "5gA8J4y6cfLN6993ocxoOi",
     "type": "CODE"
    }
   },
   "outputs": [
    {
     "data": {
      "text/html": [
       "<div>\n",
       "<style scoped>\n",
       "    .dataframe tbody tr th:only-of-type {\n",
       "        vertical-align: middle;\n",
       "    }\n",
       "\n",
       "    .dataframe tbody tr th {\n",
       "        vertical-align: top;\n",
       "    }\n",
       "\n",
       "    .dataframe thead th {\n",
       "        text-align: right;\n",
       "    }\n",
       "</style>\n",
       "<table border=\"1\" class=\"dataframe\">\n",
       "  <thead>\n",
       "    <tr style=\"text-align: right;\">\n",
       "      <th></th>\n",
       "      <th>PassengerId</th>\n",
       "      <th>Survived</th>\n",
       "      <th>Pclass</th>\n",
       "      <th>Sex</th>\n",
       "      <th>Age</th>\n",
       "      <th>SibSp</th>\n",
       "      <th>Parch</th>\n",
       "      <th>Ticket</th>\n",
       "      <th>Fare</th>\n",
       "      <th>Cabin</th>\n",
       "      <th>Embarked</th>\n",
       "      <th>Title</th>\n",
       "    </tr>\n",
       "  </thead>\n",
       "  <tbody>\n",
       "    <tr>\n",
       "      <th>61</th>\n",
       "      <td>62</td>\n",
       "      <td>1</td>\n",
       "      <td>1</td>\n",
       "      <td>female</td>\n",
       "      <td>38.0</td>\n",
       "      <td>0</td>\n",
       "      <td>0</td>\n",
       "      <td>113572</td>\n",
       "      <td>80.0</td>\n",
       "      <td>B28</td>\n",
       "      <td>NaN</td>\n",
       "      <td>Miss.</td>\n",
       "    </tr>\n",
       "    <tr>\n",
       "      <th>829</th>\n",
       "      <td>830</td>\n",
       "      <td>1</td>\n",
       "      <td>1</td>\n",
       "      <td>female</td>\n",
       "      <td>62.0</td>\n",
       "      <td>0</td>\n",
       "      <td>0</td>\n",
       "      <td>113572</td>\n",
       "      <td>80.0</td>\n",
       "      <td>B28</td>\n",
       "      <td>NaN</td>\n",
       "      <td>Mrs.</td>\n",
       "    </tr>\n",
       "  </tbody>\n",
       "</table>\n",
       "</div>"
      ]
     },
     "metadata": {},
     "output_type": "display_data"
    }
   ],
   "source": [
    "data_df[data_df['Embarked'].isnull()]"
   ]
  },
  {
   "cell_type": "code",
   "execution_count": 37,
   "metadata": {
    "datalore": {
     "hide_input_from_viewers": true,
     "hide_output_from_viewers": true,
     "node_id": "Be9k7OQzeEQshQRfomMl4c",
     "type": "CODE"
    }
   },
   "outputs": [
    {
     "data": {
      "text/plain": [
       "Index(['PassengerId', 'Survived', 'Pclass', 'Sex', 'Age', 'SibSp', 'Parch',\n",
       "       'Ticket', 'Fare', 'Cabin', 'Embarked', 'Title'],\n",
       "      dtype='object')"
      ]
     },
     "metadata": {},
     "output_type": "display_data"
    }
   ],
   "source": [
    "data_df.columns"
   ]
  },
  {
   "cell_type": "code",
   "execution_count": 38,
   "metadata": {
    "datalore": {
     "hide_input_from_viewers": true,
     "hide_output_from_viewers": true,
     "node_id": "1u3oRVBVqljqHLz4JLgEgh",
     "type": "CODE"
    }
   },
   "outputs": [
    {
     "data": {
      "text/html": [
       "<pre>0      1\n",
       "1      1\n",
       "2      0\n",
       "3      1\n",
       "4      0\n",
       "      ..\n",
       "886    0\n",
       "887    0\n",
       "888    1\n",
       "889    0\n",
       "890    0\n",
       "Name: SibSp, Length: 891, dtype: int64</pre>"
      ]
     },
     "metadata": {},
     "output_type": "display_data"
    }
   ],
   "source": [
    "data_df.SibSp"
   ]
  },
  {
   "cell_type": "code",
   "execution_count": 39,
   "metadata": {
    "datalore": {
     "hide_input_from_viewers": true,
     "hide_output_from_viewers": true,
     "node_id": "hocdwYgChJsf98zFYaDqDE",
     "type": "CODE"
    }
   },
   "outputs": [
    {
     "data": {
      "image/png": "[encoded data removed]"
     },
     "metadata": {
      "image/png": {}
     },
     "output_type": "display_data"
    }
   ],
   "source": [
    "fig,ax=plt.subplots(1,2,figsize=(18,8))\n",
    "data_df['SibSp'].value_counts().plot.bar(color=['#CD7F32','#FFDF00','#D3D3D3'],ax=ax[0])\n",
    "ax[0].set_title('Number Of Passengers By Pclass')\n",
    "ax[0].set_ylabel('Count')\n",
    "sns.countplot('SibSp',hue='Survived',data=data_df,ax=ax[1])\n",
    "ax[1].set_title('Pclass:Survived vs Dead')\n",
    "plt.show()"
   ]
  },
  {
   "cell_type": "code",
   "execution_count": 40,
   "metadata": {
    "datalore": {
     "hide_input_from_viewers": true,
     "hide_output_from_viewers": true,
     "node_id": "SRV7xTX5crzBVobA1Px0Vo",
     "type": "CODE"
    }
   },
   "outputs": [
    {
     "data": {
      "text/html": [
       "<pre>0      0\n",
       "1      0\n",
       "2      0\n",
       "3      0\n",
       "4      0\n",
       "      ..\n",
       "886    0\n",
       "887    0\n",
       "888    2\n",
       "889    0\n",
       "890    0\n",
       "Name: Parch, Length: 891, dtype: int64</pre>"
      ]
     },
     "metadata": {},
     "output_type": "display_data"
    }
   ],
   "source": [
    "data_df.Parch"
   ]
  },
  {
   "cell_type": "markdown",
   "metadata": {
    "datalore": {
     "hide_input_from_viewers": true,
     "hide_output_from_viewers": true,
     "node_id": "jaMLuR3RRlLNk4YRfOid3U",
     "type": "MD"
    }
   },
   "source": [
    "### Sibsp"
   ]
  },
  {
   "cell_type": "markdown",
   "metadata": {
    "datalore": {
     "hide_input_from_viewers": true,
     "hide_output_from_viewers": true,
     "node_id": "sZcc2J14Iy5hCw2kcGyGyI",
     "type": "MD"
    }
   },
   "source": [
    "### Parch"
   ]
  },
  {
   "cell_type": "code",
   "execution_count": 41,
   "metadata": {
    "datalore": {
     "hide_input_from_viewers": true,
     "hide_output_from_viewers": true,
     "node_id": "clN1NVPguc1HTWttLh0U91",
     "type": "CODE"
    }
   },
   "outputs": [
    {
     "data": {
      "image/png": "[encoded data removed]"
     },
     "metadata": {
      "image/png": {}
     },
     "output_type": "display_data"
    }
   ],
   "source": [
    "fig,ax=plt.subplots(1,2,figsize=(18,8))\n",
    "data_df['Parch'].value_counts().plot.bar(color=['#CD7F32','#FFDF00','#D3D3D3'],ax=ax[0])\n",
    "ax[0].set_title('Number Of Passengers By Parch')\n",
    "ax[0].set_ylabel('Count')\n",
    "sns.countplot('Parch',hue='Survived',data=data_df,ax=ax[1])\n",
    "ax[1].set_title('Pclass:Survived vs Dead')\n",
    "plt.show()"
   ]
  },
  {
   "cell_type": "markdown",
   "metadata": {
    "datalore": {
     "hide_input_from_viewers": true,
     "hide_output_from_viewers": true,
     "node_id": "k45yyMTAjJForVqe7WOgS9",
     "type": "MD"
    }
   },
   "source": [
    "### Ticket"
   ]
  },
  {
   "cell_type": "code",
   "execution_count": 42,
   "metadata": {
    "datalore": {
     "hide_input_from_viewers": true,
     "hide_output_from_viewers": true,
     "node_id": "QrLxln5DTHer4hpr93Uvun",
     "type": "CODE"
    }
   },
   "outputs": [
    {
     "data": {
      "text/html": [
       "<pre>0             A/5 21171\n",
       "1              PC 17599\n",
       "2      STON/O2. 3101282\n",
       "3                113803\n",
       "4                373450\n",
       "             ...       \n",
       "886              211536\n",
       "887              112053\n",
       "888          W./C. 6607\n",
       "889              111369\n",
       "890              370376\n",
       "Name: Ticket, Length: 891, dtype: object</pre>"
      ]
     },
     "metadata": {},
     "output_type": "display_data"
    }
   ],
   "source": [
    "data_df.Ticket"
   ]
  },
  {
   "cell_type": "markdown",
   "metadata": {
    "datalore": {
     "hide_input_from_viewers": true,
     "hide_output_from_viewers": true,
     "node_id": "691sX8s96096mVNhsB7w4M",
     "type": "MD"
    }
   },
   "source": [
    "### Cabin"
   ]
  },
  {
   "cell_type": "code",
   "execution_count": 43,
   "metadata": {
    "datalore": {
     "hide_input_from_viewers": true,
     "hide_output_from_viewers": true,
     "node_id": "0hq9d7SkUql58LYLhTuuTH",
     "type": "CODE"
    }
   },
   "outputs": [
    {
     "data": {
      "text/html": [
       "<pre>0       NaN\n",
       "1       C85\n",
       "2       NaN\n",
       "3      C123\n",
       "4       NaN\n",
       "       ... \n",
       "886     NaN\n",
       "887     B42\n",
       "888     NaN\n",
       "889    C148\n",
       "890     NaN\n",
       "Name: Cabin, Length: 891, dtype: object</pre>"
      ]
     },
     "metadata": {},
     "output_type": "display_data"
    }
   ],
   "source": [
    "data_df.Cabin"
   ]
  },
  {
   "cell_type": "code",
   "execution_count": 44,
   "metadata": {
    "datalore": {
     "hide_input_from_viewers": true,
     "hide_output_from_viewers": true,
     "node_id": "XR2GoDgg4Mn8BNzIaMe6Dj",
     "type": "CODE"
    }
   },
   "outputs": [
    {
     "data": {
      "text/plain": [
       "Index(['PassengerId', 'Survived', 'Pclass', 'Sex', 'Age', 'SibSp', 'Parch',\n",
       "       'Ticket', 'Fare', 'Cabin', 'Embarked', 'Title'],\n",
       "      dtype='object')"
      ]
     },
     "metadata": {},
     "output_type": "display_data"
    }
   ],
   "source": [
    "data_df.columns"
   ]
  },
  {
   "cell_type": "markdown",
   "metadata": {
    "datalore": {
     "hide_input_from_viewers": true,
     "hide_output_from_viewers": true,
     "node_id": "a2pQ65wOWOp5m5jSPESSRl",
     "type": "MD"
    }
   },
   "source": [
    "## 데이터 전처리"
   ]
  },
  {
   "cell_type": "code",
   "execution_count": 45,
   "metadata": {
    "datalore": {
     "hide_input_from_viewers": true,
     "hide_output_from_viewers": true,
     "node_id": "DKKVYZ1f9JtmJpvrIH34eq",
     "type": "CODE"
    }
   },
   "outputs": [],
   "source": [
    "# 전처리용 라이브러리 임포트\n",
    "from sklearn.preprocessing import StandardScaler, OneHotEncoder, MinMaxScaler\n",
    "from sklearn.compose import ColumnTransformer\n",
    "from sklearn.pipeline import Pipeline"
   ]
  },
  {
   "cell_type": "markdown",
   "metadata": {
    "datalore": {
     "hide_input_from_viewers": true,
     "hide_output_from_viewers": true,
     "node_id": "w6MryDMYTtYYy5x3Yb3jCN",
     "type": "MD"
    }
   },
   "source": [
    "### Age예측 데이터 생성"
   ]
  },
  {
   "cell_type": "code",
   "execution_count": 46,
   "metadata": {
    "datalore": {
     "hide_input_from_viewers": false,
     "hide_output_from_viewers": false,
     "node_id": "90y8KM66AgFrTNWEM4qXIQ",
     "report_properties": {
      "y": 179
     },
     "type": "CODE"
    }
   },
   "outputs": [],
   "source": [
    "# 데이터프레임 백업\n",
    "# 최빈값으로 결측치 대체 \n",
    "data_df['Embarked'] =data_df.Embarked.fillna('S')\n",
    "data_back_df = data_df.copy()\n",
    "data_df.drop(['PassengerId','Cabin', 'Ticket'], inplace=True, axis=1)"
   ]
  },
  {
   "cell_type": "code",
   "execution_count": 47,
   "metadata": {
    "datalore": {
     "hide_input_from_viewers": false,
     "hide_output_from_viewers": false,
     "node_id": "ZilKtx1XTrAY22F4BEVg2Q",
     "report_properties": {
      "y": 183
     },
     "type": "CODE"
    }
   },
   "outputs": [],
   "source": [
    "data_df_with_survived = data_df.copy()\n",
    "data_df.drop('Survived', inplace=True, axis=1)"
   ]
  },
  {
   "cell_type": "code",
   "execution_count": 48,
   "metadata": {
    "datalore": {
     "hide_input_from_viewers": true,
     "hide_output_from_viewers": true,
     "node_id": "Ut9czZeV6q3HvD9VOK4paj",
     "type": "CODE"
    }
   },
   "outputs": [],
   "source": [
    "# 테스트용 df \n",
    "test_df = data_df.copy()"
   ]
  },
  {
   "cell_type": "markdown",
   "metadata": {
    "datalore": {
     "hide_input_from_viewers": true,
     "hide_output_from_viewers": true,
     "node_id": "aCBn0mzoAJdGHKGHMxqiDL",
     "type": "MD"
    }
   },
   "source": [
    "### Age Preprocessing Pipeline "
   ]
  },
  {
   "cell_type": "code",
   "execution_count": 49,
   "metadata": {
    "datalore": {
     "hide_input_from_viewers": true,
     "hide_output_from_viewers": true,
     "node_id": "9Ao3mrKCdpBb4uYxPvrkqK",
     "type": "CODE"
    }
   },
   "outputs": [],
   "source": [
    "#one Hot encoding col name 유지 하기 \n",
    "#import warnings\n",
    "from sklearn.base import BaseEstimator\n",
    "class PassthroughTransformer(BaseEstimator):\n",
    "  def fit(self, X, y = None):\n",
    "    self.cols = X.columns\n",
    "    return self\n",
    "\n",
    "  def transform(self, X, y = None):\n",
    "    self.cols = X.columns\n",
    "    return X.values\n",
    "\n",
    "  def get_feature_names(self):\n",
    "    return self.cols"
   ]
  },
  {
   "cell_type": "code",
   "execution_count": 50,
   "metadata": {
    "datalore": {
     "hide_input_from_viewers": false,
     "hide_output_from_viewers": false,
     "node_id": "QRGzsjhkOfqHqRpYTfxVAS",
     "report_properties": {
      "y": 186
     },
     "type": "CODE"
    }
   },
   "outputs": [],
   "source": [
    "# 카테고리 원핫인코딩 일괄적용 \n",
    "\n",
    "#Categories\n",
    "exclue_age_numeric_features = [ 'SibSp', 'Parch', 'Fare', ]\n",
    "numeric_features = ['Age', 'SibSp', 'Parch', 'Fare', ]\n",
    "categorical_features = ['Pclass', 'Sex', 'Embarked', 'Title']\n",
    "\n",
    "#Model \n",
    "numeric_transformer = MinMaxScaler() # cf) RobustScaler\n",
    "categorical_transformer = OneHotEncoder(sparse=False, handle_unknown='ignore') \n",
    "\n",
    "#전처리 파이프라인\n",
    "categori_preprocessor = ColumnTransformer(\n",
    "        [('cat', categorical_transformer, categorical_features),\n",
    "        ('numeri', numeric_transformer, exclue_age_numeric_features)],\n",
    "        remainder='passthrough'\n",
    ")\n"
   ]
  },
  {
   "cell_type": "code",
   "execution_count": 51,
   "metadata": {
    "datalore": {
     "hide_input_from_viewers": true,
     "hide_output_from_viewers": true,
     "node_id": "HhGwGsWhJ3NjvQhk9zGXjE",
     "type": "CODE"
    }
   },
   "outputs": [],
   "source": [
    "age_test_df = test_df[test_df['Age'].isnull()]\n",
    "age_train_df =test_df[~test_df['Age'].isnull()]"
   ]
  },
  {
   "cell_type": "code",
   "execution_count": 52,
   "metadata": {
    "datalore": {
     "hide_input_from_viewers": true,
     "hide_output_from_viewers": true,
     "node_id": "BQDYsCMyIdj1cSUOQWLJ7r",
     "type": "CODE"
    }
   },
   "outputs": [
    {
     "data": {
      "text/plain": [
       "(891, 8)"
      ]
     },
     "metadata": {},
     "output_type": "display_data"
    }
   ],
   "source": [
    "test_df.shape"
   ]
  },
  {
   "cell_type": "code",
   "execution_count": 53,
   "metadata": {
    "datalore": {
     "hide_input_from_viewers": true,
     "hide_output_from_viewers": true,
     "node_id": "iSzrOj7upgdvHl4nFqEDHz",
     "type": "CODE"
    }
   },
   "outputs": [
    {
     "data": {
      "text/plain": [
       "891"
      ]
     },
     "metadata": {},
     "output_type": "display_data"
    }
   ],
   "source": [
    "age_train_df.shape[0] + age_test_df.shape[0]"
   ]
  },
  {
   "cell_type": "code",
   "execution_count": 54,
   "metadata": {
    "datalore": {
     "hide_input_from_viewers": true,
     "hide_output_from_viewers": true,
     "node_id": "qp4i0wzPSQxuYOAtT9kTrE",
     "type": "CODE"
    }
   },
   "outputs": [],
   "source": [
    "#원핫 인코딩후 반환\n",
    "categori_preprocessor.fit(age_train_df)\n",
    "trans_age_train_df = categori_preprocessor.transform(age_train_df)\n",
    "trans_age_null_df = categori_preprocessor.transform(age_test_df)\n",
    "\n",
    "# 컬럼 내용 처리\n",
    "tx = categori_preprocessor.get_params()['transformers']\n",
    "\n",
    "feature_names =[]\n",
    "for name,transformer,features in tx:\n",
    "    try:\n",
    "        Var = categori_preprocessor.named_transformers_[name].get_feature_names().tolist()\n",
    "    except AttributeError:\n",
    "        Var = features\n",
    "    feature_names = feature_names + Var"
   ]
  },
  {
   "cell_type": "code",
   "execution_count": 55,
   "metadata": {
    "datalore": {
     "hide_input_from_viewers": true,
     "hide_output_from_viewers": true,
     "node_id": "nNiAujgXpHgIXhOWIbz5BQ",
     "type": "CODE"
    }
   },
   "outputs": [],
   "source": [
    "#데이터 프레임으로 반환\n",
    "trans_age_train_df = pd.DataFrame(trans_age_train_df, columns=feature_names+['Age']) # passthrough한 feature 열이름 추가\n",
    "trans_age_null_df = pd.DataFrame(trans_age_null_df, columns=feature_names+['Age']) # passthrough한 feature 열이름 추가"
   ]
  },
  {
   "cell_type": "code",
   "execution_count": 56,
   "metadata": {
    "datalore": {
     "hide_input_from_viewers": true,
     "hide_output_from_viewers": true,
     "node_id": "iwIJ0XviF9bFAnIRAtAidM",
     "type": "CODE"
    }
   },
   "outputs": [],
   "source": [
    "trans_age_train_df_x = trans_age_train_df.drop('Age', axis=1)\n",
    "trans_age_train_df_y = trans_age_train_df['Age']\n",
    "\n",
    "trans_age_null_df_x = trans_age_null_df.drop('Age', axis=1)"
   ]
  },
  {
   "cell_type": "markdown",
   "metadata": {
    "datalore": {
     "hide_input_from_viewers": true,
     "hide_output_from_viewers": true,
     "node_id": "ys9ZL5MFuGVEmCpraJlcB1",
     "type": "MD"
    }
   },
   "source": [
    "### Age 예측"
   ]
  },
  {
   "cell_type": "code",
   "execution_count": 57,
   "metadata": {
    "datalore": {
     "hide_input_from_viewers": true,
     "hide_output_from_viewers": true,
     "node_id": "UE8Yx0p4KS4zuPRudCoI3S",
     "type": "CODE"
    }
   },
   "outputs": [],
   "source": [
    "# Model들 import\n",
    "from sklearn.linear_model import LinearRegression, Lasso, Ridge\n",
    "from sklearn.model_selection import train_test_split\n",
    "from xgboost import XGBRegressor"
   ]
  },
  {
   "cell_type": "code",
   "execution_count": 58,
   "metadata": {
    "datalore": {
     "hide_input_from_viewers": true,
     "hide_output_from_viewers": true,
     "node_id": "za0qHVdN4N5ljtVWPa4R7m",
     "type": "CODE"
    }
   },
   "outputs": [],
   "source": [
    "# 모델선언\n",
    "LinearModel = LinearRegression()\n",
    "LassoModel = Lasso(alpha=1)\n",
    "RidgeModel = Ridge(alpha=0.1)\n",
    "xgbrModel = XGBRegressor()\n",
    "\n",
    "\n",
    "#테스트 셋 분할\n",
    "age_X_train, age_X_test, age_y_train, age_y_test = train_test_split(trans_age_train_df_x, trans_age_train_df_y, random_state=5441)\n",
    "\n"
   ]
  },
  {
   "cell_type": "code",
   "execution_count": 59,
   "metadata": {
    "datalore": {
     "hide_input_from_viewers": true,
     "hide_output_from_viewers": true,
     "node_id": "mFfDAYYbxFexsNHB3W3Ne1",
     "type": "CODE"
    }
   },
   "outputs": [
    {
     "name": "stdout",
     "output_type": "stream",
     "text": [
      "Linear Model\n",
      "훈련 세트 점수: 0.432\n",
      "테스트 세트 점수: 0.366\n",
      "Lasso Model\n",
      "훈련 세트 점수: 0.229\n",
      "테스트 세트 점수: 0.234\n",
      "Ridge Model\n",
      "훈련 세트 점수: 0.433\n",
      "테스트 세트 점수: 0.381\n",
      "XGB Regressor\n",
      "훈련 세트 점수: 0.794\n",
      "테스트 세트 점수: 0.230\n"
     ]
    }
   ],
   "source": [
    "#모델 훈련 \n",
    "LinearModel.fit(age_X_train,age_y_train)\n",
    "LassoModel.fit(age_X_train,age_y_train)\n",
    "RidgeModel.fit(age_X_train,age_y_train)\n",
    "xgbrModel.fit(age_X_train,age_y_train)\n",
    "#모델 테스트 \n",
    "print(\"Linear Model\")\n",
    "print(\"훈련 세트 점수: {:.3f}\".format(LinearModel.score(age_X_train, age_y_train)))\n",
    "print(\"테스트 세트 점수: {:.3f}\".format(LinearModel.score(age_X_test, age_y_test)))\n",
    "\n",
    "#과적합을 막는 모델이라서 데이터가 적은곳에서는 사용하기 어려움\n",
    "print(\"Lasso Model\")\n",
    "print(\"훈련 세트 점수: {:.3f}\".format(LassoModel.score(age_X_train, age_y_train)))\n",
    "print(\"테스트 세트 점수: {:.3f}\".format(LassoModel.score(age_X_test, age_y_test)))\n",
    "\n",
    "print(\"Ridge Model\")\n",
    "print(\"훈련 세트 점수: {:.3f}\".format(RidgeModel.score(age_X_train, age_y_train)))\n",
    "print(\"테스트 세트 점수: {:.3f}\".format(RidgeModel.score(age_X_test, age_y_test)))\n",
    "\n",
    "print(\"XGB Regressor\")\n",
    "print(\"훈련 세트 점수: {:.3f}\".format(xgbrModel.score(age_X_train, age_y_train)))\n",
    "print(\"테스트 세트 점수: {:.3f}\".format(xgbrModel.score(age_X_test, age_y_test)))"
   ]
  },
  {
   "cell_type": "code",
   "execution_count": 60,
   "metadata": {
    "datalore": {
     "hide_input_from_viewers": true,
     "hide_output_from_viewers": true,
     "node_id": "GrkvfBwfS1lAwn4xYaDkCY",
     "type": "CODE"
    }
   },
   "outputs": [
    {
     "data": {
      "text/html": [
       "<pre>array([ 37.  ,  34.75,  30.25,  27.  ,  25.25,  29.75,  41.25,  25.25,\n",
       "        27.  ,  27.  ,  29.75,  34.75,  25.25,  22.5 ,  44.25,  41.5 ,\n",
       "         2.5 ,  29.75,  29.75,  25.25,  29.75,  29.75,  29.75,  29.75,\n",
       "        23.  ,  29.75,  37.  ,  13.25,  30.5 ,  30.  ,  29.75, -10.5 ,\n",
       "        47.5 ,  44.5 ,   1.  ,   0.5 ,  32.  ,  44.  ,  37.75,  37.  ,\n",
       "        25.25,  11.75,  34.75,  29.75,  11.5 ,  18.5 ,  13.25,  23.  ,\n",
       "        30.  ,  44.5 ,  37.  ,  25.25,  44.25,  25.25,  35.  ,  44.5 ,\n",
       "        41.5 ,  44.25,  25.25,  32.25,  30.  ,  29.75,  29.  ,  11.75,\n",
       "        21.  ,  44.25,  29.75,  31.  ,  44.25,  27.  ,  25.25,  25.25,\n",
       "        34.75,  30.25,  25.25,  42.  ,  29.75,  37.  ,  11.5 ,  29.75,\n",
       "        37.  ,  35.  ,  33.  ,  27.  ,  30.  ,  37.  ,  31.  ,  29.75,\n",
       "        27.5 ,  29.75,  45.5 ,  37.  ,  29.75,  35.  ,  37.  ,  30.  ,\n",
       "        44.  ,  35.  ,  11.5 ,  27.5 ,  27.  ,  29.75,  25.25,  44.5 ,\n",
       "        29.75,  36.75,  27.  ,  27.  ,  42.  ,  27.  ,  30.5 ,  29.75,\n",
       "        32.  ,  37.  ,  39.  ,  37.  ,  29.75,  18.5 ,  27.  ,  25.25,\n",
       "        28.  ,  27.  ,  29.75,  25.5 ,  23.  ,  27.  ,  29.75,  44.25,\n",
       "        30.  ,  23.  ,  37.  ,  37.  ,  44.75,  27.5 ,  29.25,  30.  ,\n",
       "        29.75,  25.25,  29.75,  29.75,  45.5 ,  35.  ,  25.25,  29.25,\n",
       "        25.25,   2.5 ,  44.5 ,  36.75,  25.25,  35.  ,  29.75,  29.75,\n",
       "        44.25,  29.75,  47.  ,  34.5 ,  27.  ,  37.  ,  37.  ,  27.5 ,\n",
       "        37.  ,   0.5 ,  41.5 ,  44.75,  37.  ,  29.25,  37.  ,  27.  ,\n",
       "        29.75,  41.5 ,  11.75,  42.  ,  27.  ,   0.5 ,  29.75,  29.75,\n",
       "        16.  ])</pre>"
      ]
     },
     "metadata": {},
     "output_type": "display_data"
    }
   ],
   "source": [
    "LinearModel.predict(trans_age_null_df_x)"
   ]
  },
  {
   "cell_type": "code",
   "execution_count": 61,
   "metadata": {
    "datalore": {
     "hide_input_from_viewers": true,
     "hide_output_from_viewers": true,
     "node_id": "h4HDAkQp2ollTEnNbZlTxe",
     "type": "CODE"
    }
   },
   "outputs": [
    {
     "data": {
      "text/html": [
       "<pre>array([ 36.76323471,  33.96700459,  30.0721545 ,  27.1712263 ,\n",
       "        25.58469671,  30.11443418,  40.01573226,  25.58633877,\n",
       "        27.17117292,  27.16270082,  30.11247439,  34.53319143,\n",
       "        25.58633877,  22.70642709,  43.61809519,  40.76523097,\n",
       "         1.52825327,  30.11443418,  30.11247439,  25.58586216,\n",
       "        30.11247439,  30.11247439,  30.11443418,  30.11596948,\n",
       "        23.23735688,  30.11247439,  36.77223679,  13.58889187,\n",
       "        29.84310764,  30.12184759,  30.10468987, -11.25757332,\n",
       "        46.20763607,  43.73978793,   0.06899023,   0.89346106,\n",
       "        30.9892169 ,  43.43380854,  37.43411963,  36.77223679,\n",
       "        25.58633877,  12.07935909,  34.63168946,  30.11443418,\n",
       "        12.22002461,  18.93293108,  13.75290198,  23.3472934 ,\n",
       "        30.12264193,  43.01188819,  36.77223679,  25.58633877,\n",
       "        43.6752876 ,  25.58633877,  34.1322271 ,  43.73883472,\n",
       "        40.76523097,  43.68164231,  25.58633877,  32.29414606,\n",
       "        29.44531726,  30.11247439,  28.52238547,  12.07935909,\n",
       "        21.10824804,  43.13104608,  30.11443418,  30.7705444 ,\n",
       "        43.6244499 ,  27.1712263 ,  25.58469671,  25.58469671,\n",
       "        34.53319143,  30.07210112,  25.58633877,  40.8335837 ,\n",
       "        30.11443418,  36.77250115,  12.22002461,  30.11443418,\n",
       "        36.78356978,  34.1322271 ,  33.01340259,  27.16270082,\n",
       "        30.12264193,  36.77223679,  30.7705444 ,  30.11168005,\n",
       "        27.82047267,  30.11247439,  44.17051811,  36.77223679,\n",
       "        30.11247439,  34.1322271 ,  36.77255453,  30.12264193,\n",
       "        43.40838969,  34.1322271 ,  12.22002461,  27.82047267,\n",
       "        27.07929522,  30.02287295,  25.58787407,  43.73184454,\n",
       "        30.11247439,  36.56380224,  27.1712263 ,  27.17117292,\n",
       "        41.25059383,  27.17117292,  29.75271186,  30.03049861,\n",
       "        31.00430934,  36.7712302 ,  38.22583465,  36.77223679,\n",
       "        30.11247439,  18.92657637,  27.17117292,  25.58633877,\n",
       "        27.83967609,  27.15232103,  30.11247439,  25.45923166,\n",
       "        22.52691808,  27.1712263 ,  30.11443418,  43.53040016,\n",
       "        30.12518382,  23.3472934 ,  36.77223679,  36.77244904,\n",
       "        44.06927975,  27.8696162 ,  29.49675617,  30.1188291 ,\n",
       "        30.11443418,  25.58533218,  30.11443418,  30.11596948,\n",
       "        44.16877056,  34.1322271 ,  25.58141387,  29.49675617,\n",
       "        25.58655101,   1.52825327,  43.73184454,  36.67373875,\n",
       "        25.58649764,  34.1322271 ,  30.11443418,  30.11443418,\n",
       "        43.68799702,  30.03049861,  47.72919234,  34.42325491,\n",
       "        27.1712263 ,  36.77223679,  36.77239566,  27.64909483,\n",
       "        36.77223679,   0.89346106,  40.72742044,  44.06927975,\n",
       "        36.78240433,  29.49675617,  36.77223679,  27.17117292,\n",
       "        30.11247439,  40.74007648,  12.07935909,  40.74546418,\n",
       "        27.17117292,   0.89346106,  30.09404573,  30.11443418,\n",
       "        16.4631968 ])</pre>"
      ]
     },
     "metadata": {},
     "output_type": "display_data"
    }
   ],
   "source": [
    "RidgeModel.predict(trans_age_null_df_x)"
   ]
  },
  {
   "cell_type": "code",
   "execution_count": 62,
   "metadata": {
    "datalore": {
     "hide_input_from_viewers": true,
     "hide_output_from_viewers": true,
     "node_id": "O0XJjrVv26xRunBIBkJmAw",
     "type": "CODE"
    }
   },
   "outputs": [
    {
     "data": {
      "text/html": [
       "<div>\n",
       "<style scoped>\n",
       "    .dataframe tbody tr th:only-of-type {\n",
       "        vertical-align: middle;\n",
       "    }\n",
       "\n",
       "    .dataframe tbody tr th {\n",
       "        vertical-align: top;\n",
       "    }\n",
       "\n",
       "    .dataframe thead th {\n",
       "        text-align: right;\n",
       "    }\n",
       "</style>\n",
       "<table border=\"1\" class=\"dataframe\">\n",
       "  <thead>\n",
       "    <tr style=\"text-align: right;\">\n",
       "      <th></th>\n",
       "      <th>x0_1</th>\n",
       "      <th>x0_2</th>\n",
       "      <th>x0_3</th>\n",
       "      <th>x1_female</th>\n",
       "      <th>x1_male</th>\n",
       "      <th>x2_C</th>\n",
       "      <th>x2_Q</th>\n",
       "      <th>x2_S</th>\n",
       "      <th>x3_Master.</th>\n",
       "      <th>x3_Miss.</th>\n",
       "      <th>x3_Mr.</th>\n",
       "      <th>x3_Mrs.</th>\n",
       "      <th>x3_etc</th>\n",
       "      <th>SibSp</th>\n",
       "      <th>Parch</th>\n",
       "      <th>Fare</th>\n",
       "      <th>bias</th>\n",
       "    </tr>\n",
       "  </thead>\n",
       "  <tbody>\n",
       "    <tr>\n",
       "      <th>0</th>\n",
       "      <td>6.421804e+14</td>\n",
       "      <td>6.421804e+14</td>\n",
       "      <td>6.421804e+14</td>\n",
       "      <td>-5.422992e+14</td>\n",
       "      <td>-5.422992e+14</td>\n",
       "      <td>-4.036509e+13</td>\n",
       "      <td>-4.036509e+13</td>\n",
       "      <td>-4.036509e+13</td>\n",
       "      <td>1.505642e+15</td>\n",
       "      <td>1.505642e+15</td>\n",
       "      <td>1.505642e+15</td>\n",
       "      <td>1.505642e+15</td>\n",
       "      <td>1.505642e+15</td>\n",
       "      <td>-10.833984</td>\n",
       "      <td>0.288239</td>\n",
       "      <td>-6.53125</td>\n",
       "      <td>-1.565158e+15</td>\n",
       "    </tr>\n",
       "  </tbody>\n",
       "</table>\n",
       "</div>"
      ]
     },
     "metadata": {},
     "output_type": "display_data"
    }
   ],
   "source": [
    "# 리니어 모델 weight값과 bias\n",
    "linear_wb = pd.DataFrame(LinearModel.coef_, index=feature_names).T\n",
    "linear_wb['bias'] = LinearModel.intercept_\n",
    "linear_wb"
   ]
  },
  {
   "cell_type": "code",
   "execution_count": 63,
   "metadata": {
    "datalore": {
     "hide_input_from_viewers": true,
     "hide_output_from_viewers": true,
     "node_id": "QjnbD6CHXbihnJ5k9JiAwd",
     "type": "CODE"
    }
   },
   "outputs": [
    {
     "data": {
      "text/html": [
       "<div>\n",
       "<style scoped>\n",
       "    .dataframe tbody tr th:only-of-type {\n",
       "        vertical-align: middle;\n",
       "    }\n",
       "\n",
       "    .dataframe tbody tr th {\n",
       "        vertical-align: top;\n",
       "    }\n",
       "\n",
       "    .dataframe thead th {\n",
       "        text-align: right;\n",
       "    }\n",
       "</style>\n",
       "<table border=\"1\" class=\"dataframe\">\n",
       "  <thead>\n",
       "    <tr style=\"text-align: right;\">\n",
       "      <th></th>\n",
       "      <th>x0_1</th>\n",
       "      <th>x0_2</th>\n",
       "      <th>x0_3</th>\n",
       "      <th>x1_female</th>\n",
       "      <th>x1_male</th>\n",
       "      <th>x2_C</th>\n",
       "      <th>x2_Q</th>\n",
       "      <th>x2_S</th>\n",
       "      <th>x3_Master.</th>\n",
       "      <th>x3_Miss.</th>\n",
       "      <th>x3_Mr.</th>\n",
       "      <th>x3_Mrs.</th>\n",
       "      <th>x3_etc</th>\n",
       "      <th>SibSp</th>\n",
       "      <th>Parch</th>\n",
       "      <th>Fare</th>\n",
       "      <th>bias</th>\n",
       "    </tr>\n",
       "  </thead>\n",
       "  <tbody>\n",
       "    <tr>\n",
       "      <th>0</th>\n",
       "      <td>7.930516</td>\n",
       "      <td>-2.006537</td>\n",
       "      <td>-5.923979</td>\n",
       "      <td>-7.236356</td>\n",
       "      <td>7.236356</td>\n",
       "      <td>-4.186472</td>\n",
       "      <td>5.421211</td>\n",
       "      <td>-1.234739</td>\n",
       "      <td>-24.224624</td>\n",
       "      <td>2.399121</td>\n",
       "      <td>-0.887692</td>\n",
       "      <td>16.485948</td>\n",
       "      <td>6.227247</td>\n",
       "      <td>-10.702737</td>\n",
       "      <td>-0.381321</td>\n",
       "      <td>-6.511409</td>\n",
       "      <td>31.024839</td>\n",
       "    </tr>\n",
       "  </tbody>\n",
       "</table>\n",
       "</div>"
      ]
     },
     "metadata": {},
     "output_type": "display_data"
    }
   ],
   "source": [
    "# 릿지 모델 weight값과 bias\n",
    "ridge_wb = pd.DataFrame(RidgeModel.coef_, index=feature_names).T\n",
    "ridge_wb['bias'] = RidgeModel.intercept_\n",
    "ridge_wb"
   ]
  },
  {
   "cell_type": "markdown",
   "metadata": {
    "datalore": {
     "hide_input_from_viewers": true,
     "hide_output_from_viewers": true,
     "node_id": "USAQcdrlnalUiwdfOtS0cH",
     "type": "MD"
    }
   },
   "source": [
    "**모델의 w,b값을 확인결과 x3_Master의 가중치가 -인 RidgeModel이 더 합리적이라서 Ridge 모델을 Age예측에 채택**"
   ]
  },
  {
   "cell_type": "code",
   "execution_count": 65,
   "metadata": {
    "datalore": {
     "hide_input_from_viewers": true,
     "hide_output_from_viewers": true,
     "node_id": "HP2ISgUu6uUovTp9dt4Und",
     "type": "CODE"
    }
   },
   "outputs": [],
   "source": [
    "data_df_with_survived.loc[data_df_with_survived['Age'].isna(), 'Age'] =np.round(RidgeModel.predict(trans_age_null_df_x),0)"
   ]
  },
  {
   "cell_type": "code",
   "execution_count": 66,
   "metadata": {
    "datalore": {
     "hide_input_from_viewers": true,
     "hide_output_from_viewers": true,
     "node_id": "rtNisiZXWtapSCcuaAqeAR",
     "type": "CODE"
    }
   },
   "outputs": [],
   "source": [
    "data_df_with_survived.to_csv('no_na_titanic_df.csv')"
   ]
  },
  {
   "cell_type": "code",
   "execution_count": 67,
   "metadata": {
    "datalore": {
     "hide_input_from_viewers": true,
     "hide_output_from_viewers": true,
     "node_id": "RyWlflNkay5Pg4fCmhj235",
     "type": "CODE"
    }
   },
   "outputs": [
    {
     "data": {
      "text/html": [
       "<pre>Survived    0\n",
       "Pclass      0\n",
       "Sex         0\n",
       "Age         0\n",
       "SibSp       0\n",
       "Parch       0\n",
       "Fare        0\n",
       "Embarked    0\n",
       "Title       0\n",
       "dtype: int64</pre>"
      ]
     },
     "metadata": {},
     "output_type": "display_data"
    }
   ],
   "source": [
    "data_df_with_survived.isna().sum()"
   ]
  },
  {
   "cell_type": "markdown",
   "metadata": {
    "datalore": {
     "hide_input_from_viewers": true,
     "hide_output_from_viewers": true,
     "node_id": "RJlzldGl5F9bcBBhYNjbpw",
     "type": "MD"
    }
   },
   "source": [
    "<br>\n",
    "\n",
    "## 2. Train - Test split (비율을 7:3 으로 유지해주시고, seed는 0을 적용해주세요)"
   ]
  },
  {
   "cell_type": "code",
   "execution_count": null,
   "metadata": {
    "datalore": {
     "hide_input_from_viewers": true,
     "hide_output_from_viewers": true,
     "node_id": "qR2tdYCL0xWBwtNHY4A2pv",
     "type": "CODE"
    }
   },
   "outputs": [],
   "source": [
    "# 아직해야할거 테스트 스플릿이랑 데이터 파이프라인 "
   ]
  },
  {
   "cell_type": "code",
   "execution_count": 68,
   "metadata": {
    "datalore": {
     "hide_input_from_viewers": true,
     "hide_output_from_viewers": true,
     "node_id": "1MEZBEM7zR0Nz5c1lY0T91",
     "type": "CODE"
    }
   },
   "outputs": [
    {
     "data": {
      "text/plain": [
       "[     Unnamed: 0  Survived  Pclass     Sex   Age  SibSp  Parch     Fare  \\\n",
       " 857         857         1       1    male  51.0      0      0  26.5500   \n",
       " 52           52         1       1  female  49.0      1      0  76.7292   \n",
       " 386         386         0       3    male   1.0      5      2  46.9000   \n",
       " 124         124         0       1    male  54.0      0      1  77.2875   \n",
       " 578         578         0       3  female  28.0      1      0  14.4583   \n",
       " ..          ...       ...     ...     ...   ...    ...    ...      ...   \n",
       " 835         835         1       1  female  39.0      1      1  83.1583   \n",
       " 192         192         1       3  female  19.0      1      0   7.8542   \n",
       " 629         629         0       3    male  37.0      0      0   7.7333   \n",
       " 559         559         1       3  female  36.0      1      0  17.4000   \n",
       " 684         684         0       2    male  60.0      1      1  39.0000   \n",
       " \n",
       "     Embarked    Title  \n",
       " 857        S      Mr.  \n",
       " 52         C     Mrs.  \n",
       " 386        S  Master.  \n",
       " 124        S      Mr.  \n",
       " 578        C     Mrs.  \n",
       " ..       ...      ...  \n",
       " 835        C    Miss.  \n",
       " 192        S    Miss.  \n",
       " 629        Q      Mr.  \n",
       " 559        S     Mrs.  \n",
       " 684        S      Mr.  \n",
       " \n",
       " [623 rows x 10 columns],\n",
       "      Unnamed: 0  Survived  Pclass     Sex   Age  SibSp  Parch      Fare  \\\n",
       " 495         495         0       3    male  27.0      0      0   14.4583   \n",
       " 648         648         0       3    male  30.0      0      0    7.5500   \n",
       " 278         278         0       3    male   7.0      4      1   29.1250   \n",
       " 31           31         1       1  female  40.0      1      0  146.5208   \n",
       " 255         255         1       3  female  29.0      0      2   15.2458   \n",
       " ..          ...       ...     ...     ...   ...    ...    ...       ...   \n",
       " 263         263         0       1    male  40.0      0      0    0.0000   \n",
       " 718         718         0       3    male  37.0      0      0   15.5000   \n",
       " 620         620         0       3    male  27.0      1      0   14.4542   \n",
       " 786         786         1       3  female  18.0      0      0    7.4958   \n",
       " 64           64         0       1    male  41.0      0      0   27.7208   \n",
       " \n",
       "     Embarked    Title  \n",
       " 495        C      Mr.  \n",
       " 648        S      Mr.  \n",
       " 278        Q  Master.  \n",
       " 31         C     Mrs.  \n",
       " 255        C     Mrs.  \n",
       " ..       ...      ...  \n",
       " 263        S      Mr.  \n",
       " 718        Q      Mr.  \n",
       " 620        C      Mr.  \n",
       " 786        S    Miss.  \n",
       " 64         C      Mr.  \n",
       " \n",
       " [268 rows x 10 columns]]"
      ]
     },
     "metadata": {},
     "output_type": "display_data"
    }
   ],
   "source": [
    "titan_df = pd.read_csv('no_na_titanic_df.csv')\n",
    "train_test_split(titan_df,random_state=0, test_size=0.3)"
   ]
  },
  {
   "cell_type": "code",
   "execution_count": 69,
   "metadata": {
    "datalore": {
     "hide_input_from_viewers": true,
     "hide_output_from_viewers": true,
     "node_id": "fcKk22ayFP1oK4QrRWntWm",
     "type": "CODE"
    }
   },
   "outputs": [],
   "source": [
    "titan_df.drop('Unnamed: 0', inplace=True,axis=1)"
   ]
  },
  {
   "cell_type": "code",
   "execution_count": 70,
   "metadata": {
    "datalore": {
     "hide_input_from_viewers": true,
     "hide_output_from_viewers": true,
     "node_id": "dqhFWazvGkMI4DSx9q5iKD",
     "type": "CODE"
    }
   },
   "outputs": [],
   "source": [
    "titanic_x =titan_df.drop('Survived', axis=1)\n",
    "titanic_y = titan_df['Survived']"
   ]
  },
  {
   "cell_type": "code",
   "execution_count": 71,
   "metadata": {
    "datalore": {
     "hide_input_from_viewers": true,
     "hide_output_from_viewers": true,
     "node_id": "ZXoz0dPwD3SCgpognhbY2Y",
     "type": "CODE"
    }
   },
   "outputs": [
    {
     "data": {
      "text/html": [
       "<div>\n",
       "<style scoped>\n",
       "    .dataframe tbody tr th:only-of-type {\n",
       "        vertical-align: middle;\n",
       "    }\n",
       "\n",
       "    .dataframe tbody tr th {\n",
       "        vertical-align: top;\n",
       "    }\n",
       "\n",
       "    .dataframe thead th {\n",
       "        text-align: right;\n",
       "    }\n",
       "</style>\n",
       "<table border=\"1\" class=\"dataframe\">\n",
       "  <thead>\n",
       "    <tr style=\"text-align: right;\">\n",
       "      <th></th>\n",
       "      <th>Pclass</th>\n",
       "      <th>Sex</th>\n",
       "      <th>Age</th>\n",
       "      <th>SibSp</th>\n",
       "      <th>Parch</th>\n",
       "      <th>Fare</th>\n",
       "      <th>Embarked</th>\n",
       "      <th>Title</th>\n",
       "    </tr>\n",
       "  </thead>\n",
       "  <tbody>\n",
       "    <tr>\n",
       "      <th>0</th>\n",
       "      <td>3</td>\n",
       "      <td>male</td>\n",
       "      <td>22.0</td>\n",
       "      <td>1</td>\n",
       "      <td>0</td>\n",
       "      <td>7.2500</td>\n",
       "      <td>S</td>\n",
       "      <td>Mr.</td>\n",
       "    </tr>\n",
       "    <tr>\n",
       "      <th>1</th>\n",
       "      <td>1</td>\n",
       "      <td>female</td>\n",
       "      <td>38.0</td>\n",
       "      <td>1</td>\n",
       "      <td>0</td>\n",
       "      <td>71.2833</td>\n",
       "      <td>C</td>\n",
       "      <td>Mrs.</td>\n",
       "    </tr>\n",
       "    <tr>\n",
       "      <th>2</th>\n",
       "      <td>3</td>\n",
       "      <td>female</td>\n",
       "      <td>26.0</td>\n",
       "      <td>0</td>\n",
       "      <td>0</td>\n",
       "      <td>7.9250</td>\n",
       "      <td>S</td>\n",
       "      <td>Miss.</td>\n",
       "    </tr>\n",
       "    <tr>\n",
       "      <th>3</th>\n",
       "      <td>1</td>\n",
       "      <td>female</td>\n",
       "      <td>35.0</td>\n",
       "      <td>1</td>\n",
       "      <td>0</td>\n",
       "      <td>53.1000</td>\n",
       "      <td>S</td>\n",
       "      <td>Mrs.</td>\n",
       "    </tr>\n",
       "    <tr>\n",
       "      <th>4</th>\n",
       "      <td>3</td>\n",
       "      <td>male</td>\n",
       "      <td>35.0</td>\n",
       "      <td>0</td>\n",
       "      <td>0</td>\n",
       "      <td>8.0500</td>\n",
       "      <td>S</td>\n",
       "      <td>Mr.</td>\n",
       "    </tr>\n",
       "    <tr>\n",
       "      <th>...</th>\n",
       "      <td>...</td>\n",
       "      <td>...</td>\n",
       "      <td>...</td>\n",
       "      <td>...</td>\n",
       "      <td>...</td>\n",
       "      <td>...</td>\n",
       "      <td>...</td>\n",
       "      <td>...</td>\n",
       "    </tr>\n",
       "    <tr>\n",
       "      <th>886</th>\n",
       "      <td>2</td>\n",
       "      <td>male</td>\n",
       "      <td>27.0</td>\n",
       "      <td>0</td>\n",
       "      <td>0</td>\n",
       "      <td>13.0000</td>\n",
       "      <td>S</td>\n",
       "      <td>etc</td>\n",
       "    </tr>\n",
       "    <tr>\n",
       "      <th>887</th>\n",
       "      <td>1</td>\n",
       "      <td>female</td>\n",
       "      <td>19.0</td>\n",
       "      <td>0</td>\n",
       "      <td>0</td>\n",
       "      <td>30.0000</td>\n",
       "      <td>S</td>\n",
       "      <td>Miss.</td>\n",
       "    </tr>\n",
       "    <tr>\n",
       "      <th>888</th>\n",
       "      <td>3</td>\n",
       "      <td>female</td>\n",
       "      <td>16.0</td>\n",
       "      <td>1</td>\n",
       "      <td>2</td>\n",
       "      <td>23.4500</td>\n",
       "      <td>S</td>\n",
       "      <td>Miss.</td>\n",
       "    </tr>\n",
       "    <tr>\n",
       "      <th>889</th>\n",
       "      <td>1</td>\n",
       "      <td>male</td>\n",
       "      <td>26.0</td>\n",
       "      <td>0</td>\n",
       "      <td>0</td>\n",
       "      <td>30.0000</td>\n",
       "      <td>C</td>\n",
       "      <td>Mr.</td>\n",
       "    </tr>\n",
       "    <tr>\n",
       "      <th>890</th>\n",
       "      <td>3</td>\n",
       "      <td>male</td>\n",
       "      <td>32.0</td>\n",
       "      <td>0</td>\n",
       "      <td>0</td>\n",
       "      <td>7.7500</td>\n",
       "      <td>Q</td>\n",
       "      <td>Mr.</td>\n",
       "    </tr>\n",
       "  </tbody>\n",
       "</table>\n",
       "<p>891 rows × 8 columns</p>\n",
       "</div>"
      ]
     },
     "metadata": {},
     "output_type": "display_data"
    }
   ],
   "source": [
    "titanic_x"
   ]
  },
  {
   "cell_type": "markdown",
   "metadata": {
    "datalore": {
     "hide_input_from_viewers": true,
     "hide_output_from_viewers": true,
     "node_id": "zAjjAKljfHCvCTYEd2lzni",
     "type": "MD"
    }
   },
   "source": [
    "### 원핫 인코딩, 스케일러 적용"
   ]
  },
  {
   "cell_type": "code",
   "execution_count": 72,
   "metadata": {
    "datalore": {
     "hide_input_from_viewers": true,
     "hide_output_from_viewers": true,
     "node_id": "7v2fPCpeOLWBKjxUFMiOx1",
     "type": "CODE"
    }
   },
   "outputs": [],
   "source": [
    "# 카테고리 원핫인코딩 일괄적용 \n",
    "\n",
    "#Categories\n",
    "exclue_age_numeric_features = [ 'SibSp', 'Parch', 'Fare', ]\n",
    "numeric_features = ['Age', 'SibSp', 'Parch', 'Fare', ]\n",
    "categorical_features = ['Pclass', 'Sex', 'Embarked', 'Title']\n",
    "\n",
    "#Model \n",
    "numeric_transformer = MinMaxScaler() # cf) RobustScaler\n",
    "categorical_transformer = OneHotEncoder(sparse=False, handle_unknown='ignore') \n",
    "\n",
    "#전처리 파이프라인\n",
    "categori_preprocessor = ColumnTransformer(\n",
    "        [('cat', categorical_transformer, categorical_features),\n",
    "        ('numeri', numeric_transformer, exclue_age_numeric_features)],\n",
    "        remainder='passthrough'\n",
    ")"
   ]
  },
  {
   "cell_type": "markdown",
   "metadata": {
    "datalore": {
     "hide_input_from_viewers": false,
     "hide_output_from_viewers": false,
     "node_id": "OmBybZFG5QzPH54CXY4K7O",
     "report_properties": {
      "y": 189
     },
     "type": "MD"
    }
   },
   "source": [
    "<br>\n",
    "\n",
    "## 3. Create model instance variable (동시에 여러 모델을 다른 이름으로 만들 수 있습니다.)"
   ]
  },
  {
   "cell_type": "code",
   "execution_count": null,
   "metadata": {
    "datalore": {
     "hide_input_from_viewers": false,
     "hide_output_from_viewers": false,
     "node_id": "sMbe10eKCRwN5LpqbYCXK2",
     "report_properties": {},
     "type": "CODE"
    }
   },
   "outputs": [],
   "source": []
  },
  {
   "cell_type": "markdown",
   "metadata": {
    "datalore": {
     "hide_input_from_viewers": false,
     "hide_output_from_viewers": false,
     "node_id": "VKQ4YGztFDDDsUmvC11YdM",
     "report_properties": {
      "y": 192
     },
     "type": "MD"
    }
   },
   "source": [
    "<br>\n",
    "\n",
    "## 4. Train the model"
   ]
  },
  {
   "cell_type": "code",
   "execution_count": null,
   "metadata": {
    "datalore": {
     "hide_input_from_viewers": false,
     "hide_output_from_viewers": false,
     "node_id": "XchHxk7SmE6bwX0fqXzRNI",
     "report_properties": {},
     "type": "CODE"
    }
   },
   "outputs": [],
   "source": []
  },
  {
   "cell_type": "markdown",
   "metadata": {
    "datalore": {
     "hide_input_from_viewers": false,
     "hide_output_from_viewers": false,
     "node_id": "OhoURvzsIk6py3fFprwptG",
     "report_properties": {
      "y": 195
     },
     "type": "MD"
    }
   },
   "source": [
    "<br>\n",
    "\n",
    "## 5. Predict on test data & Check the result with metrics (모델 간 비교가 가능합니다.)"
   ]
  },
  {
   "cell_type": "code",
   "execution_count": null,
   "metadata": {
    "datalore": {
     "hide_input_from_viewers": false,
     "hide_output_from_viewers": false,
     "node_id": "AMgDbSIqQtVFMycQaXJBTW",
     "report_properties": {},
     "type": "CODE"
    }
   },
   "outputs": [],
   "source": []
  },
  {
   "cell_type": "markdown",
   "metadata": {
    "datalore": {
     "hide_input_from_viewers": false,
     "hide_output_from_viewers": false,
     "node_id": "Sheet 2",
     "sheet_delimiter": true,
     "type": "MD"
    }
   },
   "source": [
    "# Sheet 2"
   ]
  },
  {
   "cell_type": "code",
   "execution_count": 73,
   "metadata": {
    "datalore": {
     "hide_input_from_viewers": true,
     "hide_output_from_viewers": true,
     "node_id": "ThD8aWb4gxXkpuRcGSChd5",
     "type": "CODE"
    }
   },
   "outputs": [
    {
     "data": {
      "text/html": [
       "<div>\n",
       "<style scoped>\n",
       "    .dataframe tbody tr th:only-of-type {\n",
       "        vertical-align: middle;\n",
       "    }\n",
       "\n",
       "    .dataframe tbody tr th {\n",
       "        vertical-align: top;\n",
       "    }\n",
       "\n",
       "    .dataframe thead th {\n",
       "        text-align: right;\n",
       "    }\n",
       "</style>\n",
       "<table border=\"1\" class=\"dataframe\">\n",
       "  <thead>\n",
       "    <tr style=\"text-align: right;\">\n",
       "      <th></th>\n",
       "      <th>Pclass</th>\n",
       "      <th>Sex</th>\n",
       "      <th>Age</th>\n",
       "      <th>SibSp</th>\n",
       "      <th>Parch</th>\n",
       "      <th>Fare</th>\n",
       "      <th>Embarked</th>\n",
       "      <th>Title</th>\n",
       "    </tr>\n",
       "  </thead>\n",
       "  <tbody>\n",
       "    <tr>\n",
       "      <th>0</th>\n",
       "      <td>3</td>\n",
       "      <td>male</td>\n",
       "      <td>22.0</td>\n",
       "      <td>1</td>\n",
       "      <td>0</td>\n",
       "      <td>7.2500</td>\n",
       "      <td>S</td>\n",
       "      <td>Mr.</td>\n",
       "    </tr>\n",
       "    <tr>\n",
       "      <th>1</th>\n",
       "      <td>1</td>\n",
       "      <td>female</td>\n",
       "      <td>38.0</td>\n",
       "      <td>1</td>\n",
       "      <td>0</td>\n",
       "      <td>71.2833</td>\n",
       "      <td>C</td>\n",
       "      <td>Mrs.</td>\n",
       "    </tr>\n",
       "    <tr>\n",
       "      <th>2</th>\n",
       "      <td>3</td>\n",
       "      <td>female</td>\n",
       "      <td>26.0</td>\n",
       "      <td>0</td>\n",
       "      <td>0</td>\n",
       "      <td>7.9250</td>\n",
       "      <td>S</td>\n",
       "      <td>Miss.</td>\n",
       "    </tr>\n",
       "    <tr>\n",
       "      <th>3</th>\n",
       "      <td>1</td>\n",
       "      <td>female</td>\n",
       "      <td>35.0</td>\n",
       "      <td>1</td>\n",
       "      <td>0</td>\n",
       "      <td>53.1000</td>\n",
       "      <td>S</td>\n",
       "      <td>Mrs.</td>\n",
       "    </tr>\n",
       "    <tr>\n",
       "      <th>4</th>\n",
       "      <td>3</td>\n",
       "      <td>male</td>\n",
       "      <td>35.0</td>\n",
       "      <td>0</td>\n",
       "      <td>0</td>\n",
       "      <td>8.0500</td>\n",
       "      <td>S</td>\n",
       "      <td>Mr.</td>\n",
       "    </tr>\n",
       "    <tr>\n",
       "      <th>...</th>\n",
       "      <td>...</td>\n",
       "      <td>...</td>\n",
       "      <td>...</td>\n",
       "      <td>...</td>\n",
       "      <td>...</td>\n",
       "      <td>...</td>\n",
       "      <td>...</td>\n",
       "      <td>...</td>\n",
       "    </tr>\n",
       "    <tr>\n",
       "      <th>886</th>\n",
       "      <td>2</td>\n",
       "      <td>male</td>\n",
       "      <td>27.0</td>\n",
       "      <td>0</td>\n",
       "      <td>0</td>\n",
       "      <td>13.0000</td>\n",
       "      <td>S</td>\n",
       "      <td>etc</td>\n",
       "    </tr>\n",
       "    <tr>\n",
       "      <th>887</th>\n",
       "      <td>1</td>\n",
       "      <td>female</td>\n",
       "      <td>19.0</td>\n",
       "      <td>0</td>\n",
       "      <td>0</td>\n",
       "      <td>30.0000</td>\n",
       "      <td>S</td>\n",
       "      <td>Miss.</td>\n",
       "    </tr>\n",
       "    <tr>\n",
       "      <th>888</th>\n",
       "      <td>3</td>\n",
       "      <td>female</td>\n",
       "      <td>NaN</td>\n",
       "      <td>1</td>\n",
       "      <td>2</td>\n",
       "      <td>23.4500</td>\n",
       "      <td>S</td>\n",
       "      <td>Miss.</td>\n",
       "    </tr>\n",
       "    <tr>\n",
       "      <th>889</th>\n",
       "      <td>1</td>\n",
       "      <td>male</td>\n",
       "      <td>26.0</td>\n",
       "      <td>0</td>\n",
       "      <td>0</td>\n",
       "      <td>30.0000</td>\n",
       "      <td>C</td>\n",
       "      <td>Mr.</td>\n",
       "    </tr>\n",
       "    <tr>\n",
       "      <th>890</th>\n",
       "      <td>3</td>\n",
       "      <td>male</td>\n",
       "      <td>32.0</td>\n",
       "      <td>0</td>\n",
       "      <td>0</td>\n",
       "      <td>7.7500</td>\n",
       "      <td>Q</td>\n",
       "      <td>Mr.</td>\n",
       "    </tr>\n",
       "  </tbody>\n",
       "</table>\n",
       "<p>891 rows × 8 columns</p>\n",
       "</div>"
      ]
     },
     "metadata": {},
     "output_type": "display_data"
    }
   ],
   "source": [
    "data_df"
   ]
  },
  {
   "cell_type": "code",
   "execution_count": null,
   "metadata": {
    "datalore": {
     "hide_input_from_viewers": true,
     "hide_output_from_viewers": true,
     "node_id": "MXwNRDmKXC5pVTgcFm4YV3",
     "type": "CODE"
    }
   },
   "outputs": [],
   "source": []
  }
 ],
 "metadata": {
  "datalore": {
   "base_environment": "default",
   "computation_mode": "JUPYTER",
   "package_manager": "pip",
   "packages": [],
   "version": 1
  },
  "kernelspec": {
   "display_name": "Python 3",
   "language": "python",
   "name": "python3"
  },
  "language_info": {
   "codemirror_mode": {
    "name": "ipython",
    "version": 3
   },
   "file_extension": ".py",
   "mimetype": "text/x-python",
   "name": "python",
   "nbconvert_exporter": "python",
   "pygments_lexer": "ipython3",
   "version": "3.8.8"
  }
 },
 "nbformat": 4,
 "nbformat_minor": 4
}
